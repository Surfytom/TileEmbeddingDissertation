{
 "cells": [
  {
   "cell_type": "code",
   "execution_count": 1,
   "metadata": {},
   "outputs": [],
   "source": [
    "import glob\n",
    "import pandas as pd\n",
    "\n",
    "import Utils.Data.DataGen as DataGen"
   ]
  },
  {
   "cell_type": "code",
   "execution_count": 2,
   "metadata": {},
   "outputs": [],
   "source": [
    "loderunnerTextLevelPaths = glob.glob(\"../data/vglc/Lode Runner/Processed/*.txt\")\n",
    "kidicTextLevelPaths = glob.glob(\"../data/vglc/Kid Icarus/Processed/*.txt\")\n",
    "megamanTextLevelPaths = glob.glob(\"../data/vglc/MegaMan/megaman_[0-9]_[0-9].txt\") + glob.glob(\"../data/vglc/MegaMan/megaman_[0-9]_[0-9][0-9].txt\")\n",
    "smbTextLevelPaths = glob.glob(\"../data/vglc/Super Mario Bros/Processed_Fixed/*.txt\")\n",
    "lozTextLevelPaths = glob.glob(\"../data/vglc/The Legend of Zelda/Processed/tloz[0-9]_[0-9].txt\")\n",
    "\n",
    "allLevelPaths = {\n",
    "    \"kidicarus\": {\"levelPaths\": kidicTextLevelPaths, \"spritesPath\" : \"../data/vglc/Kid Icarus/KidIcarus.json\"},\n",
    "    \"loderunner\": {\"levelPaths\": loderunnerTextLevelPaths, \"spritesPath\": \"../data/vglc/Lode Runner/Loderunner.json\"},\n",
    "    \"megaman\": {\"levelPaths\": megamanTextLevelPaths, \"spritesPath\": \"../data/vglc/MegaMan/megaman.json\"},\n",
    "    \"supermariobros\": {\"levelPaths\": smbTextLevelPaths, \"spritesPath\": \"../data/vglc/Super Mario Bros/smb.json\"},\n",
    "    \"thelegendofzelda\": {\"levelPaths\": lozTextLevelPaths, \"spritesPath\": \"../data/vglc/The Legend of Zelda/loz.json\"},\n",
    "}"
   ]
  },
  {
   "cell_type": "code",
   "execution_count": 3,
   "metadata": {},
   "outputs": [
    {
     "name": "stdout",
     "output_type": "stream",
     "text": [
      "Folder Name: kidicarus\n",
      "Folder Name: loderunner\n",
      "Folder Name: megaman\n",
      "Folder Name: supermariobros\n",
      "Folder Name: thelegendofzelda\n",
      "Total Unique Combos of Tiles: 22937\n"
     ]
    }
   ],
   "source": [
    "DataGen.GenerateData(allLevelPaths, \"../data/tomData/unshuffled3x3tile.csv\")"
   ]
  },
  {
   "cell_type": "markdown",
   "metadata": {},
   "source": [
    "# Testing Duplicates from Original Game Data"
   ]
  },
  {
   "cell_type": "code",
   "execution_count": 3,
   "metadata": {},
   "outputs": [
    {
     "name": "stdout",
     "output_type": "stream",
     "text": [
      "(25394, 6)\n"
     ]
    }
   ],
   "source": [
    "game_data_path=\"../data/game_data.csv\"\n",
    "data=pd.read_csv(game_data_path)\n",
    "print(data.shape)"
   ]
  },
  {
   "cell_type": "code",
   "execution_count": 6,
   "metadata": {},
   "outputs": [
    {
     "data": {
      "text/plain": [
       "['kid_icarus', 'smb', 'lode_runner', 'loz', 'megaman']"
      ]
     },
     "execution_count": 6,
     "metadata": {},
     "output_type": "execute_result"
    }
   ],
   "source": [
    "gameList = data[\"game_identifier\"].unique().tolist()\n",
    "gameList"
   ]
  },
  {
   "cell_type": "code",
   "execution_count": 7,
   "metadata": {},
   "outputs": [],
   "source": [
    "kidIcDf = data.loc[data[\"game_identifier\"] == gameList[0]]\n",
    "smbDf = data.loc[data[\"game_identifier\"] == gameList[1]]\n",
    "lodeRunnerDf = data.loc[data[\"game_identifier\"] == gameList[2]]\n",
    "lozDf = data.loc[data[\"game_identifier\"] == gameList[3]]\n",
    "megaManDf = data.loc[data[\"game_identifier\"] == gameList[4]]\n",
    "\n",
    "gamesDfs = [kidIcDf, smbDf, lodeRunnerDf, lozDf, megaManDf]"
   ]
  },
  {
   "cell_type": "code",
   "execution_count": 18,
   "metadata": {},
   "outputs": [
    {
     "name": "stdout",
     "output_type": "stream",
     "text": [
      "kid_icarus\n",
      "1011\n",
      "1011\n",
      "798\n",
      "798\n",
      "798\n",
      "\n",
      "smb\n",
      "1999\n",
      "1999\n",
      "1703\n",
      "922\n",
      "1703\n",
      "\n",
      "lode_runner\n",
      "17551\n",
      "17551\n",
      "15151\n",
      "15151\n",
      "15151\n",
      "\n",
      "loz\n",
      "1662\n",
      "1662\n",
      "1626\n",
      "1626\n",
      "1626\n",
      "\n",
      "megaman\n",
      "3171\n",
      "3171\n",
      "2937\n",
      "2937\n",
      "2937\n",
      "\n",
      "Total:  22215\n"
     ]
    }
   ],
   "source": [
    "total = 0\n",
    "\n",
    "for i, gameDf in enumerate(gamesDfs):\n",
    "    totalC = 0\n",
    "    print(gameList[i])\n",
    "    print(gameDf.shape[0])\n",
    "    noDups = gameDf.drop_duplicates()\n",
    "    print(noDups.shape[0])\n",
    "    \n",
    "\n",
    "    if gameList[i] != 'smb':\n",
    "        # totalC += gameDf[gameDf[\"context_string\"].str.contains(\" |X\", regex=True)].shape[0]\n",
    "        totalC += gameDf[gameDf[\"context_string\"].str.contains(\" |x\", regex=True)].shape[0]\n",
    "    else:\n",
    "        totalC += gameDf[gameDf[\"context_string\"].str.contains(\" \")].shape[0]\n",
    "\n",
    "    print(gameDf.shape[0] - gameDf[gameDf[\"context_string\"].str.contains(\" \")].shape[0])\n",
    "    print(gameDf.shape[0] - gameDf[gameDf[\"context_string\"].str.contains(\" |X\", regex=True)].shape[0])\n",
    "    print(gameDf.shape[0] - gameDf[gameDf[\"context_string\"].str.contains(\" |x\", regex=True)].shape[0])\n",
    "    print(\"\")\n",
    "\n",
    "    total += gameDf.shape[0] - totalC\n",
    "\n",
    "print(\"Total: \", total)"
   ]
  },
  {
   "cell_type": "code",
   "execution_count": 9,
   "metadata": {},
   "outputs": [],
   "source": [
    "a = gamesDfs[0][[\"context_string\"]]"
   ]
  },
  {
   "cell_type": "code",
   "execution_count": 10,
   "metadata": {},
   "outputs": [
    {
     "data": {
      "text/plain": [
       "798"
      ]
     },
     "execution_count": 10,
     "metadata": {},
     "output_type": "execute_result"
    }
   ],
   "source": [
    "a.shape[0] - a[a[\"context_string\"].str.contains(\" \")].shape[0]"
   ]
  }
 ],
 "metadata": {
  "kernelspec": {
   "display_name": "DissEnv",
   "language": "python",
   "name": "python3"
  },
  "language_info": {
   "codemirror_mode": {
    "name": "ipython",
    "version": 3
   },
   "file_extension": ".py",
   "mimetype": "text/x-python",
   "name": "python",
   "nbconvert_exporter": "python",
   "pygments_lexer": "ipython3",
   "version": "3.10.14"
  }
 },
 "nbformat": 4,
 "nbformat_minor": 2
}
