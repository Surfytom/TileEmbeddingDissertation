{
 "cells": [
  {
   "cell_type": "code",
   "execution_count": 1,
   "metadata": {},
   "outputs": [],
   "source": [
    "import cv2\n",
    "import glob\n",
    "import numpy as np\n",
    "import os\n",
    "import json\n",
    "import pickle\n",
    "\n",
    "import Utils.Data.DataGen as DataGen\n",
    "import Utils.Data.DataLoading as DataLoading\n",
    "import Utils.PTModel.Inference as Inference\n",
    "\n",
    "MODELNAME = \"TestDropLRVAE2\""
   ]
  },
  {
   "cell_type": "code",
   "execution_count": 2,
   "metadata": {},
   "outputs": [],
   "source": [
    "# Code to generate fixed lode runner (16 x 16 tile instead of 8 x 8) levels using my resizing solution\n",
    "# If the path \"../data/vglc/Lode Runner/Original_Fixed_Tom\" already contains 150 lode runner levels don't run the code\n",
    "# If the levels are not there make sure the folder \"../data/vglc/Lode Runner/Original_Fixed_Tom\" is deleted then run this block of code\n",
    "\n",
    "if not os.path.isdir(\"../data/vglc/Lode Runner/Original_Fixed_Tom\"):\n",
    "    os.mkdir(\"../data/vglc/Lode Runner/Original_Fixed_Tom\")\n",
    "\n",
    "    lrLevelPaths = sorted(glob.glob(\"../data/vglc/Lode Runner/Processed/*.txt\"))\n",
    "    lrLevelStrings = []\n",
    "\n",
    "    for levelPath in lrLevelPaths:\n",
    "        with open(levelPath, \"r\") as f:\n",
    "            levelString = np.array([list(line[:-1]) for line in f.readlines()])\n",
    "            \n",
    "        DataLoading.TextTileToImage(levelString, 16, \"../data/tomData/sprites/loderunner\", savePath=\"../data/vglc/Lode Runner/Original_Fixed_Tom\", fileNameOverride=levelPath[35:-4], cvtColor=False)"
   ]
  },
  {
   "cell_type": "code",
   "execution_count": 3,
   "metadata": {},
   "outputs": [],
   "source": [
    "# Gets lode runner level images and adds 16 x 16 border around the edge then splits into 3x3 kernels\n",
    "lrLevelPaths = sorted(glob.glob(\"../data/vglc/Lode Runner/Original_Fixed_Tom/*.png\"))\n",
    "lrLevels = [cv2.copyMakeBorder(cv2.cvtColor(cv2.imread(levelPath), cv2.COLOR_BGR2RGB), 16, 16, 16, 16, cv2.BORDER_CONSTANT) for levelPath in lrLevelPaths]\n",
    "lrLevelKernals = [DataGen.ResizeLevel(level, 16, 3, columnWise=False) for level in lrLevels]"
   ]
  },
  {
   "cell_type": "code",
   "execution_count": 4,
   "metadata": {},
   "outputs": [],
   "source": [
    "# Gets affordances for all lode runner levels in correct format and layout\n",
    "lrStringLevelPaths = sorted(glob.glob(\"../data/vglc/Lode Runner/Processed/*.txt\"))\n",
    "\n",
    "with open(\"../data/vglc/Lode Runner/Loderunner.json\", \"r\") as f:\n",
    "    affordanceJson = json.load(f)[\"tiles\"]\n",
    "\n",
    "with open(\"../data/tomData/AffordanceTrainDataDictionary.pickle\", \"rb\") as f:\n",
    "    affordanceDict = pickle.load(f)\n",
    "\n",
    "levelStrings = []\n",
    "lrLevelEncodedAffordances = []\n",
    "\n",
    "for i, levelStringPath in enumerate(lrStringLevelPaths):\n",
    "    with open(levelStringPath, \"r\") as f:\n",
    "        levelString = np.array([list(line[:-1]) for line in f.readlines()])\n",
    "    levelString = np.pad(levelString, 1, constant_values='.')\n",
    "    \n",
    "    lrStringLevelKernals = DataGen.ResizeLevel(levelString, 1, 3, columnWise=False)\n",
    "    lrStringAffordances = [DataGen.GetAffordances(kernel, affordanceJson, True) for kernel in lrStringLevelKernals]\n",
    "\n",
    "    lrLevelEncodedAffordances.append([np.sum(np.array([np.where(np.array(list(affordanceDict.keys())) == affordance, 1, 0) for affordance in affordanceList]), axis=0) for affordanceList in lrStringAffordances])\n",
    "\n",
    "lrLevelEncodedAffordances = np.array(lrLevelEncodedAffordances)"
   ]
  },
  {
   "cell_type": "code",
   "execution_count": 6,
   "metadata": {},
   "outputs": [],
   "source": [
    "Inference.SaveLevelUnifiedRepresentation(None, lrLevelKernals, MODELNAME, \"loderunner\", affordanceData=lrLevelEncodedAffordances)"
   ]
  }
 ],
 "metadata": {
  "kernelspec": {
   "display_name": "DissEnv",
   "language": "python",
   "name": "python3"
  },
  "language_info": {
   "codemirror_mode": {
    "name": "ipython",
    "version": 3
   },
   "file_extension": ".py",
   "mimetype": "text/x-python",
   "name": "python",
   "nbconvert_exporter": "python",
   "pygments_lexer": "ipython3",
   "version": "3.10.14"
  }
 },
 "nbformat": 4,
 "nbformat_minor": 2
}
