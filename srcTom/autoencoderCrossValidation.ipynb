{
 "cells": [
  {
   "cell_type": "code",
   "execution_count": 1,
   "metadata": {},
   "outputs": [],
   "source": [
    "import Utils.PTModel.Training as Training\n",
    "import Utils.Data.DataLoading as DataLoading"
   ]
  },
  {
   "cell_type": "code",
   "execution_count": 2,
   "metadata": {},
   "outputs": [
    {
     "name": "stdout",
     "output_type": "stream",
     "text": [
      "Unique Affordance Array: {'climbable', 'wall', 'passable', 'hazard', 'empty', 'collectable', 'breakable', 'element', 'openable', 'pipe', 'solid', 'moving', 'block'}\n",
      "TFIDF Weight Array: tensor([4.9633, 3.6799, 1.9535, 4.4612, 2.0802, 5.0192, 4.4744, 3.9129, 4.7846,\n",
      "        5.4777, 1.5683, 5.0192, 3.4377])\n",
      "TFIDF Weight Array: tensor([2.5969, 0.0000, 1.5074, 4.8912, 2.0638, 3.9553, 2.4590, 0.0000, 7.5223,\n",
      "        6.8108, 1.9175, 6.3522, 0.0000])\n",
      "TFIDF Weight Array: tensor([2.6287, 5.0217, 1.5749, 5.0308, 2.1699, 4.0014, 2.4773, 5.2547, 6.1263,\n",
      "        6.8195, 1.8468, 6.6372, 4.7795])\n",
      "TFIDF Weight Array: tensor([2.6360, 5.0529, 1.5881, 4.9445, 2.1532, 3.9953, 2.4989, 5.2859, 6.4272,\n",
      "        6.8507, 1.8553, 6.8327, 4.8106])\n",
      "TFIDF Weight Array: tensor([2.6372, 5.0540, 1.5883, 4.9871, 2.1702, 4.0512, 2.5257, 5.2870, 6.1587,\n",
      "        0.0000, 1.8340, 6.8889, 4.8118])\n"
     ]
    }
   ],
   "source": [
    "crossValidationData = DataLoading.LoadCrossValTrainTestData(\"../data/tomData/unshuffled3x3tiles.csv\", shuffle=True)"
   ]
  },
  {
   "cell_type": "code",
   "execution_count": 6,
   "metadata": {},
   "outputs": [
    {
     "name": "stdout",
     "output_type": "stream",
     "text": [
      "loderunner\n",
      "trainDataShape: (4841, 7) | testDataShape: (15151, 7)\n",
      "Epoch 0: loss 9436.372581080386\n",
      "thelegendofzelda\n",
      "trainDataShape: (18362, 7) | testDataShape: (1630, 7)\n",
      "Epoch 0: loss 6224.911931586183\n",
      "megaman\n",
      "trainDataShape: (18523, 7) | testDataShape: (1469, 7)\n",
      "Epoch 0: loss 5943.071276834386\n",
      "kidicarus\n",
      "trainDataShape: (19110, 7) | testDataShape: (882, 7)\n",
      "Epoch 0: loss 6201.931877825173\n",
      "supermariobros\n",
      "trainDataShape: (19132, 7) | testDataShape: (860, 7)\n",
      "Epoch 0: loss 6330.416450832201\n"
     ]
    }
   ],
   "source": [
    "for k, v in crossValidationData.items():\n",
    "    print(k)\n",
    "    print(f\"trainDataShape: {v['trainData'].shape} | testDataShape: {v['testData'].shape}\")\n",
    "    Training.TrainModel(v, 1, 32)\n",
    "    print(\"\")"
   ]
  }
 ],
 "metadata": {
  "kernelspec": {
   "display_name": "DissEnv",
   "language": "python",
   "name": "python3"
  },
  "language_info": {
   "codemirror_mode": {
    "name": "ipython",
    "version": 3
   },
   "file_extension": ".py",
   "mimetype": "text/x-python",
   "name": "python",
   "nbconvert_exporter": "python",
   "pygments_lexer": "ipython3",
   "version": "3.10.14"
  }
 },
 "nbformat": 4,
 "nbformat_minor": 2
}
