{
 "cells": [
  {
   "cell_type": "code",
   "execution_count": 5,
   "metadata": {},
   "outputs": [],
   "source": [
    "import Utils.PTModel.Training as Training\n",
    "import Utils.PTModel.Inference as Inference\n",
    "import Utils.Data.DataLoading as DataLoading\n",
    "import Utils.PTModel.Models as Models\n",
    "\n",
    "import Utils.EvaluationMetrics.alphaScore as AS\n",
    "import Utils.EvaluationMetrics.exampleBased as EB\n",
    "import Utils.EvaluationMetrics.labelBased as LB\n",
    "\n",
    "import numpy as np"
   ]
  },
  {
   "cell_type": "code",
   "execution_count": 3,
   "metadata": {},
   "outputs": [],
   "source": [
    "crossValidationData = DataLoading.LoadCrossValTrainTestData(\"../data/tomData/unshuffled3x3tiles.csv\", shuffle=True)"
   ]
  },
  {
   "cell_type": "code",
   "execution_count": 6,
   "metadata": {},
   "outputs": [
    {
     "name": "stdout",
     "output_type": "stream",
     "text": [
      "--- Cross Validation Testing For Model ---\n",
      "\n",
      "loderunner\n",
      "trainDataShape: (4841, 7) | testDataShape: (15151, 7)\n"
     ]
    },
    {
     "name": "stderr",
     "output_type": "stream",
     "text": [
      "/home/surfytom/Projects/Dissertation/Repos/TileEmbeddingDissertation/srcTom/Utils/PTModel/Training.py:48: UserWarning: Creating a tensor from a list of numpy.ndarrays is extremely slow. Please consider converting the list to a single numpy.ndarray with numpy.array() before converting to a tensor. (Triggered internally at ../torch/csrc/utils/tensor_new.cpp:274.)\n",
      "  xTextbatch = torch.tensor(trainData.iloc[j:j+batchSize][\"encodedAffordances\"].tolist(), dtype=torch.float32).to(device)\n"
     ]
    },
    {
     "name": "stdout",
     "output_type": "stream",
     "text": [
      "Epoch 0: loss 9578.91649426912\n",
      "\n",
      "\n",
      "Alpha Score: 0.22764336634912619\n",
      "\n",
      "Example Based Accuracy: 0.21594834224363627\n",
      "Example Based Precision: 0.33228829780212527\n",
      "Example Based Recall: 0.215959342617649\n",
      "\n",
      "Micro\n",
      "Label Based Accuracy: 0.15882278978824615\n",
      "Label Based Precision: 0.6338116526603699\n",
      "Label Based Recall: 0.1748688966035843\n",
      "\n",
      "Macro\n",
      "Label Based Accuracy: 0.0441668308698214\n",
      "Label Based Precision: 0.14110095684344953\n",
      "Label Based Recall: 0.06597078763521634\n",
      "thelegendofzelda\n",
      "trainDataShape: (18362, 7) | testDataShape: (1630, 7)\n"
     ]
    },
    {
     "name": "stderr",
     "output_type": "stream",
     "text": [
      "/home/surfytom/Projects/Dissertation/Repos/TileEmbeddingDissertation/srcTom/Utils/EvaluationMetrics/exampleBased.py:34: RuntimeWarning: invalid value encountered in divide\n",
      "  avg_precision=np.nansum(p_n/p_d)/float(n)\n",
      "/home/surfytom/Projects/Dissertation/Repos/TileEmbeddingDissertation/srcTom/Utils/EvaluationMetrics/labelBased.py:16: RuntimeWarning: invalid value encountered in divide\n",
      "  sum_acc=np.nansum(p_n/p_d)\n",
      "/home/surfytom/Projects/Dissertation/Repos/TileEmbeddingDissertation/srcTom/Utils/EvaluationMetrics/labelBased.py:31: RuntimeWarning: invalid value encountered in divide\n",
      "  sum_precision=np.nansum(p_n/p_d)\n",
      "/home/surfytom/Projects/Dissertation/Repos/TileEmbeddingDissertation/srcTom/Utils/EvaluationMetrics/labelBased.py:46: RuntimeWarning: invalid value encountered in divide\n",
      "  sum_recall=np.nansum(p_n/p_d)\n"
     ]
    },
    {
     "name": "stdout",
     "output_type": "stream",
     "text": [
      "Epoch 0: loss 6315.097610314133\n",
      "\n",
      "\n",
      "Alpha Score: 0.6496461071789686\n",
      "\n",
      "Example Based Accuracy: 0.5290593047034765\n",
      "Example Based Precision: 0.6288854306460889\n",
      "Example Based Recall: 0.6736196319018405\n",
      "\n",
      "Micro\n",
      "Label Based Accuracy: 0.3880181908607483\n",
      "Label Based Precision: 0.5265865921974182\n",
      "Label Based Recall: 0.5958850979804993\n",
      "\n",
      "Macro\n",
      "Label Based Accuracy: 0.2017663808969351\n",
      "Label Based Precision: 0.2110284475179819\n",
      "Label Based Recall: 0.2582853757418119\n",
      "megaman\n",
      "trainDataShape: (18523, 7) | testDataShape: (1469, 7)\n",
      "Epoch 0: loss 6079.069455267028\n",
      "\n",
      "\n",
      "Alpha Score: 0.799879626843214\n",
      "\n",
      "Example Based Accuracy: 0.518081991754558\n",
      "Example Based Precision: 0.5290932859832369\n",
      "Example Based Recall: 0.9155888359428183\n",
      "\n",
      "Micro\n",
      "Label Based Accuracy: 0.3114655315876007\n",
      "Label Based Precision: 0.323538601398468\n",
      "Label Based Recall: 0.893011212348938\n",
      "\n",
      "Macro\n",
      "Label Based Accuracy: 0.23921986726614144\n",
      "Label Based Precision: 0.26031230046198917\n",
      "Label Based Recall: 0.3803531206571139\n",
      "kidicarus\n",
      "trainDataShape: (19110, 7) | testDataShape: (882, 7)\n",
      "Epoch 0: loss 6319.068347943667\n",
      "\n",
      "\n",
      "Alpha Score: 0.8323680823680824\n",
      "\n",
      "Example Based Accuracy: 0.8693310657596371\n",
      "Example Based Precision: 0.9540816326530612\n",
      "Example Based Recall: 0.8722599920502055\n",
      "\n",
      "Micro\n",
      "Label Based Accuracy: 0.8043758273124695\n",
      "Label Based Precision: 0.9556574821472168\n",
      "Label Based Recall: 0.8355615139007568\n",
      "\n",
      "Macro\n",
      "Label Based Accuracy: 0.19763357822711652\n",
      "Label Based Precision: 0.22052737382742074\n",
      "Label Based Recall: 0.2063440909752479\n",
      "supermariobros\n",
      "trainDataShape: (19132, 7) | testDataShape: (860, 7)\n",
      "Epoch 0: loss 6462.53430992305\n",
      "\n",
      "\n",
      "Alpha Score: 0.8025729836714498\n",
      "\n",
      "Example Based Accuracy: 0.7290966139803349\n",
      "Example Based Precision: 0.7664997189543968\n",
      "Example Based Recall: 0.8290697674418605\n",
      "\n",
      "Micro\n",
      "Label Based Accuracy: 0.6467095613479614\n",
      "Label Based Precision: 0.7568036913871765\n",
      "Label Based Recall: 0.8163647651672363\n",
      "\n",
      "Macro\n",
      "Label Based Accuracy: 0.21700635323157677\n",
      "Label Based Precision: 0.22291102776160607\n",
      "Label Based Recall: 0.2677348577059232\n"
     ]
    }
   ],
   "source": [
    "print(f\"--- Cross Validation Testing For Model ---\")\n",
    "\n",
    "for k, v in crossValidationData.items():\n",
    "    print(f\"\\n{k}\")\n",
    "    print(f\"trainDataShape: {v['trainData'].shape} | testDataShape: {v['testData'].shape}\")\n",
    "\n",
    "    model = Training.TrainModel(v, 1, 32, Models.TileEmbeddingVAE)\n",
    "\n",
    "    yPredImage, yPredText = Inference.ModelInference(model, v['testData'])\n",
    "    yTruthText = np.array(v['testData'][\"encodedAffordances\"].to_list())\n",
    "\n",
    "    print(f\"\\nAlpha Score: {AS.alpha_score(yTruthText, yPredText)}\")\n",
    "\n",
    "    print(f\"\\nExample Based Accuracy: {EB.example_based_accuracy(yTruthText, yPredText)}\")\n",
    "    print(f\"Example Based Precision: {EB.example_based_precision(yTruthText, yPredText)}\")\n",
    "    print(f\"Example Based Recall: {EB.example_based_recall(yTruthText, yPredText)}\")\n",
    "\n",
    "    print(\"\\nMicro\")\n",
    "    print(f\"Label Based Accuracy: {LB.accuracy_micro(yTruthText, yPredText)}\")\n",
    "    print(f\"Label Based Precision: {LB.precision_micro(yTruthText, yPredText)}\")\n",
    "    print(f\"Label Based Recall: {LB.recall_micro(yTruthText, yPredText)}\")\n",
    "\n",
    "    print(\"\\nMacro\")\n",
    "    print(f\"Label Based Accuracy: {LB.accuracy_macro(yTruthText, yPredText)}\")\n",
    "    print(f\"Label Based Precision: {LB.precision_macro(yTruthText, yPredText)}\")\n",
    "    print(f\"Label Based Recall: {LB.recall_macro(yTruthText, yPredText)}\")"
   ]
  }
 ],
 "metadata": {
  "kernelspec": {
   "display_name": "DissEnv",
   "language": "python",
   "name": "python3"
  },
  "language_info": {
   "codemirror_mode": {
    "name": "ipython",
    "version": 3
   },
   "file_extension": ".py",
   "mimetype": "text/x-python",
   "name": "python",
   "nbconvert_exporter": "python",
   "pygments_lexer": "ipython3",
   "version": "3.10.14"
  }
 },
 "nbformat": 4,
 "nbformat_minor": 2
}
