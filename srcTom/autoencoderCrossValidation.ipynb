{
 "cells": [
  {
   "cell_type": "code",
   "execution_count": 1,
   "metadata": {},
   "outputs": [],
   "source": [
    "import Utils.PTModel.Training as Training\n",
    "import Utils.Data.DataLoading as DataLoading"
   ]
  },
  {
   "cell_type": "code",
   "execution_count": 2,
   "metadata": {},
   "outputs": [
    {
     "name": "stdout",
     "output_type": "stream",
     "text": [
      "{'passable', 'empty', 'hazard', 'element', 'wall', 'collectable', 'solid', 'breakable', 'pipe', 'block', 'moving', 'climbable', 'openable'}\n",
      "tensor([1.9535, 2.0802, 4.4612, 3.9129, 3.6799, 5.0192, 1.5683, 4.4744, 5.4777,\n",
      "        3.4377, 5.0192, 4.9633, 4.7846])\n"
     ]
    },
    {
     "name": "stderr",
     "output_type": "stream",
     "text": [
      "/home/surfytom/Projects/Dissertation/Repos/TileEmbeddingDissertation/srcTom/Utils/Data/DataLoading.py:105: SettingWithCopyWarning: \n",
      "A value is trying to be set on a copy of a slice from a DataFrame.\n",
      "Try using .loc[row_indexer,col_indexer] = value instead\n",
      "\n",
      "See the caveats in the documentation: https://pandas.pydata.org/pandas-docs/stable/user_guide/indexing.html#returning-a-view-versus-a-copy\n",
      "  testData[\"encodedAffordances\"] = [np.sum(np.array([np.where(np.array(list(affordanceDict.keys())) == affordance, 1, 0) for affordance in row['affordances']]), axis=0) for index, row in testData.iterrows()]\n"
     ]
    },
    {
     "name": "stdout",
     "output_type": "stream",
     "text": [
      "tensor([1.5074, 2.0638, 4.8912, 0.0000, 0.0000, 3.9553, 1.9175, 2.4590, 6.8108,\n",
      "        0.0000, 6.3522, 2.5969, 7.5223])\n"
     ]
    },
    {
     "name": "stderr",
     "output_type": "stream",
     "text": [
      "/home/surfytom/Projects/Dissertation/Repos/TileEmbeddingDissertation/srcTom/Utils/Data/DataLoading.py:105: SettingWithCopyWarning: \n",
      "A value is trying to be set on a copy of a slice from a DataFrame.\n",
      "Try using .loc[row_indexer,col_indexer] = value instead\n",
      "\n",
      "See the caveats in the documentation: https://pandas.pydata.org/pandas-docs/stable/user_guide/indexing.html#returning-a-view-versus-a-copy\n",
      "  testData[\"encodedAffordances\"] = [np.sum(np.array([np.where(np.array(list(affordanceDict.keys())) == affordance, 1, 0) for affordance in row['affordances']]), axis=0) for index, row in testData.iterrows()]\n"
     ]
    },
    {
     "name": "stdout",
     "output_type": "stream",
     "text": [
      "tensor([1.5749, 2.1699, 5.0308, 5.2547, 5.0217, 4.0014, 1.8468, 2.4773, 6.8195,\n",
      "        4.7795, 6.6372, 2.6287, 6.1263])\n"
     ]
    },
    {
     "name": "stderr",
     "output_type": "stream",
     "text": [
      "/home/surfytom/Projects/Dissertation/Repos/TileEmbeddingDissertation/srcTom/Utils/Data/DataLoading.py:105: SettingWithCopyWarning: \n",
      "A value is trying to be set on a copy of a slice from a DataFrame.\n",
      "Try using .loc[row_indexer,col_indexer] = value instead\n",
      "\n",
      "See the caveats in the documentation: https://pandas.pydata.org/pandas-docs/stable/user_guide/indexing.html#returning-a-view-versus-a-copy\n",
      "  testData[\"encodedAffordances\"] = [np.sum(np.array([np.where(np.array(list(affordanceDict.keys())) == affordance, 1, 0) for affordance in row['affordances']]), axis=0) for index, row in testData.iterrows()]\n"
     ]
    },
    {
     "name": "stdout",
     "output_type": "stream",
     "text": [
      "tensor([1.5881, 2.1532, 4.9445, 5.2859, 5.0529, 3.9953, 1.8553, 2.4989, 6.8507,\n",
      "        4.8106, 6.8327, 2.6360, 6.4272])\n"
     ]
    },
    {
     "name": "stderr",
     "output_type": "stream",
     "text": [
      "/home/surfytom/Projects/Dissertation/Repos/TileEmbeddingDissertation/srcTom/Utils/Data/DataLoading.py:105: SettingWithCopyWarning: \n",
      "A value is trying to be set on a copy of a slice from a DataFrame.\n",
      "Try using .loc[row_indexer,col_indexer] = value instead\n",
      "\n",
      "See the caveats in the documentation: https://pandas.pydata.org/pandas-docs/stable/user_guide/indexing.html#returning-a-view-versus-a-copy\n",
      "  testData[\"encodedAffordances\"] = [np.sum(np.array([np.where(np.array(list(affordanceDict.keys())) == affordance, 1, 0) for affordance in row['affordances']]), axis=0) for index, row in testData.iterrows()]\n"
     ]
    },
    {
     "name": "stdout",
     "output_type": "stream",
     "text": [
      "tensor([1.5883, 2.1702, 4.9871, 5.2870, 5.0540, 4.0512, 1.8340, 2.5257, 0.0000,\n",
      "        4.8118, 6.8889, 2.6372, 6.1587])\n"
     ]
    },
    {
     "name": "stderr",
     "output_type": "stream",
     "text": [
      "/home/surfytom/Projects/Dissertation/Repos/TileEmbeddingDissertation/srcTom/Utils/Data/DataLoading.py:105: SettingWithCopyWarning: \n",
      "A value is trying to be set on a copy of a slice from a DataFrame.\n",
      "Try using .loc[row_indexer,col_indexer] = value instead\n",
      "\n",
      "See the caveats in the documentation: https://pandas.pydata.org/pandas-docs/stable/user_guide/indexing.html#returning-a-view-versus-a-copy\n",
      "  testData[\"encodedAffordances\"] = [np.sum(np.array([np.where(np.array(list(affordanceDict.keys())) == affordance, 1, 0) for affordance in row['affordances']]), axis=0) for index, row in testData.iterrows()]\n"
     ]
    }
   ],
   "source": [
    "crossValidationData = DataLoading.LoadCrossValTrainTestData(\"../data/tomData/unshuffled3x3tiles.csv\", shuffle=True)"
   ]
  },
  {
   "cell_type": "code",
   "execution_count": 3,
   "metadata": {},
   "outputs": [
    {
     "name": "stdout",
     "output_type": "stream",
     "text": [
      "loderunner\n"
     ]
    },
    {
     "name": "stderr",
     "output_type": "stream",
     "text": [
      "/home/surfytom/Projects/Dissertation/Repos/TileEmbeddingDissertation/srcTom/Utils/PTModel/Training.py:48: UserWarning: Creating a tensor from a list of numpy.ndarrays is extremely slow. Please consider converting the list to a single numpy.ndarray with numpy.array() before converting to a tensor. (Triggered internally at ../torch/csrc/utils/tensor_new.cpp:274.)\n",
      "  xTextbatch = torch.tensor(trainData.iloc[j:j+batchSize][\"encodedAffordances\"].tolist(), dtype=torch.float32).to(device)\n"
     ]
    },
    {
     "name": "stdout",
     "output_type": "stream",
     "text": [
      "Epoch 0: loss 9427.175074527138\n",
      "thelegendofzelda\n",
      "Epoch 0: loss 6197.842279201601\n",
      "megaman\n",
      "Epoch 0: loss 5985.222892800761\n",
      "kidicarus\n",
      "Epoch 0: loss 6194.64386170046\n",
      "supermariobros\n",
      "Epoch 0: loss 6316.010258805393\n"
     ]
    }
   ],
   "source": [
    "for k, v in crossValidationData.items():\n",
    "    print(k)\n",
    "    Training.TrainModel(v, 1, 32)"
   ]
  }
 ],
 "metadata": {
  "kernelspec": {
   "display_name": "DissEnv",
   "language": "python",
   "name": "python3"
  },
  "language_info": {
   "codemirror_mode": {
    "name": "ipython",
    "version": 3
   },
   "file_extension": ".py",
   "mimetype": "text/x-python",
   "name": "python",
   "nbconvert_exporter": "python",
   "pygments_lexer": "ipython3",
   "version": "3.10.14"
  }
 },
 "nbformat": 4,
 "nbformat_minor": 2
}
