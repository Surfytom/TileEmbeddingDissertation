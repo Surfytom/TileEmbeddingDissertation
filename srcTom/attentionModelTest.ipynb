{
 "cells": [
  {
   "cell_type": "code",
   "execution_count": 3,
   "metadata": {},
   "outputs": [],
   "source": [
    "import torch\n",
    "import torch.nn as nn\n",
    "\n",
    "import numpy as np"
   ]
  },
  {
   "cell_type": "code",
   "execution_count": 48,
   "metadata": {},
   "outputs": [],
   "source": [
    "class TileEmbeddingVAE(nn.Module):\n",
    "\n",
    "    def __init__(self, debug=False):\n",
    "        super().__init__()\n",
    "\n",
    "        self.debug = debug\n",
    "\n",
    "        self.imgEncConv1 = nn.Conv2d(3, 32, kernel_size=3, stride=3)\n",
    "        self.imgEncConv2 = nn.Conv2d(32, 32, kernel_size=3, stride=1, padding=1)\n",
    "        self.imgEncConv3 = nn.Conv2d(32, 16, kernel_size=3, stride=1, padding=1)\n",
    "\n",
    "        self.imgEncBn1 = nn.BatchNorm2d(32)\n",
    "        self.imgEncBn2 = nn.BatchNorm2d(32)\n",
    "        self.imgEncBn3 = nn.BatchNorm2d(16)\n",
    "\n",
    "        self.imgEncMha = nn.MultiheadAttention(32, 1, batch_first=True)\n",
    "        self.imgEncScaler = nn.Parameter(torch.zeros(1))\n",
    "\n",
    "        self.imageEncoder = nn.Sequential(\n",
    "            nn.Conv2d(3, 32, kernel_size=3, stride=3),\n",
    "            nn.BatchNorm2d(32),\n",
    "            nn.Tanh(),\n",
    "            nn.Conv2d(32, 32, kernel_size=3, stride=1, padding=1),\n",
    "            nn.BatchNorm2d(32),\n",
    "            nn.Tanh(),\n",
    "            nn.Conv2d(32, 16, kernel_size=3, stride=1, padding=1),\n",
    "            nn.BatchNorm2d(16),\n",
    "            nn.Tanh(),\n",
    "            nn.Flatten(),\n",
    "        )\n",
    "\n",
    "        self.textEncoder = nn.Sequential(\n",
    "            nn.Linear(13, 32),\n",
    "            nn.Tanh(),\n",
    "            nn.Linear(32, 16),\n",
    "            nn.Tanh(),\n",
    "        )\n",
    "\n",
    "        self.embeddingLayer = nn.Linear(4112, 256)\n",
    "\n",
    "        self.imageDecoder = nn.Sequential(\n",
    "            nn.Linear(256, 4096),\n",
    "            nn.Unflatten(1, (16, 16, 16)),\n",
    "            nn.ConvTranspose2d(16, 32, kernel_size=3, stride=1, padding=1),\n",
    "            nn.BatchNorm2d(32),\n",
    "            nn.Tanh(),\n",
    "            nn.ConvTranspose2d(32, 32, kernel_size=3, stride=1, padding=1),\n",
    "            nn.BatchNorm2d(32),\n",
    "            nn.Tanh(),\n",
    "            nn.ConvTranspose2d(32, 3, kernel_size=3, stride=1, padding=1),\n",
    "        )\n",
    "\n",
    "        self.textDecoder = nn.Sequential(\n",
    "            nn.Linear(256, 16),\n",
    "            nn.Tanh(),\n",
    "            nn.Linear(16, 32),\n",
    "            nn.Tanh(),\n",
    "            nn.Linear(32, 13),\n",
    "            nn.Sigmoid(),\n",
    "        )\n",
    "\n",
    "    def useAttention(self, x):\n",
    "\n",
    "        bs, c, h, w = x.shape\n",
    "        x = x.reshape(bs, c, h * w).transpose(1, 2)\n",
    "\n",
    "        attOut, attMap = self.imgEncMha(x, x, x)\n",
    "\n",
    "        if self.debug:\n",
    "            print(f\"attOut shape: {attOut.size()}\")\n",
    "            print(f\"attMap shape: {attMap.size()}\")\n",
    "\n",
    "        attOut = attOut.transpose(1, 2).reshape(bs, c, h, w)\n",
    "\n",
    "        if self.debug:\n",
    "            print(f\"attOut reshaped shape: {attOut.size()}\")\n",
    "\n",
    "        return attOut, attMap\n",
    "\n",
    "    def encodeImage(self, xImages):\n",
    "\n",
    "        xImages = self.imgEncConv1(xImages)\n",
    "        xImages = self.imgEncBn1(xImages)\n",
    "        \n",
    "        xImages = self.imgEncScaler * self.useAttention(xImages)[0] + xImages\n",
    "\n",
    "        xImages = nn.functional.tanh(xImages)\n",
    "\n",
    "        xImages = self.imgEncConv2(xImages)\n",
    "        xImages = self.imgEncBn2(xImages)\n",
    "        xImages = nn.functional.tanh(xImages)\n",
    "\n",
    "        xImages = self.imgEncConv3(xImages)\n",
    "        xImages = self.imgEncBn3(xImages)\n",
    "        xImages = nn.functional.tanh(xImages)\n",
    "\n",
    "        if self.debug:\n",
    "            print(f\"xImages b4 flatten shape: {xImages.size()}\")\n",
    "\n",
    "        xImages = xImages.flatten(start_dim=1)\n",
    "\n",
    "        if self.debug:\n",
    "            print(f\"xImages flattened shape: {xImages.size()}\")\n",
    "\n",
    "        return xImages\n",
    "\n",
    "    def encode(self, xImages, xText):\n",
    "\n",
    "        if self.debug:\n",
    "            print(f\"xImages shape: {xImages.shape}\")\n",
    "            print(f\"xText shape: {xText.shape}\")\n",
    "\n",
    "        encodedImage = self.encodeImage(xImages)\n",
    "\n",
    "        encodedText = self.textEncoder(xText)\n",
    "\n",
    "        if self.debug:\n",
    "            print(f\"EncodedImage shape: {encodedImage.size()}\")\n",
    "            print(f\"encodedText shape: {encodedText.size()}\")\n",
    "\n",
    "        concatenateEmbeddding = torch.cat((encodedImage, encodedText), 1)\n",
    "\n",
    "        embedding = self.embeddingLayer(concatenateEmbeddding)\n",
    "\n",
    "        return embedding\n",
    "\n",
    "    def decode(self, embedding):\n",
    "        decodedImage = self.imageDecoder(embedding)\n",
    "        decodedText = self.textDecoder(embedding)\n",
    "        return decodedImage, decodedText\n",
    "\n",
    "    def forward(self, xImages, xText):\n",
    "        # Encoder\n",
    "        encodedEmbedding = self.encode(xImages, xText)\n",
    "\n",
    "        # Decoder\n",
    "        yPredImage, yPredText = self.decode(encodedEmbedding)\n",
    "        \n",
    "        return yPredImage, yPredText"
   ]
  },
  {
   "cell_type": "code",
   "execution_count": 51,
   "metadata": {},
   "outputs": [
    {
     "name": "stdout",
     "output_type": "stream",
     "text": [
      "xImages shape: torch.Size([10, 3, 48, 48])\n",
      "xText shape: torch.Size([10, 13])\n",
      "attOut shape: torch.Size([10, 256, 32])\n",
      "attMap shape: torch.Size([10, 256, 256])\n",
      "attOut reshaped shape: torch.Size([10, 32, 16, 16])\n",
      "xImages b4 flatten shape: torch.Size([10, 16, 16, 16])\n",
      "xImages flattened shape: torch.Size([10, 4096])\n",
      "EncodedImage shape: torch.Size([10, 4096])\n",
      "encodedText shape: torch.Size([10, 16])\n",
      "yPredImages shape: torch.Size([10, 3, 16, 16])\n",
      "yPredText shape: torch.Size([10, 13])\n"
     ]
    }
   ],
   "source": [
    "xTrainImages = torch.ones(10, 3, 48, 48)\n",
    "xTrainText = torch.ones(10, 13)\n",
    "\n",
    "model = TileEmbeddingVAE(debug=True)\n",
    "\n",
    "yPredImages, yPredText = model(xTrainImages, xTrainText)\n",
    "\n",
    "print(f\"yPredImages shape: {yPredImages.size()}\")\n",
    "print(f\"yPredText shape: {yPredText.size()}\")"
   ]
  },
  {
   "cell_type": "code",
   "execution_count": 73,
   "metadata": {},
   "outputs": [
    {
     "name": "stdout",
     "output_type": "stream",
     "text": [
      "TFIDF Weight Array: tensor([2.1321, 6.2026, 4.0443, 6.4670, 5.1142, 4.9313, 6.8857, 5.3510, 4.8471,\n",
      "        2.5497, 1.5824, 2.6795, 1.8435])\n"
     ]
    }
   ],
   "source": [
    "import matplotlib.pyplot as plt\n",
    "\n",
    "import torch\n",
    "import torch.nn as nn\n",
    "\n",
    "import numpy as np\n",
    "\n",
    "import Utils.Data.DataLoading as DataLoading\n",
    "\n",
    "TrainingData = DataLoading.LoadTrainTestData(\"../data/tomData/unshuffled3x3tiles.csv\", shuffle=True)\n",
    "TrainingData = TrainingData[\"testData\"]"
   ]
  },
  {
   "cell_type": "code",
   "execution_count": 109,
   "metadata": {},
   "outputs": [
    {
     "name": "stdout",
     "output_type": "stream",
     "text": [
      "(5, 256, 256)\n"
     ]
    },
    {
     "data": {
      "image/png": "[encoded data removed]",
      "text/plain": [
       "<Figure size 640x480 with 3 Axes>"
      ]
     },
     "metadata": {},
     "output_type": "display_data"
    },
    {
     "data": {
      "text/plain": [
       "<Figure size 640x480 with 0 Axes>"
      ]
     },
     "metadata": {},
     "output_type": "display_data"
    },
    {
     "data": {
      "image/png": "[encoded data removed]",
      "text/plain": [
       "<Figure size 640x480 with 3 Axes>"
      ]
     },
     "metadata": {},
     "output_type": "display_data"
    },
    {
     "data": {
      "text/plain": [
       "<Figure size 640x480 with 0 Axes>"
      ]
     },
     "metadata": {},
     "output_type": "display_data"
    },
    {
     "data": {
      "image/png": "[encoded data removed]",
      "text/plain": [
       "<Figure size 640x480 with 3 Axes>"
      ]
     },
     "metadata": {},
     "output_type": "display_data"
    },
    {
     "data": {
      "text/plain": [
       "<Figure size 640x480 with 0 Axes>"
      ]
     },
     "metadata": {},
     "output_type": "display_data"
    },
    {
     "data": {
      "image/png": "[encoded data removed]",
      "text/plain": [
       "<Figure size 640x480 with 3 Axes>"
      ]
     },
     "metadata": {},
     "output_type": "display_data"
    },
    {
     "data": {
      "text/plain": [
       "<Figure size 640x480 with 0 Axes>"
      ]
     },
     "metadata": {},
     "output_type": "display_data"
    },
    {
     "data": {
      "image/png": "[encoded data removed]",
      "text/plain": [
       "<Figure size 640x480 with 3 Axes>"
      ]
     },
     "metadata": {},
     "output_type": "display_data"
    },
    {
     "data": {
      "text/plain": [
       "<Figure size 640x480 with 0 Axes>"
      ]
     },
     "metadata": {},
     "output_type": "display_data"
    }
   ],
   "source": [
    "model = torch.load(\"Models/firstTryMHA.pt\")\n",
    "model.cpu()\n",
    "model.eval()\n",
    "\n",
    "data = TrainingData.iloc[20:25]\n",
    "\n",
    "xImages = np.array(data[\"image\"].tolist())\n",
    "yImages = xImages[:, 16:32, 16:32, :]\n",
    "\n",
    "xImageBatch = torch.tensor(xImages, dtype=torch.float32)\n",
    "xImageBatch = xImageBatch.reshape((-1, 3, 48, 48))\n",
    "\n",
    "xTextbatch = torch.tensor(data[\"encodedAffordances\"].tolist(), dtype=torch.float32)\n",
    "\n",
    "yPredImages, yPredText = model(xImageBatch, xTextbatch)\n",
    "\n",
    "images = yPredImages.detach().numpy()\n",
    "\n",
    "x = model.imgEncConv1(xImageBatch)\n",
    "x = model.imgEncBn1(x)\n",
    "\n",
    "attMaps = model.useAttention(x)[1].detach().numpy()\n",
    "print(attMaps.shape)\n",
    "\n",
    "for i, image in enumerate(images):\n",
    "\n",
    "    fig, axes = plt.subplots(1, 3)\n",
    "    \n",
    "    axes[0].imshow(image.reshape(16, 16, 3).astype(np.uint8))\n",
    "    axes[0].axis(False)\n",
    "\n",
    "    axes[1].imshow(yImages[i])\n",
    "    axes[1].axis(False)\n",
    "\n",
    "    axes[2].imshow(attMaps[i][128].reshape(16, 16), cmap=\"viridis\")\n",
    "    axes[2].axis(False)\n",
    "    \n",
    "    plt.figure()"
   ]
  },
  {
   "cell_type": "code",
   "execution_count": 33,
   "metadata": {},
   "outputs": [
    {
     "name": "stdout",
     "output_type": "stream",
     "text": [
      "torch.Size([10, 32, 16, 16])\n"
     ]
    }
   ],
   "source": [
    "a = torch.ones(10, 3, 48, 48)\n",
    "convLayer = nn.Conv2d(3, 32, kernel_size=3, stride=3)\n",
    "convOutput = convLayer(a)\n",
    "\n",
    "batchNorm = nn.BatchNorm2d(32)\n",
    "batchNormOutput = batchNorm(convOutput)\n",
    "\n",
    "print(batchNormOutput.shape)"
   ]
  },
  {
   "cell_type": "code",
   "execution_count": 39,
   "metadata": {},
   "outputs": [
    {
     "name": "stdout",
     "output_type": "stream",
     "text": [
      "torch.Size([10, 256, 32])\n",
      "torch.Size([10, 256, 256])\n",
      "torch.Size([10, 32, 16, 16])\n",
      "torch.Size([10, 256, 256])\n"
     ]
    }
   ],
   "source": [
    "multiHeadLayer = nn.MultiheadAttention(32, 1, batch_first=True)\n",
    "\n",
    "bs, c, h, w = batchNormOutput.shape\n",
    "batchNormOutputReshaped = batchNormOutput.reshape(bs, c, h * w).transpose(1, 2)\n",
    "\n",
    "multiHeadOutput = multiHeadLayer(batchNormOutputReshaped, batchNormOutputReshaped, batchNormOutputReshaped)\n",
    "print(multiHeadOutput[0].shape)\n",
    "print(multiHeadOutput[1].shape)\n",
    "\n",
    "attOut, attMap = multiHeadOutput\n",
    "attOut = attOut.transpose(1, 2).reshape(bs, c, h, w)\n",
    "\n",
    "print(attOut.shape)\n",
    "print(attMap.shape)"
   ]
  }
 ],
 "metadata": {
  "kernelspec": {
   "display_name": "DissEnv",
   "language": "python",
   "name": "python3"
  },
  "language_info": {
   "codemirror_mode": {
    "name": "ipython",
    "version": 3
   },
   "file_extension": ".py",
   "mimetype": "text/x-python",
   "name": "python",
   "nbconvert_exporter": "python",
   "pygments_lexer": "ipython3",
   "version": "3.10.14"
  }
 },
 "nbformat": 4,
 "nbformat_minor": 2
}
