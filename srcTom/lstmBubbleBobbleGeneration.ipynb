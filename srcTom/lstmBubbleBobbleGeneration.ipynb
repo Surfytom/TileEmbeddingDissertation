{
 "cells": [
  {
   "cell_type": "code",
   "execution_count": 2,
   "metadata": {},
   "outputs": [],
   "source": [
    "import numpy as np\n",
    "import glob"
   ]
  },
  {
   "cell_type": "code",
   "execution_count": 3,
   "metadata": {},
   "outputs": [],
   "source": [
    "bbEmbeddingPath = \"testrep/BubbleBobble\""
   ]
  },
  {
   "cell_type": "code",
   "execution_count": 4,
   "metadata": {},
   "outputs": [],
   "source": [
    "columnRefArray = np.array([i+1 for i in range(13) for j in range(12)])"
   ]
  },
  {
   "cell_type": "code",
   "execution_count": 24,
   "metadata": {},
   "outputs": [],
   "source": [
    "#bbEmbeddingPaths = sorted(glob.glob(\"testrep/BubbleBobble/level*.npy\"))\n",
    "bbEmbeddingPaths = sorted(glob.glob(\"/home/surfytom/Projects/Dissertation/Repos/TileEmbeddingDissertation/data/unified_rep/bubble_bobble/round*.pickle\"))"
   ]
  },
  {
   "cell_type": "code",
   "execution_count": 27,
   "metadata": {},
   "outputs": [],
   "source": [
    "import pickle\n",
    "\n",
    "def get_pickle(pickle_path):\n",
    "    '''\n",
    "    This function loads the pickle file\n",
    "    \n",
    "    Input\n",
    "    pickle_path: path of the pickle file\n",
    "    Output\n",
    "    Loads and returns the stored pickle file\n",
    "    \n",
    "    '''\n",
    "    with open(pickle_path, \"rb\") as handle:\n",
    "        level_pickle = pickle.load(handle)\n",
    "    return level_pickle"
   ]
  },
  {
   "cell_type": "code",
   "execution_count": 28,
   "metadata": {},
   "outputs": [],
   "source": [
    "N = 78\n",
    "\n",
    "sosArray = np.ones(shape=(1, 256)) * 9\n",
    "eosArray = np.ones(shape=(1, 256)) * 5\n",
    "\n",
    "xTrain = []\n",
    "xTrainHotColumnRef = []\n",
    "yTrain = []\n",
    "xTrainTargetIn = []\n",
    "\n",
    "columnRef = []\n",
    "for i, levelEmbeddingPath in enumerate(bbEmbeddingPaths):\n",
    "\n",
    "    #levelEmbeddingArray = np.load(levelEmbeddingPath)\n",
    "    levelEmbeddingArray = get_pickle(levelEmbeddingPath)\n",
    "\n",
    "    for j in range(len(levelEmbeddingArray) - N):\n",
    "\n",
    "        padLength = N - j\n",
    "\n",
    "        dataI = np.concatenate((np.zeros(shape=(padLength, 256)), levelEmbeddingArray[:j]), axis=0)\n",
    "\n",
    "        dataT = levelEmbeddingArray[j:j+N]\n",
    "        targetIn = np.concatenate((sosArray, dataT))\n",
    "        targetOut = np.concatenate((dataT, eosArray))\n",
    "\n",
    "        levelIdx = np.concatenate((np.zeros(shape=(padLength)), columnRefArray[:j]), axis=0)\n",
    "        dataC = np.zeros(shape=(N, 256))\n",
    "        for j in range(N): dataC[j][int(levelIdx[j])] = 1\n",
    "\n",
    "        columnRef.append(dataC)\n",
    "        xTrain.append(dataI)\n",
    "        xTrainTargetIn.append(targetIn)\n",
    "        yTrain.append(targetOut)\n",
    "\n",
    "xTrain = np.array(xTrain)\n",
    "xTrainTargetIn = np.array(xTrainTargetIn)\n",
    "yTrain = np.array(yTrain)\n",
    "columnRef = np.array(columnRef)"
   ]
  },
  {
   "cell_type": "code",
   "execution_count": 29,
   "metadata": {},
   "outputs": [],
   "source": [
    "import torch\n",
    "import torch.nn as nn\n",
    "\n",
    "class LSTMModel(nn.Module):\n",
    "\n",
    "    def __init__(self, debug=False):\n",
    "        super().__init__()\n",
    "\n",
    "        self.histLSTM = nn.LSTM(78, 128)\n",
    "        self.colLSTM = nn.LSTM(78, 128)\n",
    "\n",
    "        self.textLSTM = nn.LSTM(79, 128)\n",
    "\n",
    "        self.outputLayer = nn.Linear(128, 79)\n",
    "\n",
    "    def forward(self, xHist, xText, xCol):\n",
    "        \n",
    "        histOut, (histH, histC) = self.histLSTM(xHist)\n",
    "\n",
    "        colOut, (colH, colC) = self.colLSTM(xCol)\n",
    "\n",
    "        hiddenAdd = torch.add(histH, histC)\n",
    "        channelAdd = torch.add(colH, colC)\n",
    "\n",
    "        textOut, (textH, textC) = self.textLSTM(xText, (hiddenAdd, channelAdd))\n",
    "\n",
    "        output = nn.functional.tanh(self.outputLayer(textOut))\n",
    "        \n",
    "        return output"
   ]
  },
  {
   "cell_type": "code",
   "execution_count": 32,
   "metadata": {},
   "outputs": [],
   "source": [
    "def TrainModel(xTrain, xTrainTargetIn, yTrain, columnRef, epochs, batchSize):\n",
    "\n",
    "    device = \"cuda\" if torch.cuda.is_available() else \"cpu\"\n",
    "\n",
    "    model = LSTMModel()\n",
    "    optimizer = torch.optim.RMSprop(model.parameters(), lr=0.001, eps=1e-7)\n",
    "\n",
    "    criterion = nn.MSELoss()\n",
    "\n",
    "    model.to(device)\n",
    "    model.train()\n",
    "\n",
    "    losses = []\n",
    "\n",
    "    xTrain = xTrain.reshape(xTrain.shape[0], xTrain.shape[2], xTrain.shape[1])\n",
    "    xTrainTargetIn = xTrainTargetIn.reshape(xTrainTargetIn.shape[0], xTrainTargetIn.shape[2], xTrainTargetIn.shape[1])\n",
    "    yTrain = yTrain.reshape(yTrain.shape[0], yTrain.shape[2], yTrain.shape[1])\n",
    "    columnRef = columnRef.reshape(columnRef.shape[0], columnRef.shape[2], columnRef.shape[1])\n",
    "\n",
    "    for i in range(epochs):\n",
    "\n",
    "        losses.append([])\n",
    "\n",
    "        for j in range(0, xTrain.shape[0], batchSize):\n",
    "            \n",
    "            xTrainTensor = torch.tensor(xTrain[j:j+batchSize], dtype=torch.float32).to(device)\n",
    "            xTrainTargetInTensor = torch.tensor(xTrainTargetIn[j:j+batchSize], dtype=torch.float32).to(device)\n",
    "\n",
    "            yTrainTensor = torch.tensor(yTrain[j:j+batchSize], dtype=torch.float32).to(device)\n",
    "\n",
    "            columnRefTensor = torch.tensor(columnRef[j:j+batchSize], dtype=torch.float32).to(device)\n",
    "\n",
    "            # print(xTrainTensor.shape)\n",
    "            # print(xTrainTargetInTensor.shape)\n",
    "            # print(yTrainTensor.shape)\n",
    "            # print(columnRefTensor.shape)\n",
    "\n",
    "            yPred = model(xTrainTensor, xTrainTargetInTensor, columnRefTensor)\n",
    "            \n",
    "            loss = criterion(yPred, yTrainTensor)\n",
    "\n",
    "            optimizer.zero_grad()\n",
    "            loss.backward()\n",
    "            optimizer.step()\n",
    "\n",
    "            losses[i].append(loss.cpu().detach().item())\n",
    "\n",
    "        print(f\"Epoch {i}: loss {sum(losses[i])/len(losses[i])}\")\n",
    "    \n",
    "    return model"
   ]
  },
  {
   "cell_type": "code",
   "execution_count": 33,
   "metadata": {},
   "outputs": [
    {
     "name": "stdout",
     "output_type": "stream",
     "text": [
      "Epoch 0: loss 0.4465213974231276\n",
      "Epoch 1: loss 0.39754237838346385\n",
      "Epoch 2: loss 0.39273248433039104\n",
      "Epoch 3: loss 0.3900536111202733\n",
      "Epoch 4: loss 0.38827900357287504\n"
     ]
    },
    {
     "data": {
      "text/plain": [
       "LSTMModel(\n",
       "  (histLSTM): LSTM(78, 128)\n",
       "  (colLSTM): LSTM(78, 128)\n",
       "  (textLSTM): LSTM(79, 128)\n",
       "  (outputLayer): Linear(in_features=128, out_features=79, bias=True)\n",
       ")"
      ]
     },
     "execution_count": 33,
     "metadata": {},
     "output_type": "execute_result"
    }
   ],
   "source": [
    "TrainModel(xTrain, xTrainTargetIn, yTrain, columnRef, 5, 32)"
   ]
  }
 ],
 "metadata": {
  "kernelspec": {
   "display_name": "DissEnv",
   "language": "python",
   "name": "python3"
  },
  "language_info": {
   "codemirror_mode": {
    "name": "ipython",
    "version": 3
   },
   "file_extension": ".py",
   "mimetype": "text/x-python",
   "name": "python",
   "nbconvert_exporter": "python",
   "pygments_lexer": "ipython3",
   "version": "3.10.14"
  }
 },
 "nbformat": 4,
 "nbformat_minor": 2
}
