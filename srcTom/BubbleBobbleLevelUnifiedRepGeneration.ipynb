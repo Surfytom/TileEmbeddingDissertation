{
 "cells": [
  {
   "cell_type": "code",
   "execution_count": 1,
   "metadata": {},
   "outputs": [],
   "source": [
    "import cv2\n",
    "import glob\n",
    "\n",
    "import Utils.Data.DataGen as DataGen\n",
    "import Utils.PTModel.Inference as Inference\n",
    "\n",
    "MODELNAME = \"TestVAEwATT\""
   ]
  },
  {
   "cell_type": "code",
   "execution_count": 2,
   "metadata": {},
   "outputs": [],
   "source": [
    "bbLevelPaths = sorted(glob.glob(\"../data/bubble_bobble/*.png\"))\n",
    "bbLevels = [cv2.copyMakeBorder(cv2.cvtColor(cv2.imread(levelPath), cv2.COLOR_BGR2RGB), 16, 16, 16, 16, cv2.BORDER_CONSTANT) for levelPath in bbLevelPaths]\n",
    "bbLevelKernals = [DataGen.ResizeLevel(level, 16, 3, columnWise=True) for level in bbLevels]"
   ]
  },
  {
   "cell_type": "code",
   "execution_count": 3,
   "metadata": {},
   "outputs": [
    {
     "name": "stderr",
     "output_type": "stream",
     "text": [
      "/home/surfytom/Projects/Dissertation/Repos/TileEmbeddingDissertation/srcTom/Utils/PTModel/Inference.py:47: FutureWarning: You are using `torch.load` with `weights_only=False` (the current default value), which uses the default pickle module implicitly. It is possible to construct malicious pickle data which will execute arbitrary code during unpickling (See https://github.com/pytorch/pytorch/blob/main/SECURITY.md#untrusted-models for more details). In a future release, the default value for `weights_only` will be flipped to `True`. This limits the functions that could be executed during unpickling. Arbitrary objects will no longer be allowed to be loaded via this mode unless they are explicitly allowlisted by the user via `torch.serialization.add_safe_globals`. We recommend you start setting `weights_only=True` for any use case where you don't have full control of the loaded file. Please open an issue on GitHub for any issues related to this experimental feature.\n",
      "  model = torch.load(f\"Models/{modelName}/{modelName}.pt\")\n"
     ]
    }
   ],
   "source": [
    "Inference.SaveLevelUnifiedRepresentation(None, bbLevelKernals, MODELNAME, \"BubbleBobble\")"
   ]
  }
 ],
 "metadata": {
  "kernelspec": {
   "display_name": "DissEnv",
   "language": "python",
   "name": "python3"
  },
  "language_info": {
   "codemirror_mode": {
    "name": "ipython",
    "version": 3
   },
   "file_extension": ".py",
   "mimetype": "text/x-python",
   "name": "python",
   "nbconvert_exporter": "python",
   "pygments_lexer": "ipython3",
   "version": "3.10.14"
  }
 },
 "nbformat": 4,
 "nbformat_minor": 2
}
