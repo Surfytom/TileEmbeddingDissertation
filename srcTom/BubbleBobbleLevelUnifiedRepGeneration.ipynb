{
 "cells": [
  {
   "cell_type": "code",
   "execution_count": 1,
   "metadata": {},
   "outputs": [],
   "source": [
    "import cv2\n",
    "import glob\n",
    "\n",
    "import Utils.Data.DataGen as DataGen\n",
    "import Utils.PTModel.Inference as Inference\n",
    "\n",
    "MODELNAME = \"TestDropLRVAE2\""
   ]
  },
  {
   "cell_type": "code",
   "execution_count": 2,
   "metadata": {},
   "outputs": [],
   "source": [
    "bbLevelPaths = sorted(glob.glob(\"../data/bubble_bobble/*.png\"))\n",
    "bbLevels = [cv2.copyMakeBorder(cv2.cvtColor(cv2.imread(levelPath), cv2.COLOR_BGR2RGB), 16, 16, 16, 16, cv2.BORDER_CONSTANT) for levelPath in bbLevelPaths]\n",
    "bbLevelKernals = [DataGen.ResizeLevel(level, 16, 3, columnWise=True) for level in bbLevels]"
   ]
  },
  {
   "cell_type": "code",
   "execution_count": 3,
   "metadata": {},
   "outputs": [],
   "source": [
    "Inference.SaveLevelUnifiedRepresentation(None, bbLevelKernals, MODELNAME, \"BubbleBobble\")"
   ]
  }
 ],
 "metadata": {
  "kernelspec": {
   "display_name": "DissEnv",
   "language": "python",
   "name": "python3"
  },
  "language_info": {
   "codemirror_mode": {
    "name": "ipython",
    "version": 3
   },
   "file_extension": ".py",
   "mimetype": "text/x-python",
   "name": "python",
   "nbconvert_exporter": "python",
   "pygments_lexer": "ipython3",
   "version": "3.10.14"
  }
 },
 "nbformat": 4,
 "nbformat_minor": 2
}
