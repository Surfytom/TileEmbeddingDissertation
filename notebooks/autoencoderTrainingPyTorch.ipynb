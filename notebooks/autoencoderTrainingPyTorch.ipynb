{
 "cells": [
  {
   "cell_type": "code",
   "execution_count": 1,
   "id": "44679ad9",
   "metadata": {},
   "outputs": [],
   "source": [
    "import os\n",
    "import glob\n",
    "import pandas as pd\n",
    "import numpy as np\n",
    "import json\n",
    "from sklearn.utils import shuffle\n",
    "from sklearn.preprocessing import MultiLabelBinarizer\n",
    "\n",
    "import pickle\n",
    "\n",
    "from collections import Counter\n",
    "from notebook_utils import initialize_environment\n",
    "initialize_environment()\n",
    "\n",
    "from utils.data_loading.load_data import get_tile_data\n",
    "\n",
    "from sklearn.feature_extraction.text import TfidfVectorizer\n",
    "from ast import literal_eval\n",
    "\n",
    "import torch.cuda\n",
    "import torch.nn as nn\n",
    "import torch.nn.functional as F\n",
    "\n",
    "from sklearn.manifold import TSNE\n",
    "import matplotlib.pyplot as plt"
   ]
  },
  {
   "cell_type": "code",
   "execution_count": 2,
   "id": "0dc52985",
   "metadata": {},
   "outputs": [],
   "source": [
    "data_directory = \"../data/context_data/\"\n",
    "json_directory = \"../data/json_files_trimmed_features/\"\n",
    "\n",
    "game_data_path=\"../data/game_data.csv\"\n",
    "train_data_path=\"../data/train_data.csv\"\n",
    "test_data_path=\"../data/test_data.csv\"\n",
    "\n",
    "EPOCHS=10\n",
    "BATCH_SIZE=25\n",
    "LATENT_DIM=256"
   ]
  },
  {
   "cell_type": "code",
   "execution_count": 3,
   "id": "a94c0358",
   "metadata": {},
   "outputs": [
    {
     "name": "stdout",
     "output_type": "stream",
     "text": [
      "Feature Dictionary Loaded\n",
      "The feature dictionary has size 13\n"
     ]
    },
    {
     "data": {
      "text/plain": [
       "'Features'"
      ]
     },
     "metadata": {},
     "output_type": "display_data"
    },
    {
     "data": {
      "text/plain": [
       "array(['block', 'breakable', 'climbable', 'collectable', 'element',\n",
       "       'empty', 'hazard', 'moving', 'openable', 'passable', 'pipe',\n",
       "       'solid', 'wall'], dtype=object)"
      ]
     },
     "metadata": {},
     "output_type": "display_data"
    },
    {
     "name": "stdout",
     "output_type": "stream",
     "text": [
      "\\Training Testing Batches loaded\n",
      "Train Image batch shape (22854, 48, 48, 3)\n",
      "Train Text batch shape (22854, 13)\n",
      "Train Output Image batch shape (22854, 16, 16, 3)\n",
      "Train Output Text batch shape (22854, 13)\n",
      "Test Image batch shape (2540, 48, 48, 3)\n",
      "Test Text batch shape (2540, 13)\n"
     ]
    }
   ],
   "source": [
    "# data loading\n",
    "\n",
    "def get_pickle_file(path):\n",
    "    with open(path,\"rb\") as handle:\n",
    "        return pickle.load(handle)\n",
    "\n",
    "data=pd.read_csv(game_data_path)\n",
    "train_data=pd.read_csv(train_data_path)\n",
    "test_data=pd.read_csv(test_data_path)\n",
    "\n",
    "data['features'] = data.features.apply(lambda x: literal_eval(str(x)))\n",
    "train_data['features'] = train_data.features.apply(lambda x: literal_eval(str(x)))\n",
    "test_data['features'] = test_data.features.apply(lambda x: literal_eval(str(x)))\n",
    "\n",
    "# loading multi-label binarizer\n",
    "mlb=get_pickle_file(\"../model/model_tokenizer.pickle\")\n",
    "print(\"Feature Dictionary Loaded\")\n",
    "total_features = len(mlb.classes_)\n",
    "print(\"The feature dictionary has size\", total_features)\n",
    "display(\"Features\", mlb.classes_)\n",
    "\n",
    "# loading the batches\n",
    "# training \n",
    "train_image_batch=get_pickle_file(\"../data/train_image_batch.pickle\")\n",
    "train_text_batch=get_pickle_file(\"../data/train_text_batch.pickle\")\n",
    "output_image_batch=get_pickle_file(\"../data/output_image_batch.pickle\")\n",
    "output_text_batch=get_pickle_file(\"../data/output_text_batch.pickle\")\n",
    "\n",
    "#testing\n",
    "test_image_batch=get_pickle_file(\"../data/test_image_batch.pickle\")\n",
    "test_text_batch=get_pickle_file(\"../data/test_text_batch.pickle\")\n",
    "\n",
    "print(\"Training Testing Batches loaded\")\n",
    "\n",
    "print(\"Train Image batch shape\", train_image_batch.shape)\n",
    "print(\"Train Text batch shape\", train_text_batch.shape)\n",
    "print(\"Train Output Image batch shape\", output_image_batch.shape)\n",
    "print(\"Train Output Text batch shape\", output_text_batch.shape)\n",
    "\n",
    "print(\"Test Image batch shape\", test_image_batch.shape)\n",
    "print(\"Test Text batch shape\", test_text_batch.shape)   "
   ]
  },
  {
   "cell_type": "code",
   "execution_count": 6,
   "id": "41b3c7ee",
   "metadata": {},
   "outputs": [
    {
     "data": {
      "text/html": [
       "<div>\n",
       "<style scoped>\n",
       "    .dataframe tbody tr th:only-of-type {\n",
       "        vertical-align: middle;\n",
       "    }\n",
       "\n",
       "    .dataframe tbody tr th {\n",
       "        vertical-align: top;\n",
       "    }\n",
       "\n",
       "    .dataframe thead th {\n",
       "        text-align: right;\n",
       "    }\n",
       "</style>\n",
       "<table border=\"1\" class=\"dataframe\">\n",
       "  <thead>\n",
       "    <tr style=\"text-align: right;\">\n",
       "      <th></th>\n",
       "      <th>Unnamed: 0</th>\n",
       "      <th>game_identifier</th>\n",
       "      <th>image_path</th>\n",
       "      <th>centre_tile</th>\n",
       "      <th>context_string</th>\n",
       "      <th>features</th>\n",
       "    </tr>\n",
       "  </thead>\n",
       "  <tbody>\n",
       "    <tr>\n",
       "      <th>0</th>\n",
       "      <td>21790</td>\n",
       "      <td>lode_runner</td>\n",
       "      <td>../data/context_data/lode_runner/B/@@EBBB   .png</td>\n",
       "      <td>B</td>\n",
       "      <td>@@EBBB</td>\n",
       "      <td>[solid]</td>\n",
       "    </tr>\n",
       "    <tr>\n",
       "      <th>1</th>\n",
       "      <td>12115</td>\n",
       "      <td>lode_runner</td>\n",
       "      <td>../data/context_data/lode_runner/@/#@b#@@bbb.png</td>\n",
       "      <td>@</td>\n",
       "      <td>#@b#@@bbb</td>\n",
       "      <td>[passable, empty]</td>\n",
       "    </tr>\n",
       "    <tr>\n",
       "      <th>2</th>\n",
       "      <td>15571</td>\n",
       "      <td>lode_runner</td>\n",
       "      <td>../data/context_data/lode_runner/E/@@@#EbB##.png</td>\n",
       "      <td>E</td>\n",
       "      <td>@@@#EbB##</td>\n",
       "      <td>[solid, hazard]</td>\n",
       "    </tr>\n",
       "    <tr>\n",
       "      <th>3</th>\n",
       "      <td>24113</td>\n",
       "      <td>smb</td>\n",
       "      <td>../data/context_data/smb/-/o--------.png</td>\n",
       "      <td>-</td>\n",
       "      <td>o--------</td>\n",
       "      <td>[passable, empty]</td>\n",
       "    </tr>\n",
       "    <tr>\n",
       "      <th>4</th>\n",
       "      <td>104</td>\n",
       "      <td>megaman</td>\n",
       "      <td>../data/context_data/megaman/#/##@##@--@.png</td>\n",
       "      <td>#</td>\n",
       "      <td>##@##@--@</td>\n",
       "      <td>[solid]</td>\n",
       "    </tr>\n",
       "  </tbody>\n",
       "</table>\n",
       "</div>"
      ],
      "text/plain": [
       "   Unnamed: 0 game_identifier  \\\n",
       "0       21790     lode_runner   \n",
       "1       12115     lode_runner   \n",
       "2       15571     lode_runner   \n",
       "3       24113             smb   \n",
       "4         104         megaman   \n",
       "\n",
       "                                         image_path centre_tile  \\\n",
       "0  ../data/context_data/lode_runner/B/@@EBBB   .png           B   \n",
       "1  ../data/context_data/lode_runner/@/#@b#@@bbb.png           @   \n",
       "2  ../data/context_data/lode_runner/E/@@@#EbB##.png           E   \n",
       "3          ../data/context_data/smb/-/o--------.png           -   \n",
       "4      ../data/context_data/megaman/#/##@##@--@.png           #   \n",
       "\n",
       "  context_string           features  \n",
       "0      @@EBBB               [solid]  \n",
       "1      #@b#@@bbb  [passable, empty]  \n",
       "2      @@@#EbB##    [solid, hazard]  \n",
       "3      o--------  [passable, empty]  \n",
       "4      ##@##@--@            [solid]  "
      ]
     },
     "execution_count": 6,
     "metadata": {},
     "output_type": "execute_result"
    }
   ],
   "source": [
    "train_data.head()"
   ]
  },
  {
   "cell_type": "code",
   "execution_count": 7,
   "id": "ab629272",
   "metadata": {},
   "outputs": [
    {
     "data": {
      "text/html": [
       "<div>\n",
       "<style scoped>\n",
       "    .dataframe tbody tr th:only-of-type {\n",
       "        vertical-align: middle;\n",
       "    }\n",
       "\n",
       "    .dataframe tbody tr th {\n",
       "        vertical-align: top;\n",
       "    }\n",
       "\n",
       "    .dataframe thead th {\n",
       "        text-align: right;\n",
       "    }\n",
       "</style>\n",
       "<table border=\"1\" class=\"dataframe\">\n",
       "  <thead>\n",
       "    <tr style=\"text-align: right;\">\n",
       "      <th></th>\n",
       "      <th>Unnamed: 0</th>\n",
       "      <th>game_identifier</th>\n",
       "      <th>image_path</th>\n",
       "      <th>centre_tile</th>\n",
       "      <th>context_string</th>\n",
       "      <th>features</th>\n",
       "    </tr>\n",
       "  </thead>\n",
       "  <tbody>\n",
       "    <tr>\n",
       "      <th>0</th>\n",
       "      <td>21790</td>\n",
       "      <td>lode_runner</td>\n",
       "      <td>../data/context_data/lode_runner/B/@@EBBB   .png</td>\n",
       "      <td>B</td>\n",
       "      <td>@@EBBB</td>\n",
       "      <td>['solid']</td>\n",
       "    </tr>\n",
       "    <tr>\n",
       "      <th>1</th>\n",
       "      <td>12115</td>\n",
       "      <td>lode_runner</td>\n",
       "      <td>../data/context_data/lode_runner/@/#@b#@@bbb.png</td>\n",
       "      <td>@</td>\n",
       "      <td>#@b#@@bbb</td>\n",
       "      <td>['passable', 'empty']</td>\n",
       "    </tr>\n",
       "    <tr>\n",
       "      <th>2</th>\n",
       "      <td>15571</td>\n",
       "      <td>lode_runner</td>\n",
       "      <td>../data/context_data/lode_runner/E/@@@#EbB##.png</td>\n",
       "      <td>E</td>\n",
       "      <td>@@@#EbB##</td>\n",
       "      <td>['solid', 'hazard']</td>\n",
       "    </tr>\n",
       "    <tr>\n",
       "      <th>3</th>\n",
       "      <td>24113</td>\n",
       "      <td>smb</td>\n",
       "      <td>../data/context_data/smb/-/o--------.png</td>\n",
       "      <td>-</td>\n",
       "      <td>o--------</td>\n",
       "      <td>['passable', 'empty']</td>\n",
       "    </tr>\n",
       "    <tr>\n",
       "      <th>4</th>\n",
       "      <td>104</td>\n",
       "      <td>megaman</td>\n",
       "      <td>../data/context_data/megaman/#/##@##@--@.png</td>\n",
       "      <td>#</td>\n",
       "      <td>##@##@--@</td>\n",
       "      <td>['solid']</td>\n",
       "    </tr>\n",
       "  </tbody>\n",
       "</table>\n",
       "</div>"
      ],
      "text/plain": [
       "   Unnamed: 0 game_identifier  \\\n",
       "0       21790     lode_runner   \n",
       "1       12115     lode_runner   \n",
       "2       15571     lode_runner   \n",
       "3       24113             smb   \n",
       "4         104         megaman   \n",
       "\n",
       "                                         image_path centre_tile  \\\n",
       "0  ../data/context_data/lode_runner/B/@@EBBB   .png           B   \n",
       "1  ../data/context_data/lode_runner/@/#@b#@@bbb.png           @   \n",
       "2  ../data/context_data/lode_runner/E/@@@#EbB##.png           E   \n",
       "3          ../data/context_data/smb/-/o--------.png           -   \n",
       "4      ../data/context_data/megaman/#/##@##@--@.png           #   \n",
       "\n",
       "  context_string               features  \n",
       "0      @@EBBB                 ['solid']  \n",
       "1      #@b#@@bbb  ['passable', 'empty']  \n",
       "2      @@@#EbB##    ['solid', 'hazard']  \n",
       "3      o--------  ['passable', 'empty']  \n",
       "4      ##@##@--@              ['solid']  "
      ]
     },
     "execution_count": 7,
     "metadata": {},
     "output_type": "execute_result"
    }
   ],
   "source": [
    "train_data_copy = train_data\n",
    "train_data_copy[\"features\"] = train_data_copy.features.apply(lambda x: str(x))\n",
    "train_data_copy.head()"
   ]
  },
  {
   "cell_type": "code",
   "execution_count": 4,
   "id": "86ec462b",
   "metadata": {},
   "outputs": [
    {
     "name": "stdout",
     "output_type": "stream",
     "text": [
      "\n",
      " Printing the TF-IDF for the labels\n",
      "\n",
      " {'block': 5.08368185647806, 'breakable': 2.5970451024522774, 'climbable': 2.761548815929438, 'collectable': 4.099611109542163, 'element': 5.56465451709437, 'empty': 2.0965579574606696, 'hazard': 4.8084141871746615, 'moving': 6.184894926846227, 'openable': 6.411952377481573, 'passable': 1.603201296270845, 'pipe': 6.53711552043558, 'solid': 1.827785539366181, 'wall': 5.268604194972072}\n",
      "\n",
      "Printing the weight normalised\n",
      "\n",
      "\n",
      "{'block': 0.09269168764552638, 'breakable': 0.04735239148199231, 'climbable': 0.050351817342350516, 'collectable': 0.07474894833349648, 'element': 0.10146134886401398, 'empty': 0.038226919152316914, 'hazard': 0.08767268261289057, 'moving': 0.11277030405612387, 'openable': 0.11691028348167781, 'passable': 0.029231458219100986, 'pipe': 0.1191924056283738, 'solid': 0.033326343205771214, 'wall': 0.0960634099763652}\n",
      "Weight Vector\n",
      "[5083.681856478061, 2597.045102452277, 2761.548815929438, 4099.611109542163, 5564.65451709437, 2096.5579574606695, 4808.4141871746615, 6184.8949268462275, 6411.952377481573, 1603.201296270845, 6537.11552043558, 1827.785539366181, 5268.604194972072]\n"
     ]
    }
   ],
   "source": [
    "#initialise the TF-IDF vectorizer to counter imbalanced dataset\n",
    "vectorizer = TfidfVectorizer(stop_words=None)\n",
    "train_data_copy = train_data\n",
    "train_data_copy[\"features\"] = train_data_copy.features.apply(lambda x: str(x))\n",
    "vectors = vectorizer.fit_transform(train_data_copy[\"features\"])\n",
    "idf = vectorizer.idf_\n",
    "new_dict = {}\n",
    "for c in mlb.classes_:\n",
    "    if c in vectorizer.vocabulary_.keys():\n",
    "        new_dict[c] = idf[vectorizer.vocabulary_[c]]\n",
    "    else:\n",
    "        new_dict[c] = np.max(idf)\n",
    "print(\"\\n Printing the TF-IDF for the labels\\n\\n\", new_dict)\n",
    "weight_freq = {k: v / sum(new_dict.values()) for k, v in new_dict.items()}\n",
    "print(\"\\nPrinting the weight normalised\\n\\n\")\n",
    "print(weight_freq)\n",
    "weight_vector = [v * 1000 for v in new_dict.values()]\n",
    "tensor_from_list = torch.tensor(weight_vector)\n",
    "tensor_from_list = tensor_from_list.type(torch.float32)\n",
    "print(\"Weight Vector\")\n",
    "print(weight_vector)"
   ]
  },
  {
   "cell_type": "code",
   "execution_count": 5,
   "id": "8c8fa458",
   "metadata": {},
   "outputs": [],
   "source": [
    "class WeightedBCE(nn.Module):\n",
    "\n",
    "    def __init__(self, weightedArray, debug=False):\n",
    "        super().__init__()\n",
    "\n",
    "        self.debug = debug\n",
    "\n",
    "        self.weighedArray = weightedArray\n",
    "\n",
    "    def forward(self, yPred, yTrue):\n",
    "\n",
    "        bce_array = nn.functional.binary_cross_entropy(yPred, yTrue, reduction=\"none\")\n",
    "        weighted_array = torch.mul(bce_array, self.weighedArray)\n",
    "\n",
    "        if self.debug:\n",
    "            print(weighted_array.shape)\n",
    "\n",
    "        bce_sum = torch.sum(weighted_array, axis=1)\n",
    "        loss = torch.div(bce_sum, 13.0)\n",
    "        loss = torch.mean(loss)\n",
    "\n",
    "        return loss"
   ]
  },
  {
   "cell_type": "code",
   "execution_count": 25,
   "id": "b57a0d6e",
   "metadata": {},
   "outputs": [
    {
     "name": "stdout",
     "output_type": "stream",
     "text": [
      "torch.Size([4, 13])\n",
      "tensor(218301.7031)\n"
     ]
    }
   ],
   "source": [
    "criterion = WeightedBCE(tensor_from_list)\n",
    "\n",
    "torch.manual_seed(0)\n",
    "\n",
    "tensor1 = torch.randint(0, 2, size=(4, 13), dtype=torch.float32)\n",
    "tensor2 = torch.randint(0, 2, size=(4, 13), dtype=torch.float32)\n",
    "\n",
    "loss = criterion(tensor1, tensor2)\n",
    "print(loss)"
   ]
  },
  {
   "cell_type": "code",
   "execution_count": 6,
   "id": "56213c28",
   "metadata": {},
   "outputs": [
    {
     "name": "stdout",
     "output_type": "stream",
     "text": [
      "tensor(10830.4111)\n"
     ]
    }
   ],
   "source": [
    "criterion = nn.MSELoss()\n",
    "\n",
    "torch.manual_seed(0)\n",
    "\n",
    "tensor1 = torch.randint(0, 255, size=(4, 3, 48, 48), dtype=torch.float32)\n",
    "tensor2 = torch.randint(0, 255, size=(4, 3, 48, 48), dtype=torch.float32)\n",
    "\n",
    "loss = criterion(tensor1, tensor2)\n",
    "print(loss)"
   ]
  },
  {
   "cell_type": "code",
   "execution_count": 6,
   "id": "a24e1d91",
   "metadata": {},
   "outputs": [],
   "source": [
    "class TileEmbeddingVAE(nn.Module):\n",
    "\n",
    "    def __init__(self, debug=False):\n",
    "        super().__init__()\n",
    "\n",
    "        self.debug = debug\n",
    "\n",
    "        self.imageEncoder = nn.Sequential(\n",
    "            nn.Conv2d(3, 32, kernel_size=3, stride=3),\n",
    "            nn.BatchNorm2d(32),\n",
    "            nn.Tanh(),\n",
    "            nn.Conv2d(32, 32, kernel_size=3, stride=1, padding=1),\n",
    "            nn.BatchNorm2d(32),\n",
    "            nn.Tanh(),\n",
    "            nn.Conv2d(32, 16, kernel_size=3, stride=1, padding=1),\n",
    "            nn.BatchNorm2d(16),\n",
    "            nn.Tanh(),\n",
    "            nn.Flatten(),\n",
    "        )\n",
    "\n",
    "        self.textEncoder = nn.Sequential(\n",
    "            nn.Linear(13, 32),\n",
    "            nn.Tanh(),\n",
    "            nn.Linear(32, 16),\n",
    "            nn.Tanh(),\n",
    "        )\n",
    "\n",
    "        self.embeddingLayer = nn.Linear(4112, 256)\n",
    "\n",
    "        self.imageDecoder = nn.Sequential(\n",
    "            nn.Linear(256, 4096),\n",
    "            nn.Unflatten(1, (16, 16, 16)),\n",
    "            nn.ConvTranspose2d(16, 32, kernel_size=3, stride=1, padding=1),\n",
    "            nn.BatchNorm2d(32),\n",
    "            nn.Tanh(),\n",
    "            nn.ConvTranspose2d(32, 32, kernel_size=3, stride=1, padding=1),\n",
    "            nn.BatchNorm2d(32),\n",
    "            nn.Tanh(),\n",
    "            nn.ConvTranspose2d(32, 3, kernel_size=3, stride=1, padding=1),\n",
    "        )\n",
    "\n",
    "        self.textDecoder = nn.Sequential(\n",
    "            nn.Linear(256, 16),\n",
    "            nn.Tanh(),\n",
    "            nn.Linear(16, 32),\n",
    "            nn.Tanh(),\n",
    "            nn.Linear(32, 13),\n",
    "            nn.Sigmoid(),\n",
    "        )\n",
    "\n",
    "    def encode(self, xImages, xText):\n",
    "        encodedImage = self.imageEncoder(xImages)\n",
    "        encodedText = self.textEncoder(xText)\n",
    "\n",
    "        if self.debug:\n",
    "            print(\"EncodedImage shape: \", encodedImage.shape)\n",
    "            print(\"encodedText shape: \", encodedText.shape)\n",
    "\n",
    "        concatenateEmbeddding = torch.cat((encodedImage, encodedText), 1)\n",
    "\n",
    "        embedding = self.embeddingLayer(concatenateEmbeddding)\n",
    "\n",
    "        return embedding\n",
    "\n",
    "    def decode(self, embedding):\n",
    "        decodedImage = self.imageDecoder(embedding)\n",
    "        decodedText = self.textDecoder(embedding)\n",
    "        return decodedImage, decodedText\n",
    "\n",
    "    def forward(self, xImages, xText):\n",
    "        # Encoder\n",
    "        encodedEmbedding = self.encode(xImages, xText)\n",
    "\n",
    "        # Decoder\n",
    "        yPredImage, yPredText = self.decode(encodedEmbedding)\n",
    "        \n",
    "        return yPredImage, yPredText"
   ]
  },
  {
   "cell_type": "code",
   "execution_count": 8,
   "id": "7111e569",
   "metadata": {},
   "outputs": [
    {
     "name": "stdout",
     "output_type": "stream",
     "text": [
      "torch.Size([2, 3, 48, 48])\n",
      "torch.Size([2, 3, 16, 16])\n",
      "torch.Size([2, 13])\n"
     ]
    }
   ],
   "source": [
    "images = torch.tensor(np.random.randint(0, 255, size=(2, 3, 48, 48))).type(torch.float32)\n",
    "yImages = images[:, :, 16:32, 16:32]\n",
    "print(images.shape)\n",
    "print(yImages.shape)\n",
    "\n",
    "texts = torch.tensor(np.random.randint(0, 2, size=(2, 13))).type(torch.float32)\n",
    "print(texts.shape)\n",
    "\n",
    "imageCrit = nn.MSELoss()\n",
    "textCrit = WeightedBCE(tensor_from_list)\n",
    "\n",
    "model = TileEmbeddingVAE()\n",
    "yPredImages, yPredText = model(images, texts)\n",
    "\n",
    "imageLoss = imageCrit(yPredImages, yImages)\n",
    "textLoss = textCrit(yPredText, texts)"
   ]
  },
  {
   "cell_type": "code",
   "execution_count": 10,
   "id": "1c632b57",
   "metadata": {},
   "outputs": [
    {
     "name": "stdout",
     "output_type": "stream",
     "text": [
      "EncodedImage shape:  torch.Size([3, 4096])\n",
      "encodedText shape:  torch.Size([3, 16])\n",
      "(3, 3, 16, 16)\n",
      "(3, 13)\n"
     ]
    }
   ],
   "source": [
    "imageInputTorch = torch.tensor(np.random.randint(0, 255, size=(3, 3, 48, 48)), dtype=torch.float32)\n",
    "textInputTorch = torch.tensor(np.random.randint(0, 2, size=(3, 13)), dtype=torch.float32)\n",
    "\n",
    "model = TileEmbeddingVAE()\n",
    "\n",
    "outputImagesTorch, outputTextTorch = model(imageInputTorch, textInputTorch)\n",
    "outputImagesTorch = outputImagesTorch.detach().numpy()\n",
    "outputTextTorch = outputTextTorch.detach().numpy()\n",
    "print(outputImagesTorch.shape)\n",
    "print(outputTextTorch.shape)"
   ]
  },
  {
   "cell_type": "code",
   "execution_count": 19,
   "id": "142e0979",
   "metadata": {},
   "outputs": [
    {
     "name": "stdout",
     "output_type": "stream",
     "text": [
      "layer imageEncoder.0.weight: | torch.Size([32, 3, 3, 3])\n",
      "layer imageEncoder.0.bias: | torch.Size([32])\n",
      "layer imageEncoder.1.weight: | torch.Size([32])\n",
      "layer imageEncoder.1.bias: | torch.Size([32])\n",
      "layer imageEncoder.3.weight: | torch.Size([32, 32, 3, 3])\n",
      "layer imageEncoder.3.bias: | torch.Size([32])\n",
      "layer imageEncoder.4.weight: | torch.Size([32])\n",
      "layer imageEncoder.4.bias: | torch.Size([32])\n",
      "layer imageEncoder.6.weight: | torch.Size([16, 32, 3, 3])\n",
      "layer imageEncoder.6.bias: | torch.Size([16])\n",
      "layer imageEncoder.7.weight: | torch.Size([16])\n",
      "layer imageEncoder.7.bias: | torch.Size([16])\n",
      "layer textEncoder.0.weight: | torch.Size([32, 13])\n",
      "layer textEncoder.0.bias: | torch.Size([32])\n",
      "layer textEncoder.2.weight: | torch.Size([16, 32])\n",
      "layer textEncoder.2.bias: | torch.Size([16])\n",
      "layer embeddingLayer.weight: | torch.Size([256, 4112])\n",
      "layer embeddingLayer.bias: | torch.Size([256])\n",
      "layer imageDecoder.0.weight: | torch.Size([4096, 256])\n",
      "layer imageDecoder.0.bias: | torch.Size([4096])\n",
      "layer imageDecoder.2.weight: | torch.Size([16, 32, 3, 3])\n",
      "layer imageDecoder.2.bias: | torch.Size([32])\n",
      "layer imageDecoder.3.weight: | torch.Size([32])\n",
      "layer imageDecoder.3.bias: | torch.Size([32])\n",
      "layer imageDecoder.5.weight: | torch.Size([32, 32, 3, 3])\n",
      "layer imageDecoder.5.bias: | torch.Size([32])\n",
      "layer imageDecoder.6.weight: | torch.Size([32])\n",
      "layer imageDecoder.6.bias: | torch.Size([32])\n",
      "layer imageDecoder.8.weight: | torch.Size([32, 3, 3, 3])\n",
      "layer imageDecoder.8.bias: | torch.Size([3])\n",
      "layer textDecoder.0.weight: | torch.Size([16, 256])\n",
      "layer textDecoder.0.bias: | torch.Size([16])\n",
      "layer textDecoder.2.weight: | torch.Size([32, 16])\n",
      "layer textDecoder.2.bias: | torch.Size([32])\n",
      "layer textDecoder.4.weight: | torch.Size([13, 32])\n",
      "layer textDecoder.4.bias: | torch.Size([13])\n"
     ]
    }
   ],
   "source": [
    "for i, (name, layer) in enumerate(model.named_parameters()):\n",
    "    print(f\"layer {name}: | {layer.data.shape}\")"
   ]
  },
  {
   "cell_type": "code",
   "execution_count": 47,
   "id": "e411c0e0",
   "metadata": {},
   "outputs": [],
   "source": [
    "device = \"cuda\" if torch.cuda.is_available() else \"cpu\"\n",
    "\n",
    "model = TileEmbeddingVAE()\n",
    "optimizer = torch.optim.Adam(model.parameters(), lr=0.001)\n",
    "\n",
    "imageCritierion = nn.MSELoss()\n",
    "textCritierion = WeightedBCE(tensor_from_list.to(device))"
   ]
  },
  {
   "cell_type": "code",
   "execution_count": 49,
   "id": "30e59075",
   "metadata": {},
   "outputs": [
    {
     "name": "stdout",
     "output_type": "stream",
     "text": [
      "Epoch 0: loss 2851.6606394094188\n",
      "Epoch 1: loss 1775.5113432344024\n",
      "Epoch 2: loss 1169.3082015884506\n",
      "Epoch 3: loss 809.1266747107873\n",
      "Epoch 4: loss 550.5015021050726\n",
      "Epoch 5: loss 378.29876796482324\n",
      "Epoch 6: loss 275.74297955919815\n",
      "Epoch 7: loss 211.5720647745199\n",
      "Epoch 8: loss 168.90149171202333\n",
      "Epoch 9: loss 145.6778949337406\n"
     ]
    }
   ],
   "source": [
    "batchSize = 32\n",
    "epochs = 10\n",
    "\n",
    "imageLossWeight = 0.8\n",
    "textLossWeight = 1.0 - imageLossWeight\n",
    "\n",
    "model.to(device)\n",
    "model.train()\n",
    "\n",
    "for i in range(epochs):\n",
    "\n",
    "    losses = []\n",
    "\n",
    "    for j in range(0, len(train_image_batch), batchSize):\n",
    "\n",
    "        xImages = train_image_batch[j:j+batchSize]\n",
    "        yImages = xImages[:, 16:32, 16:32, :]\n",
    "        # print(xImages.shape)\n",
    "        # print(yImages.shape)\n",
    "\n",
    "        xImageBatch = torch.tensor(xImages, dtype=torch.float32)\n",
    "        xImageBatch = xImageBatch.reshape((-1, 3, 48, 48))\n",
    "        xImageBatch = xImageBatch.to(device)\n",
    "\n",
    "        yImageBatch = torch.tensor(yImages, dtype=torch.float32)\n",
    "        yImageBatch = yImageBatch.reshape((-1, 3, 16, 16))\n",
    "        yImageBatch = yImageBatch.to(device)\n",
    "\n",
    "        xTextbatch = torch.tensor(train_text_batch[j:j+batchSize], dtype=torch.float32).to(device)\n",
    "\n",
    "        yPredImages, yPredTexts = model(xImageBatch, xTextbatch)\n",
    "        # print(yPredImages.shape)\n",
    "        # print(yImageBatch.shape)\n",
    "\n",
    "        imageLoss = imageCritierion(yPredImages, yImageBatch)\n",
    "        textLoss = textCritierion(yPredTexts, xTextbatch)\n",
    "        # print(imageLoss)\n",
    "        # print(textLoss)\n",
    "\n",
    "        loss = torch.add(torch.mul(imageLoss, imageLossWeight), torch.mul(textLoss, textLossWeight))\n",
    "        optimizer.zero_grad()\n",
    "        loss.backward()\n",
    "        optimizer.step()\n",
    "\n",
    "        losses.append(loss.cpu().detach().item())\n",
    "\n",
    "    print(f\"Epoch {i}: loss {sum(losses)/len(losses)}\")"
   ]
  },
  {
   "cell_type": "code",
   "execution_count": 39,
   "id": "9e667cb2",
   "metadata": {},
   "outputs": [
    {
     "name": "stdout",
     "output_type": "stream",
     "text": [
      "tensor(5767.1675, device='cuda:0', grad_fn=<MseLossBackward0>)\n",
      "tensor(135.8133, device='cuda:0', grad_fn=<MeanBackward0>)\n",
      "torch.Size([])\n",
      "p1:  tensor(4613.7339, device='cuda:0', grad_fn=<MulBackward0>)\n",
      "p2:  tensor(27.1627, device='cuda:0', grad_fn=<MulBackward0>)\n",
      "tensor(4640.8965, device='cuda:0', grad_fn=<AddBackward0>)\n"
     ]
    }
   ],
   "source": [
    "print(imageLoss)\n",
    "print(textLoss)\n",
    "print(textLoss.shape)\n",
    "p1 = torch.mul(imageLoss, imageLossWeight)\n",
    "print(\"p1: \", p1)\n",
    "p2 = torch.mul(textLoss, textLossWeight)\n",
    "print(\"p2: \", p2)\n",
    "loss = torch.mul(imageLoss, imageLossWeight) + (textLoss * textLossWeight)\n",
    "print(loss)"
   ]
  },
  {
   "cell_type": "code",
   "execution_count": 41,
   "id": "372db135",
   "metadata": {},
   "outputs": [],
   "source": [
    "a = glob.glob(\"../data/unified_rep/loz/*\")\n",
    "\n",
    "embeddings = []\n",
    "for filePath in a:\n",
    "    with open(filePath, \"rb\") as f:\n",
    "        level = pickle.load(f)\n",
    "        for tile in level:\n",
    "            for t in tile:\n",
    "                embeddings.append(t)\n",
    "\n",
    "embeddings = np.array(embeddings)"
   ]
  },
  {
   "cell_type": "code",
   "execution_count": 43,
   "id": "c67c2dd9",
   "metadata": {},
   "outputs": [],
   "source": [
    "embeddings = embeddings[:10000]"
   ]
  },
  {
   "cell_type": "code",
   "execution_count": 45,
   "id": "45977a77",
   "metadata": {},
   "outputs": [],
   "source": [
    "# t-SNE to visualize embedding space\n",
    "tsne = TSNE(n_components=2)\n",
    "fitEmbeddings = tsne.fit_transform(embeddings)"
   ]
  },
  {
   "cell_type": "code",
   "execution_count": 51,
   "id": "c670f923",
   "metadata": {},
   "outputs": [
    {
     "name": "stdout",
     "output_type": "stream",
     "text": [
      "(10000, 2)\n"
     ]
    }
   ],
   "source": [
    "print(fitEmbeddings.shape)"
   ]
  },
  {
   "cell_type": "code",
   "execution_count": 54,
   "id": "d6c81762",
   "metadata": {},
   "outputs": [
    {
     "data": {
      "text/plain": [
       "<matplotlib.collections.PathCollection at 0x7fee169ed240>"
      ]
     },
     "execution_count": 54,
     "metadata": {},
     "output_type": "execute_result"
    },
    {
     "data": {
      "image/png": "[encoded data removed]",
      "text/plain": [
       "<Figure size 640x480 with 1 Axes>"
      ]
     },
     "metadata": {},
     "output_type": "display_data"
    }
   ],
   "source": [
    "plt.scatter(fitEmbeddings[:,0], fitEmbeddings[:,1], edgecolors='white')"
   ]
  },
  {
   "cell_type": "code",
   "execution_count": 27,
   "id": "da416efc",
   "metadata": {},
   "outputs": [
    {
     "name": "stdout",
     "output_type": "stream",
     "text": [
      "torch.Size([2, 3, 48, 48])\n",
      "In Forward!\n",
      "torch.Size([2, 32, 16, 16])\n",
      "torch.Size([2, 32, 16, 16])\n",
      "torch.Size([2, 16, 16, 16])\n",
      "torch.Size([2, 4096])\n"
     ]
    },
    {
     "data": {
      "text/plain": [
       "tensor([[0.0000, 0.4615, 0.0000,  ..., 0.4742, 0.0000, 0.3100],\n",
       "        [1.0771, 2.1234, 0.3187,  ..., 0.0000, 0.0000, 0.0000]],\n",
       "       grad_fn=<ViewBackward0>)"
      ]
     },
     "execution_count": 27,
     "metadata": {},
     "output_type": "execute_result"
    }
   ],
   "source": [
    "class TestModel(nn.Module):\n",
    "\n",
    "    def __init__(self):\n",
    "        super().__init__()\n",
    "\n",
    "        self.layer1 = nn.Conv2d(3, 32, kernel_size=3, stride=3)\n",
    "        self.layer2 = nn.Conv2d(32, 32, kernel_size=3, stride=1, padding=1)\n",
    "        self.layer3 = nn.Conv2d(32, 16, kernel_size=3, stride=1, padding=1)\n",
    "        self.flattenLayer = nn.Flatten()\n",
    "        self.batchNorm1 = nn.BatchNorm2d(32)\n",
    "        self.batchNorm2 = nn.BatchNorm2d(32)\n",
    "        self.batchNorm3 = nn.BatchNorm2d(16)\n",
    "        pass\n",
    "\n",
    "    def forward(self, x):\n",
    "        print(\"In Forward!\")\n",
    "        x = self.layer1(x)\n",
    "        x = self.batchNorm1(x)\n",
    "        x = nn.functional.relu(x)\n",
    "        print(x.shape)\n",
    "\n",
    "        x = self.layer2(x)\n",
    "        x = self.batchNorm2(x)\n",
    "        x = nn.functional.relu(x)\n",
    "        print(x.shape)\n",
    "\n",
    "        x = self.layer3(x)\n",
    "        x = self.batchNorm3(x)\n",
    "        x = nn.functional.relu(x)\n",
    "        print(x.shape)\n",
    "\n",
    "        x = self.flattenLayer(x)\n",
    "        print(x.shape)\n",
    "\n",
    "        return x\n",
    "\n",
    "images = torch.tensor(np.random.randint(0, 255, size=(2, 3, 48, 48))).type(torch.float32)\n",
    "print(images.shape)\n",
    "\n",
    "model = TestModel()\n",
    "model(images)"
   ]
  }
 ],
 "metadata": {
  "kernelspec": {
   "display_name": "Python 3 (ipykernel)",
   "language": "python",
   "name": "python3"
  },
  "language_info": {
   "codemirror_mode": {
    "name": "ipython",
    "version": 3
   },
   "file_extension": ".py",
   "mimetype": "text/x-python",
   "name": "python",
   "nbconvert_exporter": "python",
   "pygments_lexer": "ipython3",
   "version": "3.10.14"
  }
 },
 "nbformat": 4,
 "nbformat_minor": 5
}
