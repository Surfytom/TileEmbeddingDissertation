{
 "cells": [
  {
   "cell_type": "code",
   "execution_count": 1,
   "id": "signed-joyce",
   "metadata": {},
   "outputs": [],
   "source": [
    "import os\n",
    "import glob\n",
    "import pandas as pd\n",
    "import numpy as np\n",
    "from sklearn.utils import shuffle\n",
    "import json\n",
    "import pickle\n",
    "from keras.preprocessing import sequence, image\n",
    "from sklearn.preprocessing import MultiLabelBinarizer\n",
    "from sklearn.model_selection import train_test_split\n",
    "from notebook_utils import initialize_environment\n",
    "from keras.preprocessing.image import array_to_img, save_img, img_to_array\n",
    "from keras.models import model_from_json\n",
    "initialize_environment()\n",
    "from ast import literal_eval\n",
    "\n",
    "from utils.data_loading.load_data import get_tile_data"
   ]
  },
  {
   "cell_type": "code",
   "execution_count": 2,
   "id": "closed-viewer",
   "metadata": {
    "scrolled": true
   },
   "outputs": [
    {
     "name": "stdout",
     "output_type": "stream",
     "text": [
      "Games detected in the parent folder ['lode_runner', 'kid_icarus', 'megaman', 'smb', 'loz']\n",
      "Current Game lode_runner\n",
      "Reading mappings\n",
      "Json File Loaded\n",
      "Reading Sprite Data From ../data/context_data/lode_runner\n",
      "Current Game kid_icarus\n",
      "Reading mappings\n",
      "Json File Loaded\n",
      "Reading Sprite Data From ../data/context_data/kid_icarus\n",
      "Current Game megaman\n",
      "Reading mappings\n",
      "Json File Loaded\n",
      "Reading Sprite Data From ../data/context_data/megaman\n",
      "Current Game smb\n",
      "Reading mappings\n",
      "Json File Loaded\n",
      "Reading Sprite Data From ../data/context_data/smb\n",
      "Current Game loz\n",
      "Reading mappings\n",
      "Json File Loaded\n",
      "Reading Sprite Data From ../data/context_data/loz\n",
      "\n",
      "The size of total data is (25394, 5)\n",
      "\n",
      "The size of the train data is  (22854, 5)\n",
      "The size of the test data is  (2540, 5)\n"
     ]
    }
   ],
   "source": [
    "##loading train and testing data\n",
    "\n",
    "data_directory = \"../data/context_data/\"\n",
    "json_directory = \"../data/json_files_trimmed_features/\"\n",
    "data = get_tile_data(data_directory, json_directory)\n",
    "print(\"\\nThe size of total data is\", data.shape)\n",
    "data = shuffle(data)\n",
    "\n",
    "# split into train-test\n",
    "from sklearn.model_selection import train_test_split\n",
    "\n",
    "train_data, test_data = train_test_split(data, test_size=0.10, random_state=42)\n",
    "\n",
    "print(\"\\nThe size of the train data is \", train_data.shape)\n",
    "print(\"The size of the test data is \", test_data.shape)"
   ]
  },
  {
   "cell_type": "code",
   "execution_count": 3,
   "id": "another-fellowship",
   "metadata": {},
   "outputs": [
    {
     "name": "stdout",
     "output_type": "stream",
     "text": [
      "Building feature Dictionary..\n",
      "The feature dictionary has size 13\n",
      "Printing Feature classes\n"
     ]
    },
    {
     "data": {
      "text/plain": [
       "array(['block', 'breakable', 'climbable', 'collectable', 'element',\n",
       "       'empty', 'hazard', 'moving', 'openable', 'passable', 'pipe',\n",
       "       'solid', 'wall'], dtype=object)"
      ]
     },
     "metadata": {},
     "output_type": "display_data"
    }
   ],
   "source": [
    "# Feature Dictionary\n",
    "print(\"Building feature Dictionary..\")\n",
    "mlb = MultiLabelBinarizer()\n",
    "combined_features = np.concatenate(\n",
    "    [train_data[\"features\"], test_data[\"features\"]], axis=0\n",
    ")\n",
    "\n",
    "mlb_model = mlb.fit(combined_features)\n",
    "total_features = len(mlb_model.classes_)\n",
    "print(\"The feature dictionary has size\", total_features)\n",
    "print(\"Printing Feature classes\")\n",
    "display(mlb_model.classes_)"
   ]
  },
  {
   "cell_type": "code",
   "execution_count": 4,
   "id": "ethical-decline",
   "metadata": {},
   "outputs": [
    {
     "name": "stdout",
     "output_type": "stream",
     "text": [
      "Feature Dictionary Loaded\n",
      "The feature dictionary has size 13\n"
     ]
    },
    {
     "data": {
      "text/plain": [
       "'Features'"
      ]
     },
     "metadata": {},
     "output_type": "display_data"
    },
    {
     "data": {
      "text/plain": [
       "array(['block', 'breakable', 'climbable', 'collectable', 'element',\n",
       "       'empty', 'hazard', 'moving', 'openable', 'passable', 'pipe',\n",
       "       'solid', 'wall'], dtype=object)"
      ]
     },
     "metadata": {},
     "output_type": "display_data"
    },
    {
     "name": "stdout",
     "output_type": "stream",
     "text": [
      "Loaded Entire Autoencoder Model from the Disk\n",
      "Loaded Encoder Model from the Disk\n",
      "Loaded Decoder Model from the Disk\n"
     ]
    }
   ],
   "source": [
    "# load the multilabel binarizer\n",
    "with open(\"../model/model_tokenizer.pickle\", \"rb\") as handle:\n",
    "    mlb = pickle.load(handle)\n",
    "print(\"Feature Dictionary Loaded\")\n",
    "total_features = len(mlb.classes_)\n",
    "print(\"The feature dictionary has size\", total_features)\n",
    "display(\"Features\", mlb.classes_)\n",
    "\n",
    "# load entire autoencoder architecture\n",
    "json_file = open(\"../model/autoencoder_model.json\", \"r\")\n",
    "loaded_model_json = json_file.read()\n",
    "json_file.close()\n",
    "ae_sep_output = model_from_json(loaded_model_json)\n",
    "ae_sep_output.load_weights(\"../model/autoencoder_model.h5\")\n",
    "print(\"Loaded Entire Autoencoder Model from the Disk\")\n",
    "\n",
    "# load the encoding architecture and weights\n",
    "json_file = open(\"../model/encoder_model.json\", \"r\")\n",
    "loaded_model_json = json_file.read()\n",
    "json_file.close()\n",
    "encoding_model = model_from_json(loaded_model_json)\n",
    "encoding_model.load_weights(\"../model/encoder_model.h5\")\n",
    "print(\"Loaded Encoder Model from the Disk\")\n",
    "\n",
    "# load the decoding architecture and weights\n",
    "json_file = open(\"../model/decoder_model.json\", \"r\")\n",
    "loaded_model_json = json_file.read()\n",
    "json_file.close()\n",
    "decoding_model = model_from_json(loaded_model_json)\n",
    "# load weights into new model\n",
    "decoding_model.load_weights(\"../model/decoder_model.h5\")\n",
    "print(\"Loaded Decoder Model from the Disk\")"
   ]
  },
  {
   "cell_type": "code",
   "execution_count": 61,
   "id": "palestinian-rehabilitation",
   "metadata": {},
   "outputs": [],
   "source": [
    "# # Build Input Output Training Batches\n",
    "# print(\"Building Training Batches\")\n",
    "\n",
    "# \"\"\"Note : Add Generators\"\"\"\n",
    "# train_image_batch = []\n",
    "# for train_path in train_data[\"image_path\"]:\n",
    "#     tile = image.load_img(train_path, target_size=(48, 48))\n",
    "#     tile_sprite = image.img_to_array(tile)\n",
    "#     train_image_batch.append(tile_sprite)\n",
    "# train_image_batch = np.array(train_image_batch)\n",
    "# train_text_batch = []\n",
    "# for i in range(len(train_data[\"features\"])):\n",
    "#     text_ = mlb.transform(train_data[\"features\"][i : i + 1])\n",
    "#     train_text_batch.append(text_)\n",
    "# train_text_batch = np.array(train_text_batch).reshape(\n",
    "#     train_data.shape[0], total_features\n",
    "# )\n",
    "\n",
    "# output_image_batch = []\n",
    "# for i in range(len(train_image_batch)):\n",
    "#     current_image = train_image_batch[i]\n",
    "#     current_image_centre = train_image_batch[i][16 : 16 + 16, 16 : 16 + 16, :]\n",
    "#     output_image_batch.append(current_image_centre)\n",
    "# output_image_batch = np.array(output_image_batch)\n",
    "# output_text_batch = []\n",
    "# for i in range(len(train_text_batch)):\n",
    "#     current_text = train_text_batch[i]\n",
    "#     output_text_batch.append(current_text)\n",
    "# output_text_batch = np.array(output_text_batch)\n",
    "# print(\"Training Data Ready\")\n",
    "# print(\"Train Image batch shape\", train_image_batch.shape)\n",
    "# print(\"Train Text batch shape\", train_text_batch.shape)\n",
    "# print(\"Output Image batch shape\", output_image_batch.shape)\n",
    "# print(\"Output Text batch shape\", output_text_batch.shape)\n",
    "\n",
    "\n",
    "# # Build Input Output Test Batches\n",
    "# print(\"Building Testing Batches\")\n",
    "# \"\"\"Note : Add Generators\"\"\"\n",
    "# test_image_batch = []\n",
    "# for test_path in test_data[\"image_path\"]:\n",
    "#     tile = image.load_img(test_path, target_size=(48, 48))\n",
    "#     tile_sprite = image.img_to_array(tile)\n",
    "#     test_image_batch.append(tile_sprite)\n",
    "# test_image_batch = np.array(test_image_batch)\n",
    "# test_text_batch = []\n",
    "# for i in range(len(test_data[\"features\"])):\n",
    "#     text_ = mlb.transform(test_data[\"features\"][i : i + 1])\n",
    "#     test_text_batch.append(text_)\n",
    "# test_text_batch = np.array(test_text_batch).reshape(test_data.shape[0], total_features)\n",
    "# print(\"\\n\\nTesting Data Ready\")\n",
    "# print(\"Train Image batch shape\", test_image_batch.shape)\n",
    "# print(\"Train Text batch shape\", test_text_batch.shape)"
   ]
  },
  {
   "cell_type": "code",
   "execution_count": 219,
   "id": "drawn-emission",
   "metadata": {},
   "outputs": [
    {
     "data": {
      "text/plain": [
       "array([ 15,  18,  41,  44,  49,  55,  58,  83,  92, 109, 146, 147, 148,\n",
       "       159, 161, 164, 166, 177, 189, 191, 192, 202, 221, 223, 233])"
      ]
     },
     "metadata": {},
     "output_type": "display_data"
    },
    {
     "data": {
      "text/plain": [
       "array([  36,   74,  277,  286,  367,  412,  423,  494,  857, 1031, 1412,\n",
       "       1658, 1765, 1770, 2110])"
      ]
     },
     "metadata": {},
     "output_type": "display_data"
    }
   ],
   "source": [
    "data_1=data[data[\"game_identifier\"]==\"smb\"]\n",
    "display(np.array(np.where(data_1['centre_tile']=='S'))[0][:25])\n",
    "\n",
    "\n",
    "data_2=data[data[\"game_identifier\"]==\"megaman\"]\n",
    "display(np.array(np.where(data_2['centre_tile']=='l'))[0][:15])"
   ]
  },
  {
   "cell_type": "code",
   "execution_count": 228,
   "id": "pending-tower",
   "metadata": {},
   "outputs": [
    {
     "name": "stdout",
     "output_type": "stream",
     "text": [
      "S\n",
      "D\n",
      "H\n",
      "l\n"
     ]
    }
   ],
   "source": [
    "i=109\n",
    "j=1532\n",
    "k=399\n",
    "m=423\n",
    "\n",
    "print(data_1['centre_tile'].iloc[i])\n",
    "print(data_2['centre_tile'].iloc[j])\n",
    "print(data_2['centre_tile'].iloc[k])\n",
    "print(data_2['centre_tile'].iloc[m])"
   ]
  },
  {
   "cell_type": "code",
   "execution_count": 229,
   "id": "obvious-filing",
   "metadata": {},
   "outputs": [
    {
     "data": {
      "image/png": "[encoded data removed]",
      "text/plain": [
       "<PIL.Image.Image image mode=RGB size=16x16 at 0x7FF9B02AD748>"
      ]
     },
     "metadata": {},
     "output_type": "display_data"
    },
    {
     "data": {
      "text/plain": [
       "[('breakable', 'solid')]"
      ]
     },
     "metadata": {},
     "output_type": "display_data"
    },
    {
     "data": {
      "image/png": "[encoded data removed]",
      "text/plain": [
       "<PIL.Image.Image image mode=RGB size=16x16 at 0x7FF9B02ADDA0>"
      ]
     },
     "metadata": {},
     "output_type": "display_data"
    },
    {
     "data": {
      "text/plain": [
       "[('moving', 'solid')]"
      ]
     },
     "metadata": {},
     "output_type": "display_data"
    },
    {
     "data": {
      "image/png": "[encoded data removed]",
      "text/plain": [
       "<PIL.Image.Image image mode=RGB size=16x16 at 0x7FF9B0306B70>"
      ]
     },
     "metadata": {},
     "output_type": "display_data"
    },
    {
     "data": {
      "text/plain": [
       "[('hazard', 'solid')]"
      ]
     },
     "metadata": {},
     "output_type": "display_data"
    },
    {
     "data": {
      "image/png": "[encoded data removed]",
      "text/plain": [
       "<PIL.Image.Image image mode=RGB size=16x16 at 0x7FF9945C4048>"
      ]
     },
     "metadata": {},
     "output_type": "display_data"
    },
    {
     "data": {
      "text/plain": [
       "[('collectable', 'passable')]"
      ]
     },
     "metadata": {},
     "output_type": "display_data"
    },
    {
     "data": {
      "image/png": "[encoded data removed]",
      "text/plain": [
       "<PIL.Image.Image image mode=RGB size=16x16 at 0x7FF9947BAC88>"
      ]
     },
     "metadata": {},
     "output_type": "display_data"
    },
    {
     "data": {
      "text/plain": [
       "[('breakable', 'solid')]"
      ]
     },
     "metadata": {},
     "output_type": "display_data"
    },
    {
     "data": {
      "image/png": "[encoded data removed]",
      "text/plain": [
       "<PIL.Image.Image image mode=RGB size=16x16 at 0x7FF9B01B7710>"
      ]
     },
     "metadata": {},
     "output_type": "display_data"
    },
    {
     "data": {
      "text/plain": [
       "[('solid',)]"
      ]
     },
     "metadata": {},
     "output_type": "display_data"
    },
    {
     "data": {
      "image/png": "[encoded data removed]",
      "text/plain": [
       "<PIL.Image.Image image mode=RGB size=16x16 at 0x7FF99477B5F8>"
      ]
     },
     "metadata": {},
     "output_type": "display_data"
    },
    {
     "data": {
      "text/plain": [
       "[('solid',)]"
      ]
     },
     "metadata": {},
     "output_type": "display_data"
    }
   ],
   "source": [
    "\n",
    "tile_i = image.load_img(data_1['image_path'].iloc[i], target_size=(48, 48))\n",
    "tile_sprite_i = image.img_to_array(tile_i)\n",
    "i_centre=tile_sprite_i[16:32,16:32,:]\n",
    "tile_sprite_i=tile_sprite_i.reshape(1,48,48,3)\n",
    "Test1=array_to_img(i_centre)\n",
    "display(Test1)\n",
    "text_i = mlb.transform(data_1[\"features\"].iloc[i : i + 1])\n",
    "display(mlb.inverse_transform(text_i))\n",
    "\n",
    "tile_j = image.load_img(data_2['image_path'].iloc[j], target_size=(48, 48))\n",
    "tile_sprite_j = image.img_to_array(tile_j)\n",
    "j_centre=tile_sprite_j[16:32,16:32,:]\n",
    "tile_sprite_j=tile_sprite_j.reshape(1,48,48,3)\n",
    "Test2=array_to_img(j_centre)\n",
    "display(Test2)\n",
    "text_j = mlb.transform(data_2[\"features\"].iloc[j : j + 1])\n",
    "display(mlb.inverse_transform(text_j))\n",
    "\n",
    "tile_k = image.load_img(data_2['image_path'].iloc[k], target_size=(48, 48))\n",
    "tile_sprite_k = image.img_to_array(tile_k)\n",
    "k_centre=tile_sprite_k[16:32,16:32,:]\n",
    "tile_sprite_k=tile_sprite_k.reshape(1,48,48,3)\n",
    "Test2=array_to_img(k_centre)\n",
    "display(Test2)\n",
    "text_k = mlb.transform(data_2[\"features\"].iloc[k : k + 1])\n",
    "display(mlb.inverse_transform(text_k))\n",
    "\n",
    "tile_m = image.load_img(data_2['image_path'].iloc[m], target_size=(48, 48))\n",
    "tile_sprite_m = image.img_to_array(tile_m)\n",
    "m_centre=tile_sprite_m[16:32,16:32,:]\n",
    "tile_sprite_m=tile_sprite_m.reshape(1,48,48,3)\n",
    "Test2=array_to_img(m_centre)\n",
    "display(Test2)\n",
    "text_m = mlb.transform(data_2[\"features\"].iloc[m : m + 1])\n",
    "display(mlb.inverse_transform(text_m))\n",
    "\n",
    "encoding_i=encoding_model.predict([tile_sprite_i,text_i])\n",
    "encoding_j=encoding_model.predict([tile_sprite_j,text_j])\n",
    "encoding_k=encoding_model.predict([tile_sprite_k,text_k])\n",
    "encoding_m=encoding_model.predict([tile_sprite_m,text_m])\n",
    "\n",
    "\n",
    "encoding_ij=(encoding_i-encoding_j)*0.50+encoding_j\n",
    "decoding_img,decoding_text = decoding_model.predict(encoding_ij)\n",
    "Test3=array_to_img(decoding_img.reshape(16,16,3))\n",
    "display(Test3)\n",
    "decoding_text = [np.where(text > 0.5, 1, 0) for text in decoding_text]\n",
    "decoding_text=np.array(decoding_text)\n",
    "display(mlb.inverse_transform(decoding_text))\n",
    "\n",
    "encoding_ik=(encoding_i-encoding_k)*0.50+encoding_k\n",
    "decoding_img,decoding_text = decoding_model.predict(encoding_ik)\n",
    "Test3=array_to_img(decoding_img.reshape(16,16,3))\n",
    "display(Test3)\n",
    "decoding_text = [np.where(text > 0.5, 1, 0) for text in decoding_text]\n",
    "decoding_text=np.array(decoding_text)\n",
    "display(mlb.inverse_transform(decoding_text))\n",
    "\n",
    "encoding_im=(encoding_i-encoding_m)*0.50+encoding_m\n",
    "decoding_img,decoding_text = decoding_model.predict(encoding_im)\n",
    "Test3=array_to_img(decoding_img.reshape(16,16,3))\n",
    "display(Test3)\n",
    "decoding_text = [np.where(text > 0.5, 1, 0) for text in decoding_text]\n",
    "decoding_text=np.array(decoding_text)\n",
    "display(mlb.inverse_transform(decoding_text))"
   ]
  },
  {
   "cell_type": "code",
   "execution_count": 183,
   "id": "geological-complement",
   "metadata": {
    "scrolled": false
   },
   "outputs": [
    {
     "data": {
      "image/png": "[encoded data removed]",
      "text/plain": [
       "<PIL.Image.Image image mode=RGB size=16x16 at 0x7FF9B02B1668>"
      ]
     },
     "metadata": {},
     "output_type": "display_data"
    },
    {
     "data": {
      "text/plain": [
       "[('hazard', 'moving')]"
      ]
     },
     "metadata": {},
     "output_type": "display_data"
    },
    {
     "data": {
      "image/png": "[encoded data removed]",
      "text/plain": [
       "<PIL.Image.Image image mode=RGB size=16x16 at 0x7FF9B02B1EF0>"
      ]
     },
     "metadata": {},
     "output_type": "display_data"
    },
    {
     "data": {
      "text/plain": [
       "[('breakable', 'solid')]"
      ]
     },
     "metadata": {},
     "output_type": "display_data"
    },
    {
     "name": "stdout",
     "output_type": "stream",
     "text": [
      "\\PRINTING\n"
     ]
    },
    {
     "data": {
      "image/png": "[encoded data removed]",
      "text/plain": [
       "<PIL.Image.Image image mode=RGB size=16x16 at 0x7FF994622C88>"
      ]
     },
     "metadata": {},
     "output_type": "display_data"
    },
    {
     "data": {
      "text/plain": [
       "[('breakable', 'solid')]"
      ]
     },
     "metadata": {},
     "output_type": "display_data"
    },
    {
     "data": {
      "image/png": "[encoded data removed]",
      "text/plain": [
       "<PIL.Image.Image image mode=RGB size=16x16 at 0x7FF9946222B0>"
      ]
     },
     "metadata": {},
     "output_type": "display_data"
    },
    {
     "data": {
      "text/plain": [
       "[('hazard', 'solid')]"
      ]
     },
     "metadata": {},
     "output_type": "display_data"
    },
    {
     "data": {
      "image/png": "[encoded data removed]",
      "text/plain": [
       "<PIL.Image.Image image mode=RGB size=16x16 at 0x7FF9B02AD2E8>"
      ]
     },
     "metadata": {},
     "output_type": "display_data"
    },
    {
     "data": {
      "text/plain": [
       "[('hazard', 'moving')]"
      ]
     },
     "metadata": {},
     "output_type": "display_data"
    }
   ],
   "source": [
    "tile_i = image.load_img(data_1['image_path'].iloc[i], target_size=(48, 48))\n",
    "tile_sprite_i = image.img_to_array(tile_i)\n",
    "i_centre=tile_sprite_i[16:32,16:32,:]\n",
    "tile_sprite_i=tile_sprite_i.reshape(1,48,48,3)\n",
    "Test1=array_to_img(i_centre)\n",
    "display(Test1)\n",
    "text_i = mlb.transform(data_1[\"features\"].iloc[i : i + 1])\n",
    "display(mlb.inverse_transform(text_i))\n",
    "\n",
    "tile_j = image.load_img(data_2['image_path'].iloc[j], target_size=(48, 48))\n",
    "tile_sprite_j = image.img_to_array(tile_j)\n",
    "j_centre=tile_sprite_j[16:32,16:32,:]\n",
    "tile_sprite_j=tile_sprite_j.reshape(1,48,48,3)\n",
    "Test2=array_to_img(j_centre)\n",
    "display(Test2)\n",
    "text_j = mlb.transform(data_2[\"features\"].iloc[j : j + 1])\n",
    "display(mlb.inverse_transform(text_j))\n",
    "\n",
    "encoding_i=encoding_model.predict([tile_sprite_i,text_i])\n",
    "encoding_j=encoding_model.predict([tile_sprite_j,text_j])\n",
    "\n",
    "print(\"\\PRINTING\")\n",
    "\n",
    "encoding_ij=(encoding_i-encoding_j)*0.25+encoding_j\n",
    "decoding_img,decoding_text = decoding_model.predict(encoding_ij)\n",
    "Test3=array_to_img(decoding_img.reshape(16,16,3))\n",
    "display(Test3)\n",
    "decoding_text = [np.where(text > 0.5, 1, 0) for text in decoding_text]\n",
    "decoding_text=np.array(decoding_text)\n",
    "display(mlb.inverse_transform(decoding_text))\n",
    "\n",
    "encoding_ij=(encoding_i-encoding_j)*0.50+encoding_j\n",
    "decoding_img,decoding_text = decoding_model.predict(encoding_ij)\n",
    "Test3=array_to_img(decoding_img.reshape(16,16,3))\n",
    "display(Test3)\n",
    "decoding_text = [np.where(text > 0.5, 1, 0) for text in decoding_text]\n",
    "decoding_text=np.array(decoding_text)\n",
    "display(mlb.inverse_transform(decoding_text))\n",
    "\n",
    "encoding_ij=(encoding_i-encoding_j)*0.75+encoding_j\n",
    "decoding_img,decoding_text = decoding_model.predict(encoding_ij)\n",
    "Test3=array_to_img(decoding_img.reshape(16,16,3))\n",
    "display(Test3)\n",
    "decoding_text = [np.where(text > 0.5, 1, 0) for text in decoding_text]\n",
    "decoding_text=np.array(decoding_text)\n",
    "display(mlb.inverse_transform(decoding_text))\n",
    "\n",
    "# print(\"\\nREVERSING\")\n",
    "\n",
    "# encoding_ij=(encoding_j-encoding_i)*0.25+encoding_i\n",
    "# decoding_img,decoding_text = decoding_model.predict(encoding_ij)\n",
    "# Test3=array_to_img(decoding_img.reshape(16,16,3))\n",
    "# display(Test3)\n",
    "# decoding_text = [np.where(text > 0.5, 1, 0) for text in decoding_text]\n",
    "# decoding_text=np.array(decoding_text)\n",
    "# display(mlb.inverse_transform(decoding_text))\n",
    "\n",
    "# encoding_ij=(encoding_j-encoding_i)*0.5+encoding_i\n",
    "# decoding_img,decoding_text = decoding_model.predict(encoding_ij)\n",
    "# Test3=array_to_img(decoding_img.reshape(16,16,3))\n",
    "# display(Test3)\n",
    "# decoding_text = [np.where(text > 0.5, 1, 0) for text in decoding_text]\n",
    "# decoding_text=np.array(decoding_text)\n",
    "# display(mlb.inverse_transform(decoding_text))\n",
    "\n",
    "# encoding_ij=(encoding_j-encoding_i)*0.75+encoding_i\n",
    "# decoding_img,decoding_text = decoding_model.predict(encoding_ij)\n",
    "# Test3=array_to_img(decoding_img.reshape(16,16,3))\n",
    "# display(Test3)\n",
    "# decoding_text = [np.where(text > 0.5, 1, 0) for text in decoding_text]\n",
    "# decoding_text=np.array(decoding_text)\n",
    "# display(mlb.inverse_transform(decoding_text))\n",
    "\n",
    "\n",
    "# encoding_ij=(0.70*encoding_i)-(0.30*encoding_j)\n",
    "# decoding_img,decoding_text = decoding_model.predict(encoding_ij)\n",
    "# Test3=array_to_img(decoding_img.reshape(16,16,3))\n",
    "# display(Test3)\n",
    "# decoding_text = [np.where(text > 0.5, 1, 0) for text in decoding_text]\n",
    "# decoding_text=np.array(decoding_text)\n",
    "# display(mlb.inverse_transform(decoding_text))"
   ]
  },
  {
   "cell_type": "code",
   "execution_count": 217,
   "id": "superb-topic",
   "metadata": {},
   "outputs": [
    {
     "data": {
      "image/png": "[encoded data removed]",
      "text/plain": [
       "<PIL.Image.Image image mode=RGB size=68x16 at 0x7F115C6C3E80>"
      ]
     },
     "execution_count": 217,
     "metadata": {},
     "output_type": "execute_result"
    }
   ],
   "source": [
    "import sys\n",
    "from PIL import Image\n",
    "\n",
    "images = [Test1, Test2, Test3]\n",
    "widths, heights = zip(*(i.size for i in images))\n",
    "\n",
    "total_width = sum(widths)\n",
    "max_height = max(heights)\n",
    "\n",
    "new_im = Image.new('RGB', (total_width+20, max_height))\n",
    "\n",
    "x_offset = 0\n",
    "for im in images:\n",
    "    new_im.paste(im, (x_offset,0))\n",
    "    x_offset +=10\n",
    "    x_offset += im.size[0]\n",
    "\n",
    "new_im"
   ]
  },
  {
   "cell_type": "code",
   "execution_count": 211,
   "id": "complete-antibody",
   "metadata": {},
   "outputs": [
    {
     "data": {
      "text/plain": [
       "[('block',\n",
       "  'breakable',\n",
       "  'climbable',\n",
       "  'collectable',\n",
       "  'element',\n",
       "  'empty',\n",
       "  'hazard',\n",
       "  'moving',\n",
       "  'passable')]"
      ]
     },
     "execution_count": 211,
     "metadata": {},
     "output_type": "execute_result"
    }
   ],
   "source": [
    "i=0\n",
    "j=10\n",
    "\n",
    "tile_i = image.load_img(smb_data['image_path'].iloc[i], target_size=(48, 48))\n",
    "tile_sprite_i = image.img_to_array(tile_i)\n",
    "i_centre=tile_sprite_i[16:32,16:32,:]\n",
    "tile_sprite_i=tile_sprite_i.reshape(1,48,48,3)\n",
    "Test1=array_to_img(i_centre)\n",
    "text_i = mlb.transform(train_data[\"features\"].iloc[i : i + 1])\n",
    "\n",
    "tile_j = image.load_img(smb_data['image_path'].iloc[j], target_size=(48, 48))\n",
    "tile_sprite_j = image.img_to_array(tile_j)\n",
    "j_centre=tile_sprite_j[16:32,16:32,:]\n",
    "tile_sprite_j=tile_sprite_j.reshape(1,48,48,3)\n",
    "Test2=array_to_img(j_centre)\n",
    "text_j = mlb.transform(train_data[\"features\"].iloc[j : j + 1])\n",
    "\n",
    "encoding_i=encoding_model.predict([tile_sprite_i,text_i])\n",
    "encoding_j=encoding_model.predict([tile_sprite_j,text_j])\n",
    "encoding_ij=(encoding_i)-(encoding_j)\n",
    "\n",
    "decoding_img,decoding_text = decoding_model.predict(encoding_ij)\n",
    "Test3=array_to_img(decoding_img.reshape(16,16,3))\n",
    "decoding_text = [np.where(text > 0.5, 1, 0) for text in decoding_text]\n",
    "decoding_text=np.array(decoding_text)\n",
    "mlb.inverse_transform(decoding_text)"
   ]
  },
  {
   "cell_type": "code",
   "execution_count": 39,
   "id": "ahead-finding",
   "metadata": {},
   "outputs": [
    {
     "data": {
      "image/png": "[encoded data removed]",
      "text/plain": [
       "<PIL.Image.Image image mode=RGB size=68x16 at 0x7F11641AC390>"
      ]
     },
     "execution_count": 39,
     "metadata": {},
     "output_type": "execute_result"
    }
   ],
   "source": [
    "import sys\n",
    "from PIL import Image\n",
    "\n",
    "images = [Test1, Test2, Test3]\n",
    "widths, heights = zip(*(i.size for i in images))\n",
    "\n",
    "total_width = sum(widths)\n",
    "max_height = max(heights)\n",
    "\n",
    "new_im = Image.new('RGB', (total_width+20, max_height))\n",
    "\n",
    "x_offset = 0\n",
    "for im in images:\n",
    "    new_im.paste(im, (x_offset,0))\n",
    "    x_offset +=10\n",
    "    x_offset += im.size[0]\n",
    "\n",
    "new_im.save('test.jpg')\n",
    "new_im"
   ]
  },
  {
   "cell_type": "code",
   "execution_count": 96,
   "id": "featured-vault",
   "metadata": {},
   "outputs": [
    {
     "data": {
      "text/plain": [
       "'EF'"
      ]
     },
     "execution_count": 96,
     "metadata": {},
     "output_type": "execute_result"
    }
   ],
   "source": [
    "i=90\n",
    "j=13\n",
    "\n",
    "centre_tile=str(train_data['centre_tile'].iloc[i])+str(train_data['centre_tile'].iloc[j])\n",
    "centre_tile"
   ]
  },
  {
   "cell_type": "code",
   "execution_count": 97,
   "id": "hydraulic-massachusetts",
   "metadata": {},
   "outputs": [],
   "source": [
    "tile_i = image.load_img(train_data['image_path'].iloc[i], target_size=(48, 48))\n",
    "tile_sprite_i = image.img_to_array(tile_i)\n",
    "tile_sprite_i = tile_sprite_i.reshape(1,48,48,3)\n",
    "text_i = mlb.transform(train_data[\"features\"].iloc[i : i + 1])\n",
    "\n",
    "tile_j = image.load_img(train_data['image_path'].iloc[j], target_size=(48, 48))\n",
    "tile_sprite_j = image.img_to_array(tile_j)\n",
    "tile_sprite_j = tile_sprite_j.reshape(1,48,48,3)\n",
    "text_j = mlb.transform(train_data[\"features\"].iloc[j : j + 1])"
   ]
  },
  {
   "cell_type": "code",
   "execution_count": 98,
   "id": "substantial-bottle",
   "metadata": {},
   "outputs": [
    {
     "data": {
      "image/png": "[encoded data removed]",
      "text/plain": [
       "<PIL.PngImagePlugin.PngImageFile image mode=RGB size=48x48 at 0x7F7F1C444320>"
      ]
     },
     "metadata": {},
     "output_type": "display_data"
    },
    {
     "name": "stdout",
     "output_type": "stream",
     "text": [
      "[[0 0 0 0 0 0 1 0 0 0 0 1 0]]\n",
      "[('hazard', 'solid')]\n"
     ]
    }
   ],
   "source": [
    "display(tile_i)\n",
    "print(text_i)\n",
    "print(mlb.inverse_transform(text_i))"
   ]
  },
  {
   "cell_type": "code",
   "execution_count": 99,
   "id": "frank-diabetes",
   "metadata": {
    "scrolled": true
   },
   "outputs": [
    {
     "data": {
      "image/png": "[encoded data removed]",
      "text/plain": [
       "<PIL.PngImagePlugin.PngImageFile image mode=RGB size=48x48 at 0x7F7F1C4441D0>"
      ]
     },
     "metadata": {},
     "output_type": "display_data"
    },
    {
     "name": "stdout",
     "output_type": "stream",
     "text": [
      "[[0 0 0 0 0 0 0 0 0 0 0 1 0]]\n",
      "[('solid',)]\n"
     ]
    }
   ],
   "source": [
    "display(tile_j)\n",
    "print(text_j)\n",
    "print(mlb.inverse_transform(text_j))"
   ]
  },
  {
   "cell_type": "code",
   "execution_count": 100,
   "id": "painted-knight",
   "metadata": {},
   "outputs": [
    {
     "data": {
      "text/plain": [
       "(1, 13)"
      ]
     },
     "execution_count": 100,
     "metadata": {},
     "output_type": "execute_result"
    }
   ],
   "source": [
    "text_i.shape"
   ]
  },
  {
   "cell_type": "code",
   "execution_count": 109,
   "id": "arctic-husband",
   "metadata": {},
   "outputs": [
    {
     "data": {
      "image/png": "[encoded data removed]",
      "text/plain": [
       "<PIL.Image.Image image mode=RGB size=16x16 at 0x7F7F1C3B8EB8>"
      ]
     },
     "metadata": {},
     "output_type": "display_data"
    },
    {
     "data": {
      "text/plain": [
       "[('hazard', 'solid')]"
      ]
     },
     "execution_count": 109,
     "metadata": {},
     "output_type": "execute_result"
    }
   ],
   "source": [
    "encoding_i=encoding_model.predict([tile_sprite_i,text_i])\n",
    "encoding_j=encoding_model.predict([tile_sprite_j,text_j])\n",
    "\n",
    "encoding_ij=(encoding_i+encoding_j)\n",
    "decoding_img,decoding_text = decoding_model.predict(encoding_ij)\n",
    "display(array_to_img(decoding_img.reshape(16,16,3)))\n",
    "decoding_text = [np.where(text > 0.5, 1, 0) for text in decoding_text]\n",
    "decoding_text=np.array(decoding_text)\n",
    "mlb.inverse_transform(decoding_text)"
   ]
  },
  {
   "cell_type": "code",
   "execution_count": 110,
   "id": "metallic-submission",
   "metadata": {},
   "outputs": [
    {
     "data": {
      "image/png": "[encoded data removed]",
      "text/plain": [
       "<PIL.Image.Image image mode=RGB size=16x16 at 0x7F7F1C4D2208>"
      ]
     },
     "metadata": {},
     "output_type": "display_data"
    },
    {
     "data": {
      "text/plain": [
       "[('climbable', 'hazard', 'moving', 'solid')]"
      ]
     },
     "execution_count": 110,
     "metadata": {},
     "output_type": "execute_result"
    }
   ],
   "source": [
    "encoding_i=encoding_model.predict([tile_sprite_i,text_i])\n",
    "encoding_j=encoding_model.predict([tile_sprite_j,text_j])\n",
    "\n",
    "encoding_ij=(encoding_i-encoding_j)\n",
    "decoding_img,decoding_text = decoding_model.predict(encoding_ij)\n",
    "display(array_to_img(decoding_img.reshape(16,16,3)))\n",
    "decoding_text = [np.where(text > 0.5, 1, 0) for text in decoding_text]\n",
    "decoding_text=np.array(decoding_text)\n",
    "mlb.inverse_transform(decoding_text)"
   ]
  },
  {
   "cell_type": "code",
   "execution_count": 107,
   "id": "junior-grass",
   "metadata": {},
   "outputs": [],
   "source": []
  },
  {
   "cell_type": "code",
   "execution_count": 90,
   "id": "editorial-favor",
   "metadata": {},
   "outputs": [],
   "source": [
    "# decoding_img,decoding_text=ae_sep_output.predict([tile_sprite_i,text_i])"
   ]
  },
  {
   "cell_type": "code",
   "execution_count": 104,
   "id": "wooden-sleeping",
   "metadata": {
    "scrolled": true
   },
   "outputs": [
    {
     "data": {
      "image/png": "[encoded data removed]",
      "text/plain": [
       "<PIL.Image.Image image mode=RGB size=16x16 at 0x7F7F1C4564A8>"
      ]
     },
     "execution_count": 104,
     "metadata": {},
     "output_type": "execute_result"
    }
   ],
   "source": []
  },
  {
   "cell_type": "code",
   "execution_count": 105,
   "id": "raised-pipeline",
   "metadata": {},
   "outputs": [
    {
     "data": {
      "text/plain": [
       "[('block', 'breakable', 'openable', 'solid')]"
      ]
     },
     "execution_count": 105,
     "metadata": {},
     "output_type": "execute_result"
    }
   ],
   "source": []
  },
  {
   "cell_type": "code",
   "execution_count": null,
   "id": "turned-academy",
   "metadata": {},
   "outputs": [],
   "source": []
  }
 ],
 "metadata": {
  "kernelspec": {
   "display_name": "tile_embeddings",
   "language": "python",
   "name": "tile_embeddings"
  },
  "language_info": {
   "codemirror_mode": {
    "name": "ipython",
    "version": 3
   },
   "file_extension": ".py",
   "mimetype": "text/x-python",
   "name": "python",
   "nbconvert_exporter": "python",
   "pygments_lexer": "ipython3",
   "version": "3.6.9"
  }
 },
 "nbformat": 4,
 "nbformat_minor": 5
}
