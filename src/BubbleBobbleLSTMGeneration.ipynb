{
 "cells": [
  {
   "cell_type": "code",
   "execution_count": 1,
   "metadata": {},
   "outputs": [],
   "source": [
    "import numpy as np\n",
    "import glob\n",
    "import os\n",
    "import shutil\n",
    "import cv2\n",
    "from annoy import AnnoyIndex\n",
    "import torch\n",
    "import matplotlib.pyplot as plt\n",
    "\n",
    "# Important so PyTorch can load LSTM Model Weights\n",
    "from Utils.PTModel.Models import LSTMModel\n",
    "\n",
    "MODELNAME = \"AutoEncoderwATT\"\n",
    "NUMBEROFLEVELS = 95\n",
    "RANDOMSEED = 1"
   ]
  },
  {
   "cell_type": "code",
   "execution_count": 3,
   "metadata": {},
   "outputs": [],
   "source": [
    "bbEmbeddingPath = f\"Models/{MODELNAME}/LevelUnifiedRep/BubbleBobble\"\n",
    "\n",
    "columnRefArray = np.array([i+1 for i in range(13) for j in range(12)])\n",
    "\n",
    "bbEmbeddingPaths = sorted(glob.glob(f\"{bbEmbeddingPath}/Level*.npy\"))\n",
    "bbStringNames = [path[path.rfind(\"/\")+1:path.rfind(\"Embedding.npy\")] for path in bbEmbeddingPaths]"
   ]
  },
  {
   "cell_type": "code",
   "execution_count": 4,
   "metadata": {},
   "outputs": [
    {
     "name": "stderr",
     "output_type": "stream",
     "text": [
      "/tmp/ipykernel_21609/3074632917.py:1: FutureWarning: You are using `torch.load` with `weights_only=False` (the current default value), which uses the default pickle module implicitly. It is possible to construct malicious pickle data which will execute arbitrary code during unpickling (See https://github.com/pytorch/pytorch/blob/main/SECURITY.md#untrusted-models for more details). In a future release, the default value for `weights_only` will be flipped to `True`. This limits the functions that could be executed during unpickling. Arbitrary objects will no longer be allowed to be loaded via this mode unless they are explicitly allowlisted by the user via `torch.serialization.add_safe_globals`. We recommend you start setting `weights_only=True` for any use case where you don't have full control of the loaded file. Please open an issue on GitHub for any issues related to this experimental feature.\n",
      "  model = torch.load(f\"Models/{MODELNAME}/BubbleBobbleLSTM.pt\")\n"
     ]
    }
   ],
   "source": [
    "model = torch.load(f\"Models/{MODELNAME}/BubbleBobbleLSTM.pt\")"
   ]
  },
  {
   "cell_type": "code",
   "execution_count": 11,
   "metadata": {},
   "outputs": [],
   "source": [
    "# Deletes the directory of the Bubble Bobble levels folder\n",
    "shutil.rmtree(f\"Models/{MODELNAME}/BubbleBobbleLevels\")"
   ]
  },
  {
   "cell_type": "code",
   "execution_count": 5,
   "metadata": {},
   "outputs": [
    {
     "name": "stdout",
     "output_type": "stream",
     "text": [
      "tileMap shape: (14820, 16, 16, 3)\n",
      "embedMap shape: (14820, 256)\n",
      "Maps Loaded\n",
      "Initialised Tree\n",
      "Building Tree\n",
      "Tree Built\n",
      "Annoy Map Trained\n",
      "Random Start Point: 0\n"
     ]
    }
   ],
   "source": [
    "# To safeguard against accidentally deleting the wrong model folder\n",
    "if os.path.isdir(f\"Models/{MODELNAME}/BubbleBobbleLevels\"):\n",
    "    raise RuntimeError(f\"Models/{MODELNAME}/BubbleBobbleLevels path already exists. Please delete it an re-run the code.\")\n",
    "\n",
    "os.mkdir(f\"Models/{MODELNAME}/BubbleBobbleLevels\")\n",
    "\n",
    "device = \"cuda\" if torch.cuda.is_available() else \"cpu\"\n",
    "\n",
    "model.to(device)\n",
    "model.eval()\n",
    "\n",
    "tileMap = np.load(f\"{bbEmbeddingPath}/centerTiles.npy\")\n",
    "embedMap = np.load(f\"{bbEmbeddingPath}/embeddings.npy\")\n",
    "\n",
    "print(f\"tileMap shape: {tileMap.shape}\")\n",
    "print(f\"embedMap shape: {embedMap.shape}\")\n",
    "\n",
    "print(\"Maps Loaded\")\n",
    "\n",
    "nnTree = AnnoyIndex(256, 'euclidean')\n",
    "\n",
    "print(\"Initialised Tree\")\n",
    "\n",
    "#for i in range(embedMap.shape[0]): print(f\"Added {i}th item to tree\"), nnTree.add_item(i, embedMap[i])\n",
    "for i in range(embedMap.shape[0]): nnTree.add_item(i, embedMap[i])\n",
    "\n",
    "print(\"Building Tree\")\n",
    "nnTree.build(15)\n",
    "print(\"Tree Built\")\n",
    "\n",
    "print(\"Annoy Map Trained\")\n",
    "\n",
    "N = 78\n",
    "\n",
    "np.random.seed(RANDOMSEED)\n",
    "randStartPoint = np.random.randint(0, len(bbEmbeddingPaths)-NUMBEROFLEVELS) if len(bbEmbeddingPaths)-NUMBEROFLEVELS > 0 else 0\n",
    "print(f\"Random Start Point: {randStartPoint}\")\n",
    "\n",
    "for i, levelEmbeddingPath in enumerate(bbEmbeddingPaths[randStartPoint:randStartPoint+NUMBEROFLEVELS]):\n",
    "\n",
    "    input = []\n",
    "    column = []\n",
    "    target = []\n",
    "\n",
    "    levelEmbeddingArray = np.load(levelEmbeddingPath)\n",
    "    #levelEmbeddingArray = get_pickle(levelEmbeddingPath)\n",
    "\n",
    "    for j in range(len(levelEmbeddingArray) - N):\n",
    "\n",
    "        padLength = N - j\n",
    "\n",
    "        dataI = np.concatenate((np.zeros(shape=(padLength, 256)), levelEmbeddingArray[:j]), axis=0)\n",
    "\n",
    "        dataT = levelEmbeddingArray[j:j+N]\n",
    "\n",
    "        levelIdx = np.concatenate((np.zeros(shape=(padLength)), columnRefArray[:j]), axis=0)\n",
    "        dataC = np.zeros(shape=(N, 256))\n",
    "        for j in range(N): dataC[j][int(levelIdx[j])] = 1\n",
    "\n",
    "        column.append(dataC)\n",
    "        input.append(dataI)\n",
    "        target.append(dataT)\n",
    "\n",
    "    input = np.array(input)\n",
    "    # print(f\"Input shape: {input.shape}\")\n",
    "    #input = torch.tensor(input[0].reshape(256, N), dtype=torch.float32).to(device)\n",
    "    input = torch.tensor(input[0], dtype=torch.float32).to(device)\n",
    "    # print(f\"input size: {input.size()}\")\n",
    "\n",
    "    target = np.array(target)\n",
    "    # print(f\"target shape: {target.shape}\")\n",
    "    #target = torch.tensor(target[0].reshape(256, N), dtype=torch.float32).to(device)\n",
    "    target = torch.tensor(target[0], dtype=torch.float32).to(device)\n",
    "    # print(f\"target size: {target.size()}\")\n",
    "\n",
    "    column = np.array(column)\n",
    "    # print(f\"column shape: {column.shape}\")\n",
    "    #column = torch.tensor(column[0].reshape(256, N), dtype=torch.float32).to(device)\n",
    "    column = torch.tensor(column[0], dtype=torch.float32).to(device)\n",
    "    # print(f\"column size: {column.size()}\")\n",
    "\n",
    "    # print(\"Running Model\")\n",
    "\n",
    "    nextCol = model(input, target, column)\n",
    "    nextCol = nextCol.cpu().detach().numpy()\n",
    "    # print(f\"next col size: {nextCol.shape}\")\n",
    "    #nextCol = nextCol[:, :78].reshape(6, 13, nextCol.shape[0]).transpose(1, 0, 2)\n",
    "    nextCol = nextCol.reshape(6, 13, nextCol.shape[1]).transpose(1, 0, 2)\n",
    "\n",
    "    levelImage = np.zeros(shape=(nextCol.shape[0] * 16, nextCol.shape[1] * 16, 3), dtype=np.uint8)\n",
    "\n",
    "    for t, row in enumerate(nextCol):\n",
    "        for j, embedding in enumerate(row):\n",
    "\n",
    "            nearestEmbedding = nnTree.get_nns_by_vector(embedding, 2, search_k=-1, include_distances=False)[0]\n",
    "            tileImage = tileMap[nearestEmbedding]\n",
    "\n",
    "            levelImage[t*16 : t*16+16, j*16 : j*16+16, :] = tileImage\n",
    "\n",
    "    levelImage = np.concatenate([levelImage, np.fliplr(levelImage)], axis=1)\n",
    "\n",
    "    # plt.figure()\n",
    "    # plt.imshow(levelImage)\n",
    "\n",
    "    cv2.imwrite(f\"Models/{MODELNAME}/BubbleBobbleLevels/{bbStringNames[i]}.png\", cv2.cvtColor(levelImage, cv2.COLOR_BGR2RGB))"
   ]
  }
 ],
 "metadata": {
  "kernelspec": {
   "display_name": "DissEnv",
   "language": "python",
   "name": "python3"
  },
  "language_info": {
   "codemirror_mode": {
    "name": "ipython",
    "version": 3
   },
   "file_extension": ".py",
   "mimetype": "text/x-python",
   "name": "python",
   "nbconvert_exporter": "python",
   "pygments_lexer": "ipython3",
   "version": "3.10.14"
  }
 },
 "nbformat": 4,
 "nbformat_minor": 2
}
