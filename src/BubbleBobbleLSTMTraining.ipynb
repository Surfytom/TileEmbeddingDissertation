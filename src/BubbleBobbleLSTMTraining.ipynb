{
 "cells": [
  {
   "cell_type": "code",
   "execution_count": 8,
   "metadata": {},
   "outputs": [],
   "source": [
    "import numpy as np\n",
    "import glob\n",
    "\n",
    "import torch\n",
    "import torch.nn as nn\n",
    "\n",
    "from Utils.PTModel.Models import LSTMModel\n",
    "\n",
    "MODELNAME = \"AutoEncoderwATT\""
   ]
  },
  {
   "cell_type": "code",
   "execution_count": 13,
   "metadata": {},
   "outputs": [],
   "source": [
    "bbEmbeddingPath = f\"Models/{MODELNAME}/LevelUnifiedRep/BubbleBobble\"\n",
    "\n",
    "columnRefArray = np.array([i+1 for i in range(13) for j in range(12)])\n",
    "\n",
    "bbEmbeddingPaths = sorted(glob.glob(f\"{bbEmbeddingPath}/Level*.npy\"))"
   ]
  },
  {
   "cell_type": "code",
   "execution_count": 14,
   "metadata": {},
   "outputs": [],
   "source": [
    "N = 78\n",
    "\n",
    "sosArray = np.ones(shape=(1, 256)) * 9\n",
    "eosArray = np.ones(shape=(1, 256)) * 5\n",
    "\n",
    "xTrain = []\n",
    "xTrainHotColumnRef = []\n",
    "yTrain = []\n",
    "xTrainTargetIn = []\n",
    "\n",
    "columnRef = []\n",
    "for i, levelEmbeddingPath in enumerate(bbEmbeddingPaths):\n",
    "\n",
    "    levelEmbeddingArray = np.load(levelEmbeddingPath)\n",
    "\n",
    "    for j in range(len(levelEmbeddingArray) - N):\n",
    "\n",
    "        padLength = N - j\n",
    "\n",
    "        dataI = np.concatenate((np.zeros(shape=(padLength, 256)), levelEmbeddingArray[:j]), axis=0)\n",
    "\n",
    "        dataT = levelEmbeddingArray[j:j+N]\n",
    "        targetIn = np.concatenate((sosArray, dataT))\n",
    "        targetOut = np.concatenate((dataT, eosArray))\n",
    "\n",
    "        levelIdx = np.concatenate((np.zeros(shape=(padLength)), columnRefArray[:j]), axis=0)\n",
    "        dataC = np.zeros(shape=(N, 256))\n",
    "        for j in range(N): dataC[j][int(levelIdx[j])] = 1\n",
    "\n",
    "        columnRef.append(dataC)\n",
    "        xTrain.append(dataI)\n",
    "        xTrainTargetIn.append(targetIn)\n",
    "        yTrain.append(targetOut)\n",
    "\n",
    "xTrain = np.array(xTrain)\n",
    "xTrainTargetIn = np.array(xTrainTargetIn)\n",
    "yTrain = np.array(yTrain)\n",
    "columnRef = np.array(columnRef)"
   ]
  },
  {
   "cell_type": "code",
   "execution_count": 15,
   "metadata": {},
   "outputs": [],
   "source": [
    "def TrainModel(xTrain, xTrainTargetIn, yTrain, columnRef, epochs, batchSize, continueTraining=None, learningRate=0.001):\n",
    "\n",
    "    device = \"cuda\" if torch.cuda.is_available() else \"cpu\"\n",
    "\n",
    "    if continueTraining == None:\n",
    "        model = LSTMModel()\n",
    "    else:\n",
    "        model = continueTraining\n",
    "    # optimizer = torch.optim.RMSprop(model.parameters(), lr=0.001, eps=1e-7)\n",
    "    optimizer = torch.optim.Adam(model.parameters(), lr=learningRate, eps=1e-7)\n",
    "\n",
    "    criterion = nn.MSELoss()\n",
    "\n",
    "    model.to(device)\n",
    "    model.train()\n",
    "\n",
    "    losses = []\n",
    "\n",
    "    # print(f\"xTrain b4 tensor shape: {xTrain.shape}\")\n",
    "    \n",
    "    #xTrain = xTrain.reshape(xTrain.shape[0], xTrain.shape[2], xTrain.shape[1])\n",
    "    #xTrainTargetIn = xTrainTargetIn.reshape(xTrainTargetIn.shape[0], xTrainTargetIn.shape[2], xTrainTargetIn.shape[1])\n",
    "    #yTrain = yTrain.reshape(yTrain.shape[0], yTrain.shape[2], yTrain.shape[1])\n",
    "    #columnRef = columnRef.reshape(columnRef.shape[0], columnRef.shape[2], columnRef.shape[1])\n",
    "\n",
    "    for i in range(epochs):\n",
    "\n",
    "        losses.append([])\n",
    "\n",
    "        for j in range(0, xTrain.shape[0], batchSize):\n",
    "            \n",
    "            xTrainTensor = torch.tensor(xTrain[j:j+batchSize], dtype=torch.float32).to(device)\n",
    "            xTrainTargetInTensor = torch.tensor(xTrainTargetIn[j:j+batchSize], dtype=torch.float32).to(device)\n",
    "\n",
    "            yTrainTensor = torch.tensor(yTrain[j:j+batchSize], dtype=torch.float32).to(device)\n",
    "\n",
    "            columnRefTensor = torch.tensor(columnRef[j:j+batchSize], dtype=torch.float32).to(device)\n",
    "\n",
    "            # print(xTrainTensor.shape)\n",
    "            # print(xTrainTargetInTensor.shape)\n",
    "            # print(yTrainTensor.shape)\n",
    "            # print(columnRefTensor.shape)\n",
    "\n",
    "            #print(f\"xTrain size: {xTrainTensor.size()}\")\n",
    "\n",
    "            yPred = model(xTrainTensor, xTrainTargetInTensor, columnRefTensor)\n",
    "            \n",
    "            #print(f\"yPred size: {yPred.size()}\")\n",
    "            #print(f\"yTruth size: {yTrainTensor.size()}\")\n",
    "            loss = criterion(yPred, yTrainTensor)\n",
    "\n",
    "            optimizer.zero_grad()\n",
    "            loss.backward()\n",
    "            optimizer.step()\n",
    "\n",
    "            losses[i].append(loss.cpu().detach().item())\n",
    "\n",
    "        print(f\"Epoch {i}: loss {sum(losses[i])/len(losses[i])}\")\n",
    "    \n",
    "    return model"
   ]
  },
  {
   "cell_type": "code",
   "execution_count": 16,
   "metadata": {},
   "outputs": [
    {
     "name": "stdout",
     "output_type": "stream",
     "text": [
      "Epoch 0: loss 1.052663097864595\n"
     ]
    }
   ],
   "source": [
    "model = TrainModel(xTrain, xTrainTargetIn, yTrain, columnRef, 1, 32, learningRate=0.001)"
   ]
  },
  {
   "cell_type": "code",
   "execution_count": 17,
   "metadata": {},
   "outputs": [],
   "source": [
    "torch.save(model, f\"Models/{MODELNAME}/BubbleBobbleLSTM.pt\")"
   ]
  },
  {
   "cell_type": "code",
   "execution_count": 18,
   "metadata": {},
   "outputs": [
    {
     "name": "stdout",
     "output_type": "stream",
     "text": [
      "histLSTM.weight_ih_l0   : 131072\n",
      "histLSTM.weight_hh_l0   : 65536\n",
      "histLSTM.bias_ih_l0     :   512\n",
      "histLSTM.bias_hh_l0     :   512\n",
      "colLSTM.weight_ih_l0    : 131072\n",
      "colLSTM.weight_hh_l0    : 65536\n",
      "colLSTM.bias_ih_l0      :   512\n",
      "colLSTM.bias_hh_l0      :   512\n",
      "textLSTM.weight_ih_l0   : 131072\n",
      "textLSTM.weight_hh_l0   : 65536\n",
      "textLSTM.bias_ih_l0     :   512\n",
      "textLSTM.bias_hh_l0     :   512\n",
      "outputLayer.weight      : 32768\n",
      "outputLayer.bias        :   256\n",
      "Total Params: 625920\n"
     ]
    }
   ],
   "source": [
    "total = 0\n",
    "for name, param in model.named_parameters():\n",
    "    print(f\"{name:<24}: {param.numel():5}\")\n",
    "    total += param.numel()\n",
    "\n",
    "print(f\"Total Params: {total}\")"
   ]
  }
 ],
 "metadata": {
  "kernelspec": {
   "display_name": "DissEnv",
   "language": "python",
   "name": "python3"
  },
  "language_info": {
   "codemirror_mode": {
    "name": "ipython",
    "version": 3
   },
   "file_extension": ".py",
   "mimetype": "text/x-python",
   "name": "python",
   "nbconvert_exporter": "python",
   "pygments_lexer": "ipython3",
   "version": "3.10.14"
  }
 },
 "nbformat": 4,
 "nbformat_minor": 2
}
