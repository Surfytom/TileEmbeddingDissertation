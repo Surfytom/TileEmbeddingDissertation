{
 "cells": [
  {
   "cell_type": "code",
   "execution_count": 1,
   "metadata": {},
   "outputs": [],
   "source": [
    "import numpy as np\n",
    "import glob\n",
    "\n",
    "import torch\n",
    "import torch.nn as nn\n",
    "import Utils.fastnumpyio as fnp\n",
    "\n",
    "from Utils.PTModel.Models import LSTMModel\n",
    "\n",
    "MODELNAME = \"AutoEncoderwATT\""
   ]
  },
  {
   "cell_type": "code",
   "execution_count": 2,
   "metadata": {},
   "outputs": [],
   "source": [
    "gameName = \"LodeRunner\"\n",
    "rowLength = 32\n",
    "numOfRows = 22\n",
    "\n",
    "lrEmbeddingPath = f\"Models/{MODELNAME}/LevelUnifiedRep/{gameName}\"\n",
    "lrEmbeddingPaths = sorted(glob.glob(f\"{lrEmbeddingPath}/Level*.npy\"))\n",
    "\n",
    "columnRefArray = np.array([np.arange(0, 32) for i in range(numOfRows+5)]).flatten()"
   ]
  },
  {
   "cell_type": "code",
   "execution_count": 3,
   "metadata": {},
   "outputs": [],
   "source": [
    "def TrainModelFromFiles(batchPaths, epochs, batchSize, continueTraining=None, learningRate=0.001):\n",
    "\n",
    "    device = \"cuda\" if torch.cuda.is_available() else \"cpu\"\n",
    "\n",
    "    if continueTraining == None:\n",
    "        model = LSTMModel()\n",
    "    else:\n",
    "        model = continueTraining\n",
    "    \n",
    "    optimizer = torch.optim.RMSprop(model.parameters(), lr=learningRate, eps=1e-7)\n",
    "    #optimizer = torch.optim.Adam(model.parameters(), lr=learningRate, eps=1e-7)\n",
    "\n",
    "    criterion = nn.MSELoss()\n",
    "\n",
    "    model.to(device)\n",
    "    model.train()\n",
    "\n",
    "    losses = []\n",
    "\n",
    "    for i in range(epochs):\n",
    "\n",
    "        losses.append([])\n",
    "\n",
    "        for t in range(0, len(batchPaths), 4):\n",
    "            print(t)\n",
    "            # print(batchPaths[t:t+4])\n",
    "\n",
    "            xTrain = fnp.load(batchPaths[t+1])\n",
    "            xTrainTargetIn = fnp.load(batchPaths[t+2])\n",
    "            yTrain = fnp.load(batchPaths[t+3])\n",
    "            columnRef = fnp.load(batchPaths[t])\n",
    "\n",
    "            for j in range(0, xTrain.shape[0], batchSize):\n",
    "                \n",
    "                xTrainTensor = torch.tensor(xTrain[j:j+batchSize], dtype=torch.float32).to(device)\n",
    "                xTrainTargetInTensor = torch.tensor(xTrainTargetIn[j:j+batchSize], dtype=torch.float32).to(device)\n",
    "\n",
    "                yTrainTensor = torch.tensor(yTrain[j:j+batchSize], dtype=torch.float32).to(device)\n",
    "\n",
    "                columnRefTensor = torch.tensor(columnRef[j:j+batchSize], dtype=torch.float32).to(device)\n",
    "\n",
    "                # print(xTrainTensor.shape)\n",
    "                # print(xTrainTargetInTensor.shape)\n",
    "                # print(yTrainTensor.shape)\n",
    "                # print(columnRefTensor.shape)\n",
    "\n",
    "                #print(f\"xTrain size: {xTrainTensor.size()}\")\n",
    "\n",
    "                yPred = model(xTrainTensor, xTrainTargetInTensor, columnRefTensor)\n",
    "                \n",
    "                #print(f\"yPred size: {yPred.size()}\")\n",
    "                #print(f\"yTruth size: {yTrainTensor.size()}\")\n",
    "                loss = criterion(yPred, yTrainTensor)\n",
    "\n",
    "                optimizer.zero_grad()\n",
    "                loss.backward()\n",
    "                optimizer.step()\n",
    "\n",
    "                losses[i].append(loss.cpu().detach().item())\n",
    "\n",
    "            print(f\"Epoch {i} Batch {t}: loss {losses[i][-1]}\")\n",
    "\n",
    "        print(f\"Epoch {i}: loss {sum(losses[i])/len(losses[i])}\")\n",
    "    \n",
    "    return model"
   ]
  },
  {
   "cell_type": "code",
   "execution_count": 5,
   "metadata": {},
   "outputs": [
    {
     "name": "stdout",
     "output_type": "stream",
     "text": [
      "0\n",
      "Epoch 0 Batch 0: loss 0.7136383056640625\n",
      "4\n",
      "Epoch 0 Batch 4: loss 0.4626832902431488\n",
      "8\n",
      "Epoch 0 Batch 8: loss 0.4953828752040863\n",
      "12\n",
      "Epoch 0 Batch 12: loss 0.40381479263305664\n",
      "16\n",
      "Epoch 0 Batch 16: loss 0.6392042636871338\n",
      "20\n",
      "Epoch 0 Batch 20: loss 0.5832244753837585\n",
      "24\n",
      "Epoch 0 Batch 24: loss 0.7669863104820251\n",
      "28\n",
      "Epoch 0 Batch 28: loss 0.41166049242019653\n",
      "32\n",
      "Epoch 0 Batch 32: loss 0.4107339084148407\n",
      "36\n",
      "Epoch 0 Batch 36: loss 0.6719116568565369\n",
      "40\n",
      "Epoch 0 Batch 40: loss 0.5179440975189209\n",
      "44\n",
      "Epoch 0 Batch 44: loss 0.5352583527565002\n",
      "48\n",
      "Epoch 0 Batch 48: loss 0.4715504050254822\n",
      "52\n",
      "Epoch 0 Batch 52: loss 0.5633155703544617\n",
      "56\n",
      "Epoch 0 Batch 56: loss 0.6713377833366394\n",
      "60\n",
      "Epoch 0 Batch 60: loss 0.6178293228149414\n",
      "64\n",
      "Epoch 0 Batch 64: loss 0.6185478568077087\n",
      "68\n",
      "Epoch 0 Batch 68: loss 0.6466265916824341\n",
      "72\n",
      "Epoch 0 Batch 72: loss 0.6233478784561157\n",
      "76\n",
      "Epoch 0 Batch 76: loss 0.45325231552124023\n",
      "80\n",
      "Epoch 0 Batch 80: loss 0.5382699966430664\n",
      "84\n",
      "Epoch 0 Batch 84: loss 0.5210961103439331\n",
      "88\n",
      "Epoch 0 Batch 88: loss 0.4724946916103363\n",
      "92\n",
      "Epoch 0 Batch 92: loss 0.6030619144439697\n",
      "96\n",
      "Epoch 0 Batch 96: loss 0.439725399017334\n",
      "Epoch 0: loss 0.5556853369087503\n"
     ]
    }
   ],
   "source": [
    "model = TrainModelFromFiles(sorted(glob.glob(f\"Models/{MODELNAME}/LRLSTMData/*\")), 1, 32, learningRate=0.001)"
   ]
  },
  {
   "cell_type": "code",
   "execution_count": 6,
   "metadata": {},
   "outputs": [],
   "source": [
    "torch.save(model, f\"Models/{MODELNAME}/LodeRunnerLSTM.pt\")"
   ]
  },
  {
   "cell_type": "code",
   "execution_count": 7,
   "metadata": {},
   "outputs": [
    {
     "name": "stdout",
     "output_type": "stream",
     "text": [
      "histLSTM.weight_ih_l0   : 131072\n",
      "histLSTM.weight_hh_l0   : 65536\n",
      "histLSTM.bias_ih_l0     :   512\n",
      "histLSTM.bias_hh_l0     :   512\n",
      "colLSTM.weight_ih_l0    : 131072\n",
      "colLSTM.weight_hh_l0    : 65536\n",
      "colLSTM.bias_ih_l0      :   512\n",
      "colLSTM.bias_hh_l0      :   512\n",
      "textLSTM.weight_ih_l0   : 131072\n",
      "textLSTM.weight_hh_l0   : 65536\n",
      "textLSTM.bias_ih_l0     :   512\n",
      "textLSTM.bias_hh_l0     :   512\n",
      "outputLayer.weight      : 32768\n",
      "outputLayer.bias        :   256\n",
      "Total Params: 625920\n"
     ]
    }
   ],
   "source": [
    "total = 0\n",
    "for name, param in model.named_parameters():\n",
    "    print(f\"{name:<24}: {param.numel():5}\")\n",
    "    total += param.numel()\n",
    "\n",
    "print(f\"Total Params: {total}\")"
   ]
  }
 ],
 "metadata": {
  "kernelspec": {
   "display_name": "DissEnv",
   "language": "python",
   "name": "python3"
  },
  "language_info": {
   "codemirror_mode": {
    "name": "ipython",
    "version": 3
   },
   "file_extension": ".py",
   "mimetype": "text/x-python",
   "name": "python",
   "nbconvert_exporter": "python",
   "pygments_lexer": "ipython3",
   "version": "3.10.14"
  }
 },
 "nbformat": 4,
 "nbformat_minor": 2
}
