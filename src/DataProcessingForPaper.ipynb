{
 "cells": [
  {
   "cell_type": "code",
   "execution_count": 18,
   "metadata": {},
   "outputs": [],
   "source": [
    "import pandas as pd\n",
    "import numpy as np\n",
    "import cv2\n",
    "import glob\n",
    "\n",
    "import matplotlib.pyplot as plt\n",
    "\n",
    "import Utils.EvaluationMetrics.alphaScore as AS\n",
    "import Utils.EvaluationMetrics.exampleBased as EB\n",
    "import Utils.EvaluationMetrics.labelBased as LB\n",
    "\n",
    "import torch"
   ]
  },
  {
   "cell_type": "code",
   "execution_count": 13,
   "metadata": {},
   "outputs": [
    {
     "name": "stdout",
     "output_type": "stream",
     "text": [
      "(25394, 6)\n"
     ]
    }
   ],
   "source": [
    "data = pd.read_csv(\"../data/game_data.csv\")\n",
    "print(data.shape)"
   ]
  },
  {
   "cell_type": "code",
   "execution_count": 15,
   "metadata": {},
   "outputs": [
    {
     "name": "stdout",
     "output_type": "stream",
     "text": [
      "[\"['solid']\" \"['passable', 'empty']\" \"['solid', 'breakable']\"\n",
      " \"['passable', 'collectable']\" \"['passable', 'climbable']\"\n",
      " \"['solid', 'passable']\" \"['solid', 'hazard']\" \"['solid', 'pipe']\"\n",
      " \"['solid', 'passable', 'moving']\" \"['empty']\" \"['solid', 'openable']\"\n",
      " \"['solid', 'moving']\" \"['hazard', 'moving']\" \"['solid', 'collectable']\"]\n",
      "['solid', 'wall']\n",
      "['element', 'block']\n",
      "['solid', 'block']\n"
     ]
    }
   ],
   "source": [
    "print(data[data[\"game_identifier\"] != 'loz'][\"features\"].unique())\n",
    "for affrodanceList in data[data[\"game_identifier\"] == 'loz'][\"features\"].unique():\n",
    "    if affrodanceList not in data[data[\"game_identifier\"] != 'loz'][\"features\"].unique():\n",
    "        print(affrodanceList)"
   ]
  },
  {
   "cell_type": "code",
   "execution_count": 90,
   "metadata": {},
   "outputs": [
    {
     "name": "stdout",
     "output_type": "stream",
     "text": [
      "kid_icarus\n",
      "['solid']: 388 | 0.38\n",
      "['solid', 'passable']: 95 | 0.09\n",
      "['passable', 'empty']: 448 | 0.44\n",
      "['solid', 'passable', 'moving']: 29 | 0.03\n",
      "['solid', 'openable']: 26 | 0.03\n",
      "['solid', 'hazard']: 25 | 0.02\n",
      "\n",
      "smb\n",
      "['passable', 'empty']: 1094 | 0.55\n",
      "['solid']: 402 | 0.20\n",
      "['passable', 'collectable']: 68 | 0.03\n",
      "['solid', 'pipe']: 108 | 0.05\n",
      "['solid', 'breakable']: 230 | 0.12\n",
      "['hazard', 'moving']: 68 | 0.03\n",
      "['solid', 'collectable']: 17 | 0.01\n",
      "['solid', 'hazard']: 12 | 0.01\n",
      "\n",
      "lode_runner\n",
      "['passable', 'empty']: 5432 | 0.31\n",
      "['solid', 'breakable']: 4836 | 0.28\n",
      "['passable', 'collectable']: 985 | 0.06\n",
      "['passable', 'climbable']: 4145 | 0.24\n",
      "['solid']: 1860 | 0.11\n",
      "['solid', 'hazard']: 293 | 0.02\n",
      "\n",
      "loz\n",
      "['solid']: 682 | 0.41\n",
      "['solid', 'hazard']: 20 | 0.01\n",
      "['solid', 'wall']: 351 | 0.21\n",
      "['element', 'block']: 260 | 0.16\n",
      "['passable', 'empty']: 103 | 0.06\n",
      "['solid', 'openable']: 83 | 0.05\n",
      "['solid', 'block']: 160 | 0.10\n",
      "['passable', 'climbable']: 3 | 0.00\n",
      "\n",
      "megaman\n",
      "['passable', 'empty']: 1252 | 0.39\n",
      "['solid']: 1200 | 0.38\n",
      "['solid', 'breakable']: 82 | 0.03\n",
      "['solid', 'hazard']: 144 | 0.05\n",
      "['empty']: 200 | 0.06\n",
      "['solid', 'moving']: 44 | 0.01\n",
      "['passable', 'climbable']: 180 | 0.06\n",
      "['passable', 'collectable']: 69 | 0.02\n",
      "\n"
     ]
    }
   ],
   "source": [
    "for gamename in data[\"game_identifier\"].unique():\n",
    "    gameData = data[data[\"game_identifier\"] == gamename]\n",
    "\n",
    "    print(gamename)\n",
    "    for affordance in gameData[\"features\"].unique():\n",
    "        amount = gameData[gameData['features'] == affordance].shape[0]\n",
    "        print(f\"{affordance}: {amount} | {amount / gameData.shape[0]:.2f}\")\n",
    "    print(\"\")"
   ]
  },
  {
   "cell_type": "code",
   "execution_count": 70,
   "metadata": {},
   "outputs": [
    {
     "name": "stdout",
     "output_type": "stream",
     "text": [
      "(19992, 4)\n"
     ]
    }
   ],
   "source": [
    "data = pd.read_csv(\"../data/tomData/unshuffled3x3tiles.csv\")\n",
    "print(data.shape)"
   ]
  },
  {
   "cell_type": "code",
   "execution_count": 4,
   "metadata": {},
   "outputs": [
    {
     "name": "stdout",
     "output_type": "stream",
     "text": [
      "kidicarus\n",
      "['solid']: 299 | 0.34\n",
      "['passable', 'empty']: 393 | 0.45\n",
      "['solid', 'openable']: 26 | 0.03\n",
      "['solid', 'passable', 'moving']: 31 | 0.04\n",
      "['solid', 'passable']: 108 | 0.12\n",
      "['solid', 'hazard']: 25 | 0.03\n",
      "\n",
      "loderunner\n",
      "['passable', 'climbable']: 3630 | 0.24\n",
      "['passable', 'empty']: 4781 | 0.32\n",
      "['solid']: 1509 | 0.10\n",
      "['solid', 'hazard']: 243 | 0.02\n",
      "['passable', 'collectable']: 869 | 0.06\n",
      "['solid', 'breakable']: 4119 | 0.27\n",
      "\n",
      "megaman\n",
      "['solid']: 543 | 0.37\n",
      "['passable', 'empty']: 598 | 0.41\n",
      "['empty']: 77 | 0.05\n",
      "['solid', 'hazard']: 66 | 0.04\n",
      "['solid', 'breakable']: 41 | 0.03\n",
      "['solid', 'moving']: 21 | 0.01\n",
      "['passable', 'collectable']: 35 | 0.02\n",
      "['passable', 'climbable']: 88 | 0.06\n",
      "\n",
      "supermariobros\n",
      "['passable', 'empty']: 488 | 0.57\n",
      "['solid', 'pipe']: 54 | 0.06\n",
      "['solid', 'collectable']: 17 | 0.02\n",
      "['solid', 'hazard']: 6 | 0.01\n",
      "['hazard', 'moving']: 34 | 0.04\n",
      "['solid']: 119 | 0.14\n",
      "['solid', 'breakable']: 108 | 0.13\n",
      "['passable', 'collectable']: 34 | 0.04\n",
      "\n",
      "thelegendofzelda\n",
      "['passable', 'empty']: 87 | 0.05\n",
      "['solid']: 684 | 0.42\n",
      "['solid', 'wall']: 331 | 0.20\n",
      "['solid', 'openable']: 83 | 0.05\n",
      "['solid', 'block']: 160 | 0.10\n",
      "['solid', 'hazard']: 20 | 0.01\n",
      "['passable', 'climbable']: 3 | 0.00\n",
      "['element', 'block']: 262 | 0.16\n",
      "\n"
     ]
    }
   ],
   "source": [
    "unqiueAffordanceList = {}\n",
    "\n",
    "for gamename in data[\"gamename\"].unique():\n",
    "    gameData = data[data[\"gamename\"] == gamename]\n",
    "\n",
    "    print(gamename)\n",
    "    unqiueAffordanceList[gamename] = gameData[\"affordances\"].unique()\n",
    "    for affordance in gameData[\"affordances\"].unique():\n",
    "        amount = gameData[gameData['affordances'] == affordance].shape[0]\n",
    "        print(f\"{affordance}: {amount} | {amount / gameData.shape[0]:.2f}\")\n",
    "    print(\"\")"
   ]
  },
  {
   "cell_type": "code",
   "execution_count": 34,
   "metadata": {},
   "outputs": [
    {
     "data": {
      "text/plain": [
       "array([0, 3, 4, 4, 2, 4, 0, 3, 6, 8])"
      ]
     },
     "execution_count": 34,
     "metadata": {},
     "output_type": "execute_result"
    }
   ],
   "source": [
    "a = np.random.randint(0, 10, size=(10))\n",
    "a"
   ]
  },
  {
   "cell_type": "code",
   "execution_count": 35,
   "metadata": {},
   "outputs": [
    {
     "data": {
      "text/plain": [
       "np.float64(3.4)"
      ]
     },
     "execution_count": 35,
     "metadata": {},
     "output_type": "execute_result"
    }
   ],
   "source": [
    "np.mean(a)"
   ]
  },
  {
   "cell_type": "code",
   "execution_count": 36,
   "metadata": {},
   "outputs": [
    {
     "data": {
      "text/plain": [
       "np.float64(3.4000000000000004)"
      ]
     },
     "execution_count": 36,
     "metadata": {},
     "output_type": "execute_result"
    }
   ],
   "source": [
    "(1 / 10) * np.sum(a)"
   ]
  },
  {
   "cell_type": "code",
   "execution_count": 12,
   "metadata": {},
   "outputs": [
    {
     "data": {
      "text/plain": [
       "array([\"['passable', 'empty']\", \"['solid']\", \"['solid', 'wall']\",\n",
       "       \"['solid', 'openable']\", \"['solid', 'block']\",\n",
       "       \"['solid', 'hazard']\", \"['passable', 'climbable']\",\n",
       "       \"['element', 'block']\"], dtype=object)"
      ]
     },
     "execution_count": 12,
     "metadata": {},
     "output_type": "execute_result"
    }
   ],
   "source": [
    "data[data[\"gamename\"] == 'thelegendofzelda'][\"affordances\"].unique()"
   ]
  },
  {
   "cell_type": "code",
   "execution_count": 11,
   "metadata": {},
   "outputs": [
    {
     "name": "stdout",
     "output_type": "stream",
     "text": [
      "[\"['solid']\" \"['passable', 'empty']\" \"['solid', 'openable']\"\n",
      " \"['solid', 'passable', 'moving']\" \"['solid', 'passable']\"\n",
      " \"['solid', 'hazard']\" \"['passable', 'climbable']\"\n",
      " \"['passable', 'collectable']\" \"['solid', 'breakable']\" \"['empty']\"\n",
      " \"['solid', 'moving']\" \"['solid', 'pipe']\" \"['solid', 'collectable']\"\n",
      " \"['hazard', 'moving']\"]\n",
      "['solid', 'wall']\n",
      "['solid', 'block']\n",
      "['element', 'block']\n"
     ]
    }
   ],
   "source": [
    "print(data[data[\"gamename\"] != 'thelegendofzelda'][\"affordances\"].unique())\n",
    "for affrodanceList in data[data[\"gamename\"] == 'thelegendofzelda'][\"affordances\"].unique():\n",
    "    if affrodanceList not in data[data[\"gamename\"] != 'thelegendofzelda'][\"affordances\"].unique():\n",
    "        print(affrodanceList)"
   ]
  },
  {
   "cell_type": "code",
   "execution_count": 12,
   "metadata": {},
   "outputs": [
    {
     "name": "stdout",
     "output_type": "stream",
     "text": [
      "['solid']: 3154 | 0.16\n",
      "['passable', 'empty']: 6347 | 0.32\n",
      "['solid', 'openable']: 109 | 0.01\n",
      "['solid', 'passable', 'moving']: 31 | 0.00\n",
      "['solid', 'passable']: 108 | 0.01\n",
      "['solid', 'hazard']: 360 | 0.02\n",
      "['passable', 'climbable']: 3721 | 0.19\n",
      "['passable', 'collectable']: 938 | 0.05\n",
      "['solid', 'breakable']: 4268 | 0.21\n",
      "['empty']: 77 | 0.00\n",
      "['solid', 'moving']: 21 | 0.00\n",
      "['solid', 'pipe']: 54 | 0.00\n",
      "['solid', 'collectable']: 17 | 0.00\n",
      "['hazard', 'moving']: 34 | 0.00\n",
      "['solid', 'wall']: 331 | 0.02\n",
      "['solid', 'block']: 160 | 0.01\n",
      "['element', 'block']: 262 | 0.01\n"
     ]
    }
   ],
   "source": [
    "for affordance in data[\"affordances\"].unique():\n",
    "    amount = data[data['affordances'] == affordance].shape[0]\n",
    "    print(f\"{affordance}: {amount} | {amount / data.shape[0]:.2f}\")"
   ]
  },
  {
   "cell_type": "code",
   "execution_count": 17,
   "metadata": {},
   "outputs": [],
   "source": [
    "def example_based_precision(y_true,y_pred):\n",
    "    n=len(y_true)\n",
    "    \n",
    "    precision_num=np.sum(np.logical_and(y_true,y_pred),axis=1)\n",
    "    precision_den=np.sum(y_pred,axis=1)\n",
    "\n",
    "    p_n=np.array(precision_num).astype(np.float32)\n",
    "    p_d=np.array(precision_den).astype(np.float32)\n",
    "\n",
    "    avg_precision=np.nansum(p_n/p_d)/float(n)\n",
    "    \n",
    "    return avg_precision"
   ]
  },
  {
   "cell_type": "code",
   "execution_count": 24,
   "metadata": {},
   "outputs": [
    {
     "name": "stdout",
     "output_type": "stream",
     "text": [
      "[[1. 1. 1. 1. 1. 0. 0. 0. 0. 0. 0. 0. 0.]\n",
      " [1. 1. 1. 1. 1. 0. 0. 0. 0. 0. 0. 0. 0.]\n",
      " [1. 1. 1. 1. 1. 0. 0. 0. 0. 0. 0. 0. 0.]\n",
      " [0. 0. 0. 0. 0. 0. 0. 0. 0. 0. 0. 0. 0.]\n",
      " [0. 0. 0. 0. 0. 0. 0. 0. 0. 0. 0. 0. 0.]\n",
      " [0. 0. 0. 0. 0. 0. 0. 0. 0. 0. 0. 0. 0.]\n",
      " [0. 0. 0. 0. 0. 0. 0. 0. 0. 0. 0. 0. 0.]\n",
      " [0. 0. 0. 0. 0. 0. 0. 0. 0. 0. 0. 0. 0.]\n",
      " [0. 0. 0. 0. 0. 0. 0. 0. 0. 0. 0. 0. 0.]\n",
      " [0. 0. 0. 0. 0. 0. 0. 0. 0. 0. 0. 0. 0.]]\n",
      "\n",
      "[[0. 0. 0. 1. 1. 1. 1. 1. 1. 1. 1. 1. 1.]\n",
      " [0. 0. 0. 1. 1. 1. 1. 1. 1. 1. 1. 1. 1.]\n",
      " [0. 0. 0. 1. 1. 1. 1. 1. 1. 1. 1. 1. 1.]\n",
      " [0. 0. 0. 0. 0. 0. 0. 0. 0. 0. 0. 0. 0.]\n",
      " [0. 0. 0. 0. 0. 0. 0. 0. 0. 0. 0. 0. 0.]\n",
      " [0. 0. 0. 0. 0. 0. 0. 0. 0. 0. 0. 0. 0.]\n",
      " [0. 0. 0. 0. 0. 0. 0. 0. 0. 0. 0. 0. 0.]\n",
      " [0. 0. 0. 0. 0. 0. 0. 0. 0. 0. 0. 0. 0.]\n",
      " [0. 0. 0. 0. 0. 0. 0. 0. 0. 0. 0. 0. 0.]\n",
      " [0. 0. 0. 0. 0. 0. 0. 0. 0. 0. 0. 0. 0.]]\n",
      "0.060000002\n"
     ]
    },
    {
     "name": "stderr",
     "output_type": "stream",
     "text": [
      "/tmp/ipykernel_997/969533445.py:10: RuntimeWarning: invalid value encountered in divide\n",
      "  avg_precision=np.nansum(p_n/p_d)/float(n)\n"
     ]
    }
   ],
   "source": [
    "yPred = np.zeros(shape=(10, 13))\n",
    "yTrue = np.zeros(shape=(10, 13))\n",
    "\n",
    "yTrue[:3, :5] = 1\n",
    "yPred[:3, 3:] = 1\n",
    "\n",
    "print(yTrue)\n",
    "print(\"\")\n",
    "print(yPred)\n",
    "\n",
    "print(example_based_precision(yTrue, yPred))"
   ]
  },
  {
   "cell_type": "code",
   "execution_count": 177,
   "metadata": {},
   "outputs": [
    {
     "name": "stdout",
     "output_type": "stream",
     "text": [
      "17\n",
      "18\n",
      "['tloz7_1', 'tloz5_1', 'tloz4_1', 'tloz2_2', 'tloz5_2', 'tloz8_1', 'tloz3_1', 'tloz6_1', 'tloz7_2', 'tloz2_1', 'tloz8_2', 'tloz1_2', 'tloz4_2', 'tloz3_2', 'tloz9_2', 'tloz6_2', 'tloz9_1', 'tloz1_1']\n",
      "tloz1_1   tloz1_1\n",
      "tloz1_2   tloz1_2\n",
      "tloz2_1   tloz2_1\n",
      "tloz2_2   tloz2_2\n",
      "tloz3_1   tloz3_1\n",
      "tloz3_2   tloz3_2\n",
      "tloz4_1   tloz4_1\n",
      "tloz5_1   tloz4_2\n",
      "tloz5_2   tloz5_1\n",
      "tloz6_1   tloz5_2\n",
      "tloz6_2   tloz6_1\n",
      "tloz7_1   tloz6_2\n",
      "tloz7_2   tloz7_1\n",
      "tloz8_1   tloz7_2\n",
      "tloz8_2   tloz8_1\n",
      "tloz9_1   tloz8_2\n",
      "tloz9_2   tloz9_1\n"
     ]
    }
   ],
   "source": [
    "bb = [\n",
    "'tloz9_2',\n",
    "'tloz1_2',\n",
    "'tloz6_2',\n",
    "'tloz3_2',\n",
    "'tloz7_2',\n",
    "'tloz5_2',\n",
    "'tloz8_2',\n",
    "'tloz8_1',\n",
    "'tloz2_2',\n",
    "'tloz5_1',\n",
    "'tloz3_1',\n",
    "'tloz9_1',\n",
    "'tloz2_1',\n",
    "'tloz6_1',\n",
    "'tloz4_1',\n",
    "'tloz1_1',\n",
    "'tloz7_1',\n",
    "]\n",
    "print(len(bb))\n",
    "\n",
    "lozTextLevelPaths = [path[path.rfind('/')+1:path.find('.txt')] for path in glob.glob(\"../data/vglc/The Legend of Zelda/Processed/tloz[0-9]_[0-9].txt\")]\n",
    "print(len(lozTextLevelPaths))\n",
    "print(lozTextLevelPaths)\n",
    "lozTextLevelPaths = sorted(lozTextLevelPaths)\n",
    "\n",
    "for i, level in enumerate(sorted(bb)):\n",
    "    print(level, \" \", lozTextLevelPaths[i])\n",
    "    "
   ]
  },
  {
   "cell_type": "code",
   "execution_count": 19,
   "metadata": {},
   "outputs": [
    {
     "name": "stdout",
     "output_type": "stream",
     "text": [
      "(352, 512, 3)\n"
     ]
    },
    {
     "data": {
      "image/png": "[encoded data removed]",
      "text/plain": [
       "<Figure size 640x480 with 1 Axes>"
      ]
     },
     "metadata": {},
     "output_type": "display_data"
    }
   ],
   "source": [
    "lrLevel1Image = cv2.cvtColor(cv2.imread(\"../data/vglc/Lode Runner/Original_Fixed_Tom/Level 1.png\"), cv2.COLOR_BGR2RGB)\n",
    "\n",
    "plt.axis(False)\n",
    "plt.imshow(lrLevel1Image)\n",
    "print(lrLevel1Image.shape)"
   ]
  },
  {
   "cell_type": "code",
   "execution_count": 10,
   "metadata": {},
   "outputs": [
    {
     "data": {
      "text/plain": [
       "<matplotlib.image.AxesImage at 0x7f382768a020>"
      ]
     },
     "execution_count": 10,
     "metadata": {},
     "output_type": "execute_result"
    },
    {
     "data": {
      "image/png": "[encoded data removed]",
      "text/plain": [
       "<Figure size 640x480 with 1 Axes>"
      ]
     },
     "metadata": {},
     "output_type": "display_data"
    }
   ],
   "source": [
    "splitImage = lrLevel1Image.copy()\n",
    "\n",
    "splitImage[::16, :, :] = (255, 255, 255)\n",
    "splitImage[:, ::16, :] = (255, 255, 255)\n",
    "\n",
    "splitImage[:, -1, :] = (255, 255, 255)\n",
    "splitImage[-1, :, :] = (255, 255, 255)\n",
    "\n",
    "splitImage[:64:16, :48, :] = (0, 255, 0)\n",
    "splitImage[:48, :64:16, :] = (0, 255, 0)\n",
    "\n",
    "splitImage[-48::16, -48:, :] = (0, 0, 255)\n",
    "splitImage[-48:, -48::16, :] = (0, 0, 255)\n",
    "\n",
    "splitImage[-48:, -1, :] = (0, 0, 255)\n",
    "splitImage[-1, -48:, :] = (0, 0, 255)\n",
    "\n",
    "fig = plt.figure()\n",
    "fig.patch.set_facecolor('grey')\n",
    "\n",
    "ax = fig.add_subplot(111)\n",
    "ax.axis(False)\n",
    "\n",
    "plt.imshow(splitImage)"
   ]
  },
  {
   "cell_type": "code",
   "execution_count": 104,
   "metadata": {},
   "outputs": [
    {
     "name": "stdout",
     "output_type": "stream",
     "text": [
      "(4, 10, 10, 3)\n",
      "(4, 20, 10, 3)\n"
     ]
    }
   ],
   "source": [
    "a = np.ones(shape=(4, 10, 10, 3))\n",
    "print(a.shape)\n",
    "\n",
    "a = np.pad(a, ((0, 0), (0, 10), (0, 0), (0, 0)), constant_values=0)\n",
    "print(a.shape)"
   ]
  },
  {
   "cell_type": "code",
   "execution_count": 11,
   "metadata": {},
   "outputs": [
    {
     "data": {
      "image/png": "[encoded data removed]",
      "text/plain": [
       "<Figure size 1500x1500 with 5 Axes>"
      ]
     },
     "metadata": {},
     "output_type": "display_data"
    }
   ],
   "source": [
    "first5Kernels = [lrLevel1Image[:48, i*16:(i*16)+48, :] for i in range(5)]\n",
    "\n",
    "fig, axes = plt.subplots(1, 5, figsize=(15, 15))\n",
    "\n",
    "for i, ax in enumerate(axes):\n",
    "    ax.axis(False)\n",
    "    ax.imshow(first5Kernels[i])"
   ]
  },
  {
   "cell_type": "code",
   "execution_count": 12,
   "metadata": {},
   "outputs": [
    {
     "data": {
      "text/plain": [
       "<matplotlib.image.AxesImage at 0x7f38276ab340>"
      ]
     },
     "execution_count": 12,
     "metadata": {},
     "output_type": "execute_result"
    },
    {
     "data": {
      "image/png": "[encoded data removed]",
      "text/plain": [
       "<Figure size 640x480 with 1 Axes>"
      ]
     },
     "metadata": {},
     "output_type": "display_data"
    }
   ],
   "source": [
    "plt.axis(False)\n",
    "plt.imshow(first5Kernels[1][16:32, 16:32, :])"
   ]
  },
  {
   "cell_type": "code",
   "execution_count": 152,
   "metadata": {},
   "outputs": [
    {
     "data": {
      "image/png": "[encoded data removed]",
      "text/plain": [
       "<Figure size 1500x1500 with 5 Axes>"
      ]
     },
     "metadata": {},
     "output_type": "display_data"
    }
   ],
   "source": [
    "last5Kernels = [lrLevel1Image[-48:, 400+i*16:(400+i*16)+48, :] for i in range(5)]\n",
    "\n",
    "fig, axes = plt.subplots(1, 5, figsize=(15, 15))\n",
    "\n",
    "for i, ax in enumerate(axes):\n",
    "    ax.axis(False)\n",
    "    ax.imshow(last5Kernels[i])"
   ]
  },
  {
   "cell_type": "code",
   "execution_count": 15,
   "metadata": {},
   "outputs": [],
   "source": [
    "levelPaths = [\"../data/vglc/Lode Runner/Original_Fixed_Tom/Level 8.png\", \"../data/vglc/Kid Icarus/Original_Fixed/kidicarus_1.bmp\", \"../data/vglc/MegaMan/megaman_1_1.bmp\", \"../data/vglc/Super Mario Bros/Original_Fixed/mario-1-1.png\", \"../data/vglc/The Legend of Zelda/Original/tloz1_1.png\"]\n",
    "\n",
    "levelImages = [cv2.cvtColor(cv2.imread(levelPath), cv2.COLOR_BGR2RGB) for levelPath in levelPaths]"
   ]
  },
  {
   "cell_type": "code",
   "execution_count": 16,
   "metadata": {},
   "outputs": [
    {
     "data": {
      "image/png": "[encoded data removed]",
      "text/plain": [
       "<Figure size 640x480 with 1 Axes>"
      ]
     },
     "metadata": {},
     "output_type": "display_data"
    },
    {
     "data": {
      "image/png": "[encoded data removed]",
      "text/plain": [
       "<Figure size 640x480 with 1 Axes>"
      ]
     },
     "metadata": {},
     "output_type": "display_data"
    },
    {
     "data": {
      "image/png": "[encoded data removed]",
      "text/plain": [
       "<Figure size 640x480 with 1 Axes>"
      ]
     },
     "metadata": {},
     "output_type": "display_data"
    },
    {
     "data": {
      "image/png": "[encoded data removed]",
      "text/plain": [
       "<Figure size 640x480 with 1 Axes>"
      ]
     },
     "metadata": {},
     "output_type": "display_data"
    },
    {
     "data": {
      "image/png": "[encoded data removed]",
      "text/plain": [
       "<Figure size 640x480 with 1 Axes>"
      ]
     },
     "metadata": {},
     "output_type": "display_data"
    }
   ],
   "source": [
    "for image in levelImages:\n",
    "    plt.figure()\n",
    "    plt.imshow(image)\n",
    "    plt.axis(False)"
   ]
  },
  {
   "cell_type": "code",
   "execution_count": 17,
   "metadata": {},
   "outputs": [
    {
     "data": {
      "image/png": "[encoded data removed]",
      "text/plain": [
       "<Figure size 1500x1500 with 8 Axes>"
      ]
     },
     "metadata": {},
     "output_type": "display_data"
    }
   ],
   "source": [
    "lrSpritePaths = glob.glob(\"../data/tomData/sprites/loderunner/*\")\n",
    "# lrSpritePaths = glob.glob(\"../data/sprites/loderunner/*\")\n",
    "\n",
    "lrTiles = [cv2.cvtColor(cv2.imread(spritePath), cv2.COLOR_BGR2RGB) for spritePath in lrSpritePaths]\n",
    "\n",
    "fig, axes = plt.subplots(1, 8, figsize=(15, 15))\n",
    "fig.patch.set_color(\"grey\")\n",
    "\n",
    "for i, ax in enumerate(axes):\n",
    "    title = lrSpritePaths[i][lrSpritePaths[i].rfind('/')+1:lrSpritePaths[i].find('.png')]\n",
    "    ax.set_title(\"@/.\" if title == \"@\" else title, color='white', fontsize=40)\n",
    "    ax.axis(False)\n",
    "    ax.imshow(lrTiles[i])"
   ]
  },
  {
   "cell_type": "code",
   "execution_count": 31,
   "metadata": {},
   "outputs": [
    {
     "name": "stdout",
     "output_type": "stream",
     "text": [
      "@\n",
      "@\n",
      "@\n",
      "@\n",
      "@\n",
      "@\n",
      "@\n",
      "@\n",
      "@\n",
      "@\n",
      "@\n",
      "@\n",
      "@\n",
      "@\n",
      "@\n",
      "@\n",
      "@\n",
      "@\n",
      "@\n",
      "@\n",
      "@\n",
      "@\n",
      "@\n",
      "@\n",
      "@\n",
      "@\n",
      "@\n",
      "@\n",
      "@\n",
      "@\n",
      "@\n",
      "@\n",
      "\n",
      "\n",
      "@\n",
      "@\n",
      "E\n",
      "@\n",
      "G\n",
      "@\n",
      "@\n",
      "@\n",
      "@\n",
      "@\n",
      "@\n",
      "@\n",
      "@\n",
      "@\n",
      "@\n",
      "@\n",
      "@\n",
      "@\n",
      "@\n",
      "@\n",
      "@\n",
      "@\n",
      "@\n",
      "@\n",
      "@\n",
      "@\n",
      "@\n",
      "@\n",
      "@\n",
      "@\n",
      "@\n",
      "@\n",
      "\n",
      "\n",
      "b\n",
      "B\n",
      "B\n",
      "b\n",
      "B\n",
      "B\n",
      "b\n",
      "B\n",
      "B\n",
      "B\n",
      "b\n",
      "#\n",
      "b\n",
      "b\n",
      "b\n",
      "b\n",
      "b\n",
      "b\n",
      "B\n",
      "@\n",
      "@\n",
      "@\n",
      "@\n",
      "@\n",
      "@\n",
      "@\n",
      "@\n",
      "@\n",
      "@\n",
      "@\n",
      "@\n",
      "@\n",
      "\n",
      "\n",
      "@\n",
      "@\n",
      "@\n",
      "@\n",
      "@\n",
      "@\n",
      "@\n",
      "@\n",
      "@\n",
      "@\n",
      "@\n",
      "#\n",
      "-\n",
      "-\n",
      "-\n",
      "-\n",
      "-\n",
      "-\n",
      "-\n",
      "-\n",
      "-\n",
      "-\n",
      "-\n",
      "@\n",
      "@\n",
      "@\n",
      "@\n",
      "@\n",
      "@\n",
      "@\n",
      "@\n",
      "@\n",
      "\n",
      "\n",
      "@\n",
      "@\n",
      "@\n",
      "@\n",
      "@\n",
      "@\n",
      "@\n",
      "@\n",
      "@\n",
      "@\n",
      "@\n",
      "#\n",
      "@\n",
      "@\n",
      "@\n",
      "@\n",
      "b\n",
      "b\n",
      "#\n",
      "@\n",
      "@\n",
      "@\n",
      "@\n",
      "@\n",
      "@\n",
      "@\n",
      "@\n",
      "@\n",
      "@\n",
      "@\n",
      "@\n",
      "@\n",
      "\n",
      "\n",
      "@\n",
      "@\n",
      "@\n",
      "@\n",
      "@\n",
      "@\n",
      "@\n",
      "@\n",
      "@\n",
      "@\n",
      "@\n",
      "#\n",
      "@\n",
      "@\n",
      "E\n",
      "@\n",
      "b\n",
      "b\n",
      "#\n",
      "@\n",
      "@\n",
      "@\n",
      "@\n",
      "@\n",
      "@\n",
      "G\n",
      "@\n",
      "@\n",
      "@\n",
      "@\n",
      "@\n",
      "@\n",
      "\n",
      "\n",
      "@\n",
      "@\n",
      "@\n",
      "@\n",
      "@\n",
      "@\n",
      "@\n",
      "@\n",
      "@\n",
      "@\n",
      "@\n",
      "#\n",
      "@\n",
      "@\n",
      "@\n",
      "@\n",
      "b\n",
      "b\n",
      "#\n",
      "@\n",
      "@\n",
      "@\n",
      "b\n",
      "b\n",
      "b\n",
      "b\n",
      "b\n",
      "#\n",
      "b\n",
      "b\n",
      "b\n",
      "b\n",
      "\n",
      "\n",
      "@\n",
      "@\n",
      "@\n",
      "@\n",
      "@\n",
      "@\n",
      "@\n",
      "@\n",
      "@\n",
      "@\n",
      "@\n",
      "#\n",
      "@\n",
      "@\n",
      "@\n",
      "@\n",
      "b\n",
      "b\n",
      "#\n",
      "@\n",
      "@\n",
      "@\n",
      "@\n",
      "@\n",
      "@\n",
      "@\n",
      "@\n",
      "#\n",
      "@\n",
      "@\n",
      "@\n",
      "@\n",
      "\n",
      "\n",
      "@\n",
      "@\n",
      "@\n",
      "@\n",
      "@\n",
      "@\n",
      "@\n",
      "@\n",
      "@\n",
      "@\n",
      "@\n",
      "#\n",
      "@\n",
      "@\n",
      "@\n",
      "@\n",
      "b\n",
      "b\n",
      "#\n",
      "@\n",
      "@\n",
      "@\n",
      "@\n",
      "@\n",
      "@\n",
      "@\n",
      "@\n",
      "#\n",
      "@\n",
      "@\n",
      "@\n",
      "@\n",
      "\n",
      "\n",
      "@\n",
      "@\n",
      "@\n",
      "@\n",
      "@\n",
      "@\n",
      "@\n",
      "@\n",
      "@\n",
      "@\n",
      "@\n",
      "#\n",
      "@\n",
      "@\n",
      "@\n",
      "@\n",
      "b\n",
      "b\n",
      "#\n",
      "@\n",
      "@\n",
      "@\n",
      "@\n",
      "@\n",
      "@\n",
      "@\n",
      "G\n",
      "#\n",
      "@\n",
      "@\n",
      "@\n",
      "@\n",
      "\n",
      "\n",
      "b\n",
      "b\n",
      "b\n",
      "#\n",
      "b\n",
      "b\n",
      "b\n",
      "b\n",
      "b\n",
      "b\n",
      "b\n",
      "b\n",
      "@\n",
      "@\n",
      "@\n",
      "@\n",
      "b\n",
      "b\n",
      "b\n",
      "b\n",
      "b\n",
      "b\n",
      "b\n",
      "b\n",
      "#\n",
      "b\n",
      "b\n",
      "b\n",
      "b\n",
      "b\n",
      "b\n",
      "b\n",
      "\n",
      "\n",
      "@\n",
      "@\n",
      "@\n",
      "#\n",
      "@\n",
      "@\n",
      "@\n",
      "@\n",
      "@\n",
      "@\n",
      "@\n",
      "@\n",
      "@\n",
      "@\n",
      "@\n",
      "@\n",
      "@\n",
      "@\n",
      "@\n",
      "@\n",
      "@\n",
      "@\n",
      "@\n",
      "@\n",
      "#\n",
      "@\n",
      "@\n",
      "@\n",
      "@\n",
      "@\n",
      "@\n",
      "@\n",
      "\n",
      "\n",
      "@\n",
      "@\n",
      "@\n",
      "#\n",
      "@\n",
      "@\n",
      "@\n",
      "@\n",
      "@\n",
      "@\n",
      "@\n",
      "@\n",
      "@\n",
      "@\n",
      "@\n",
      "@\n",
      "@\n",
      "@\n",
      "@\n",
      "@\n",
      "@\n",
      "@\n",
      "@\n",
      "@\n",
      "#\n",
      "@\n",
      "@\n",
      "@\n",
      "@\n",
      "@\n",
      "@\n",
      "@\n",
      "\n",
      "\n",
      "@\n",
      "@\n",
      "@\n",
      "#\n",
      "@\n",
      "@\n",
      "@\n",
      "@\n",
      "@\n",
      "@\n",
      "@\n",
      "@\n",
      "@\n",
      "@\n",
      "@\n",
      "@\n",
      "@\n",
      "@\n",
      "@\n",
      "@\n",
      "@\n",
      "@\n",
      "@\n",
      "@\n",
      "#\n",
      "@\n",
      "@\n",
      "@\n",
      "@\n",
      "@\n",
      "@\n",
      "@\n",
      "\n",
      "\n",
      "b\n",
      "b\n",
      "b\n",
      "b\n",
      "b\n",
      "b\n",
      "b\n",
      "b\n",
      "b\n",
      "b\n",
      "b\n",
      "b\n",
      "b\n",
      "b\n",
      "#\n",
      "b\n",
      "b\n",
      "b\n",
      "b\n",
      "b\n",
      "b\n",
      "b\n",
      "b\n",
      "b\n",
      "#\n",
      "@\n",
      "@\n",
      "@\n",
      "@\n",
      "@\n",
      "@\n",
      "@\n",
      "\n",
      "\n",
      "@\n",
      "@\n",
      "@\n",
      "@\n",
      "@\n",
      "@\n",
      "@\n",
      "@\n",
      "@\n",
      "@\n",
      "@\n",
      "@\n",
      "@\n",
      "@\n",
      "#\n",
      "@\n",
      "@\n",
      "@\n",
      "@\n",
      "@\n",
      "@\n",
      "@\n",
      "@\n",
      "@\n",
      "#\n",
      "@\n",
      "@\n",
      "@\n",
      "@\n",
      "@\n",
      "@\n",
      "@\n",
      "\n",
      "\n",
      "@\n",
      "@\n",
      "@\n",
      "@\n",
      "@\n",
      "@\n",
      "@\n",
      "@\n",
      "@\n",
      "@\n",
      "@\n",
      "@\n",
      "@\n",
      "@\n",
      "#\n",
      "@\n",
      "@\n",
      "@\n",
      "@\n",
      "@\n",
      "@\n",
      "@\n",
      "@\n",
      "@\n",
      "#\n",
      "@\n",
      "@\n",
      "@\n",
      "@\n",
      "@\n",
      "@\n",
      "@\n",
      "\n",
      "\n",
      "@\n",
      "@\n",
      "@\n",
      "@\n",
      "@\n",
      "@\n",
      "@\n",
      "@\n",
      "@\n",
      "@\n",
      "E\n",
      "@\n",
      "G\n",
      "@\n",
      "#\n",
      "-\n",
      "-\n",
      "-\n",
      "-\n",
      "-\n",
      "-\n",
      "-\n",
      "-\n",
      "-\n",
      "#\n",
      "@\n",
      "@\n",
      "G\n",
      "@\n",
      "E\n",
      "@\n",
      "@\n",
      "\n",
      "\n",
      "@\n",
      "@\n",
      "@\n",
      "@\n",
      "@\n",
      "@\n",
      "#\n",
      "b\n",
      "b\n",
      "b\n",
      "b\n",
      "b\n",
      "b\n",
      "b\n",
      "b\n",
      "b\n",
      "@\n",
      "@\n",
      "@\n",
      "@\n",
      "@\n",
      "@\n",
      "@\n",
      "@\n",
      "b\n",
      "b\n",
      "b\n",
      "b\n",
      "b\n",
      "b\n",
      "b\n",
      "#\n",
      "\n",
      "\n",
      "@\n",
      "@\n",
      "@\n",
      "@\n",
      "@\n",
      "@\n",
      "#\n",
      "@\n",
      "@\n",
      "@\n",
      "@\n",
      "@\n",
      "@\n",
      "@\n",
      "@\n",
      "@\n",
      "@\n",
      "@\n",
      "@\n",
      "@\n",
      "@\n",
      "@\n",
      "@\n",
      "@\n",
      "@\n",
      "@\n",
      "@\n",
      "@\n",
      "@\n",
      "@\n",
      "@\n",
      "#\n",
      "\n",
      "\n",
      "@\n",
      "@\n",
      "@\n",
      "@\n",
      "@\n",
      "@\n",
      "#\n",
      "@\n",
      "@\n",
      "@\n",
      "@\n",
      "@\n",
      "@\n",
      "@\n",
      "@\n",
      "@\n",
      "@\n",
      "M\n",
      "@\n",
      "@\n",
      "G\n",
      "@\n",
      "@\n",
      "@\n",
      "@\n",
      "@\n",
      "@\n",
      "@\n",
      "@\n",
      "@\n",
      "@\n",
      "#\n",
      "\n",
      "\n",
      "b\n",
      "b\n",
      "b\n",
      "b\n",
      "b\n",
      "b\n",
      "b\n",
      "b\n",
      "b\n",
      "b\n",
      "b\n",
      "b\n",
      "b\n",
      "b\n",
      "b\n",
      "b\n",
      "b\n",
      "b\n",
      "b\n",
      "b\n",
      "b\n",
      "b\n",
      "b\n",
      "b\n",
      "b\n",
      "b\n",
      "b\n",
      "b\n",
      "b\n",
      "b\n",
      "b\n",
      "b\n",
      "\n",
      "\n"
     ]
    }
   ],
   "source": [
    "lrSpritePaths = glob.glob(\"/home/surfytom/Projects/Dissertation/Repos/TileEmbeddingDissertation/data/tomData/sprites/loderunner/*.png\")\n",
    "lrSprites = {path[path.rfind(\"/\")+1:path.rfind(\".png\")]: cv2.cvtColor(cv2.imread(path), cv2.COLOR_BGR2RGB) for path in lrSpritePaths}\n",
    "\n",
    "lrLevel1ImageCopy = lrLevel1Image.copy()\n",
    "\n",
    "tiles = \"\"\n",
    "for i in range(0, lrLevel1ImageCopy.shape[0], 16):\n",
    "    for j in range(0, lrLevel1ImageCopy.shape[1], 16):\n",
    "        for k, v in lrSprites.items():\n",
    "            if (lrLevel1ImageCopy[i:i+16, j:j+16, :] == v).all():\n",
    "                tiles += k\n",
    "    \n",
    "    tiles += \"\\n\"\n",
    "\n",
    "for row in tiles:\n",
    "    print(row)\n",
    "\n",
    "with open(f\"test.txt\", \"w\") as f:\n",
    "        f.writelines(tiles)"
   ]
  },
  {
   "cell_type": "code",
   "execution_count": 9,
   "metadata": {},
   "outputs": [
    {
     "data": {
      "text/plain": [
       "<matplotlib.image.AxesImage at 0x7f895464b910>"
      ]
     },
     "execution_count": 9,
     "metadata": {},
     "output_type": "execute_result"
    },
    {
     "data": {
      "image/png": "[encoded data removed]",
      "text/plain": [
       "<Figure size 640x480 with 1 Axes>"
      ]
     },
     "metadata": {},
     "output_type": "display_data"
    }
   ],
   "source": [
    "plt.imshow(lrLevel1ImageCopy)"
   ]
  },
  {
   "cell_type": "code",
   "execution_count": null,
   "metadata": {},
   "outputs": [],
   "source": [
    "lrImages = glob.glob(\"/home/surfytom/Projects/Dissertation/Repos/TileEmbeddingDissertation/data/tomData/sprites/loderunner/*.png\")\n",
    "\n",
    "lrSpritePaths = glob.glob(\"/home/surfytom/Projects/Dissertation/Repos/TileEmbeddingDissertation/data/tomData/sprites/loderunner/*.png\")\n",
    "lrSprites = {path[path.rfind(\"/\")+1:path.rfind(\".png\")]: cv2.cvtColor(cv2.imread(path), cv2.COLOR_BGR2RGB) for path in lrSpritePaths}\n",
    "\n",
    "tiles = \"\"\n",
    "for t in range(0, levelImage.shape[0], 16):\n",
    "    for p in range(0, levelImage.shape[1], 16):\n",
    "        for k, v in lrSprites.items():\n",
    "            if (levelImage[t:t+16, p:p+16, :] == v).all():\n",
    "                tiles += k\n",
    "        \n",
    "    tiles += \"\\n\""
   ]
  },
  {
   "cell_type": "code",
   "execution_count": 30,
   "metadata": {},
   "outputs": [
    {
     "name": "stdout",
     "output_type": "stream",
     "text": [
      "['.' '.' '.']\n",
      "['.' '.' 'E']\n",
      "['b' 'B' 'B']\n"
     ]
    },
    {
     "data": {
      "text/plain": [
       "(np.float64(-0.5), np.float64(47.5), np.float64(47.5), np.float64(-0.5))"
      ]
     },
     "execution_count": 30,
     "metadata": {},
     "output_type": "execute_result"
    },
    {
     "data": {
      "image/png": "[encoded data removed]",
      "text/plain": [
       "<Figure size 640x480 with 1 Axes>"
      ]
     },
     "metadata": {},
     "output_type": "display_data"
    }
   ],
   "source": [
    "import Utils.Data.DataLoading as DataLoading\n",
    "import Utils.Data.DataGen as DataGen\n",
    "\n",
    "lrLevel1String = \"../data/vglc/Lode Runner/Processed/Level 1.txt\"\n",
    "\n",
    "with open(lrLevel1String, \"r\") as f:\n",
    "    levelString = np.array([list(line[:-1]) for line in f.readlines()])\n",
    "\n",
    "levelString = DataGen.ResizeLevel(levelString, 1, 3)\n",
    "\n",
    "for row in levelString[0]:\n",
    "    print(row)\n",
    "\n",
    "levelImage = DataLoading.TextTileToImage(levelString[0], 16, \"../data/tomData/sprites/loderunner\")\n",
    "plt.imshow(levelImage)\n",
    "plt.axis(False)"
   ]
  },
  {
   "cell_type": "code",
   "execution_count": 33,
   "metadata": {},
   "outputs": [
    {
     "data": {
      "image/png": "[encoded data removed]",
      "text/plain": [
       "<Figure size 1500x1500 with 8 Axes>"
      ]
     },
     "metadata": {},
     "output_type": "display_data"
    }
   ],
   "source": [
    "lrSpritePaths = glob.glob(\"../data/tomData/sprites/loderunner/*\")\n",
    "# lrSpritePaths = glob.glob(\"../data/sprites/loderunner/*\")\n",
    "\n",
    "lrTiles = [cv2.cvtColor(cv2.imread(spritePath), cv2.COLOR_BGR2RGB) for spritePath in lrSpritePaths]\n",
    "\n",
    "fig, axes = plt.subplots(8, 1, figsize=(15, 15))\n",
    "fig.patch.set_color(\"grey\")\n",
    "\n",
    "for j, ax in enumerate(axes):\n",
    "    #for j, ax in enumerate(row):\n",
    "    title = lrSpritePaths[j][lrSpritePaths[j].rfind('/')+1:lrSpritePaths[j].find('.png')]\n",
    "\n",
    "    ax.axis(False)\n",
    "    ax.imshow(lrTiles[j])"
   ]
  }
 ],
 "metadata": {
  "kernelspec": {
   "display_name": "DissEnvFinal",
   "language": "python",
   "name": "python3"
  },
  "language_info": {
   "codemirror_mode": {
    "name": "ipython",
    "version": 3
   },
   "file_extension": ".py",
   "mimetype": "text/x-python",
   "name": "python",
   "nbconvert_exporter": "python",
   "pygments_lexer": "ipython3",
   "version": "3.10.14"
  }
 },
 "nbformat": 4,
 "nbformat_minor": 2
}
