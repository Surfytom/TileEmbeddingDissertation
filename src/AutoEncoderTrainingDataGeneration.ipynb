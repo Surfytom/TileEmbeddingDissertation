{
 "cells": [
  {
   "cell_type": "code",
   "execution_count": 2,
   "metadata": {},
   "outputs": [],
   "source": [
    "import glob\n",
    "\n",
    "import Utils.Data.DataGen as DataGen"
   ]
  },
  {
   "cell_type": "code",
   "execution_count": 3,
   "metadata": {},
   "outputs": [],
   "source": [
    "loderunnerTextLevelPaths = glob.glob(\"../data/vglc/Lode Runner/Processed/*.txt\")\n",
    "kidicTextLevelPaths = glob.glob(\"../data/vglc/Kid Icarus/Processed/*.txt\")\n",
    "megamanTextLevelPaths = glob.glob(\"../data/vglc/MegaMan/megaman_[0-9]_[0-9].txt\") + glob.glob(\"../data/vglc/MegaMan/megaman_[0-9]_[0-9][0-9].txt\")\n",
    "smbTextLevelPaths = glob.glob(\"../data/vglc/Super Mario Bros/Processed_Fixed/*.txt\")\n",
    "lozTextLevelPaths = glob.glob(\"../data/vglc/The Legend of Zelda/Processed/tloz[0-9]_[0-9].txt\")\n",
    "\n",
    "allLevelPaths = {\n",
    "    \"kidicarus\": {\"levelPaths\": kidicTextLevelPaths, \"spritesPath\" : \"../data/vglc/Kid Icarus/KidIcarus.json\"},\n",
    "    \"loderunner\": {\"levelPaths\": loderunnerTextLevelPaths, \"spritesPath\": \"../data/vglc/Lode Runner/Loderunner.json\"},\n",
    "    \"megaman\": {\"levelPaths\": megamanTextLevelPaths, \"spritesPath\": \"../data/vglc/MegaMan/megaman.json\"},\n",
    "    \"supermariobros\": {\"levelPaths\": smbTextLevelPaths, \"spritesPath\": \"../data/vglc/Super Mario Bros/smb.json\"},\n",
    "    \"thelegendofzelda\": {\"levelPaths\": lozTextLevelPaths, \"spritesPath\": \"../data/vglc/The Legend of Zelda/loz.json\"},\n",
    "}"
   ]
  },
  {
   "cell_type": "code",
   "execution_count": 4,
   "metadata": {},
   "outputs": [
    {
     "name": "stdout",
     "output_type": "stream",
     "text": [
      "Folder Name: kidicarus\n",
      "Folder Name: loderunner\n",
      "Folder Name: megaman\n",
      "Folder Name: supermariobros\n",
      "Folder Name: thelegendofzelda\n",
      "Total Unique Combos of Tiles: 19992\n"
     ]
    }
   ],
   "source": [
    "DataGen.GenerateData(allLevelPaths, \"../data/unshuffled3x3tiles.csv\")"
   ]
  }
 ],
 "metadata": {
  "kernelspec": {
   "display_name": "DissEnv",
   "language": "python",
   "name": "python3"
  },
  "language_info": {
   "codemirror_mode": {
    "name": "ipython",
    "version": 3
   },
   "file_extension": ".py",
   "mimetype": "text/x-python",
   "name": "python",
   "nbconvert_exporter": "python",
   "pygments_lexer": "ipython3",
   "version": "3.10.14"
  }
 },
 "nbformat": 4,
 "nbformat_minor": 2
}
